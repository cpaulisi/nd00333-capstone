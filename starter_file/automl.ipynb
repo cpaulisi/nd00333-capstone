{
  "cells": [
    {
      "cell_type": "markdown",
      "source": [
        "# Automated ML\n",
        "\n",
        "TODO: Import Dependencies. In the cell below, import all the dependencies that you will need to complete the project."
      ],
      "metadata": {}
    },
    {
      "cell_type": "code",
      "source": [
        "import logging\n",
        "import os\n",
        "import csv\n",
        "import joblib \n",
        "\n",
        "from matplotlib import pyplot as plt\n",
        "import numpy as np\n",
        "from azureml.core.compute import AmlCompute\n",
        "from azureml.core.compute import ComputeTarget\n",
        "from azureml.core.compute_target import ComputeTargetException\n",
        "import pandas as pd\n",
        "from sklearn import datasets\n",
        "import pkg_resources\n",
        "from azureml.core import Dataset\n",
        "from azureml.widgets import RunDetails\n",
        "from azureml.core.model import Model\n",
        "from azureml.core import Environment\n",
        "from azureml.core.model import InferenceConfig\n",
        "import azureml.core\n",
        "from azureml.core import Experiment\n",
        "from azureml.core import Workspace\n",
        "from azureml.train.automl import AutoMLConfig\n",
        "from azureml.widgets import RunDetails\n",
        "from azureml.core.webservice import AciWebservice\n",
        "from azureml.data.dataset_factory import TabularDatasetFactory\n",
        "from azureml.core.webservice import LocalWebservice\n"
      ],
      "outputs": [],
      "execution_count": 6,
      "metadata": {
        "gather": {
          "logged": 1645759204992
        },
        "jupyter": {
          "outputs_hidden": false,
          "source_hidden": false
        },
        "nteract": {
          "transient": {
            "deleting": false
          }
        }
      }
    },
    {
      "cell_type": "markdown",
      "source": [
        "## Dataset\n",
        "\n",
        "### Overview\n",
        "TODO: In this markdown cell, give an overview of the dataset you are using. Also mention the task you will be performing.\n",
        "\n",
        "The dataset that I am using is a binary classification dataset using wine chemical data. The dataset attempts to classify wine as either 'good' or 'bad' according to professional tasters. The input data contains various data related to consistency and taste parameters of wine. The following AutoML run will train an array of models and rank them based upon their accuracy scores\n",
        "\n",
        "TODO: Get data. In the cell below, write code to access the data you will be using in this project. Remember that the dataset needs to be external."
      ],
      "metadata": {}
    },
    {
      "cell_type": "code",
      "source": [
        "def preprocess(data):\n",
        "    y_df = data.pop(\"quality\").apply(lambda x: 1 if x == \"good\" else 0)\n",
        "    return data, y_df\n",
        "\n",
        "ws = Workspace.from_config()\n",
        "# download csv from git source\n",
        "dataset = pd.read_csv(\"https://raw.githubusercontent.com/cpaulisi/nd00333-capstone/master/starter_file/wine.csv\")\n",
        "x, y = preprocess(dataset)\n",
        "x['y'] = y\n",
        "os.makedirs('data', exist_ok=True)\n",
        "# convert data to tabular dataset\n",
        "x.to_parquet('data/wine.parquet')\n",
        "dataref = ws.get_default_datastore().upload('data')\n",
        "dataset = Dataset.Tabular.from_parquet_files(path = dataref.path('wine.parquet'))\n",
        "\n",
        "# choose a name for experiment\n",
        "experiment_name = 'auto-ml-exp-1'\n",
        "\n",
        "experiment=Experiment(ws, experiment_name)"
      ],
      "outputs": [
        {
          "output_type": "stream",
          "name": "stdout",
          "text": "Uploading an estimated of 1 files\nTarget already exists. Skipping upload for wine.parquet\nUploaded 0 files\n"
        }
      ],
      "execution_count": 7,
      "metadata": {
        "gather": {
          "logged": 1645759211536
        },
        "jupyter": {
          "outputs_hidden": false,
          "source_hidden": false
        },
        "nteract": {
          "transient": {
            "deleting": false
          }
        }
      }
    },
    {
      "cell_type": "markdown",
      "source": [
        "## AutoML Configuration\n",
        "\n",
        "TODO: Explain why you chose the automl settings and cofiguration you used below."
      ],
      "metadata": {}
    },
    {
      "cell_type": "code",
      "source": [
        "# TODO: Put your automl settings here\n",
        "automl_settings = {\n",
        "    \"experiment_timeout_minutes\": 20,\n",
        "    \"max_concurrent_iterations\": 3,\n",
        "    \"primary_metric\" : 'accuracy'\n",
        "}\n",
        "\n",
        "cluster_name = 'automl-cluster'\n",
        "try:\n",
        "    cpu_cluster = ComputeTarget(workspace=ws, name=cluster_name)\n",
        "    print(\"Using existing cluster...\")\n",
        "except ComputeTargetException:\n",
        "    print(\"Creating cluster \" + cluster_name+ \"...\")\n",
        "    compute_config = AmlCompute.provisioning_configuration(\n",
        "        vm_size='Standard_D2_V2', \n",
        "        vm_priority='lowpriority', \n",
        "        max_nodes=4\n",
        "    )\n",
        "    cpu_cluster = ComputeTarget.create(ws, cluster_name, compute_config)\n",
        "\n",
        "cpu_cluster.wait_for_completion(show_output=True)\n",
        "\n",
        "# TODO: Put your automl config here\n",
        "automl_config = AutoMLConfig(\n",
        "    compute_target=cpu_cluster,\n",
        "    task = \"classification\",\n",
        "    training_data=dataset,\n",
        "    label_column_name=\"y\",   \n",
        "    enable_early_stopping= True,\n",
        "    featurization= 'auto',\n",
        "    debug_log = \"automl_errors.log\",\n",
        "    **automl_settings\n",
        ")"
      ],
      "outputs": [
        {
          "output_type": "stream",
          "name": "stdout",
          "text": "Using existing cluster...\nSucceeded\nAmlCompute wait for completion finished\n\nMinimum number of nodes requested have been provisioned\n"
        }
      ],
      "execution_count": 8,
      "metadata": {
        "gather": {
          "logged": 1645759223702
        },
        "jupyter": {
          "outputs_hidden": false,
          "source_hidden": false
        },
        "nteract": {
          "transient": {
            "deleting": false
          }
        }
      }
    },
    {
      "cell_type": "code",
      "source": [
        "# TODO: Submit your experiment\n",
        "remote_run = experiment.submit(automl_config)"
      ],
      "outputs": [
        {
          "output_type": "stream",
          "name": "stdout",
          "text": "Submitting remote run.\n"
        },
        {
          "output_type": "display_data",
          "data": {
            "text/plain": "<IPython.core.display.HTML object>",
            "text/html": "<table style=\"width:100%\"><tr><th>Experiment</th><th>Id</th><th>Type</th><th>Status</th><th>Details Page</th><th>Docs Page</th></tr><tr><td>auto-ml-exp-1</td><td>AutoML_78274bb4-124e-4998-af9b-06d52616b981</td><td>automl</td><td>NotStarted</td><td><a href=\"https://ml.azure.com/runs/AutoML_78274bb4-124e-4998-af9b-06d52616b981?wsid=/subscriptions/1b944a9b-fdae-4f97-aeb1-b7eea0beac53/resourcegroups/aml-quickstarts-187476/workspaces/quick-starts-ws-187476&amp;tid=660b3398-b80e-49d2-bc5b-ac1dc93b5254\" target=\"_blank\" rel=\"noopener\">Link to Azure Machine Learning studio</a></td><td><a href=\"https://docs.microsoft.com/en-us/python/api/overview/azure/ml/intro?view=azure-ml-py\" target=\"_blank\" rel=\"noopener\">Link to Documentation</a></td></tr></table>"
          },
          "metadata": {}
        }
      ],
      "execution_count": 9,
      "metadata": {
        "gather": {
          "logged": 1645759228670
        },
        "jupyter": {
          "outputs_hidden": false,
          "source_hidden": false
        },
        "nteract": {
          "transient": {
            "deleting": false
          }
        }
      }
    },
    {
      "cell_type": "markdown",
      "source": [
        "## Run Details\n",
        "\n",
        "OPTIONAL: Write about the different models trained and their performance. Why do you think some models did better than others?\n",
        "\n",
        "TODO: In the cell below, use the `RunDetails` widget to show the different experiments."
      ],
      "metadata": {}
    },
    {
      "cell_type": "code",
      "source": [
        "\n",
        "RunDetails(remote_run).show()"
      ],
      "outputs": [
        {
          "output_type": "display_data",
          "data": {
            "text/plain": "_AutoMLWidget(widget_settings={'childWidgetDisplay': 'popup', 'send_telemetry': False, 'log_level': 'INFO', 's…",
            "application/vnd.jupyter.widget-view+json": {
              "version_major": 2,
              "version_minor": 0,
              "model_id": "b00bc398ae0f4c749b8a0c9581c52941"
            }
          },
          "metadata": {}
        },
        {
          "output_type": "display_data",
          "data": {
            "application/aml.mini.widget.v1": "{\"status\": \"Completed\", \"workbench_run_details_uri\": \"https://ml.azure.com/runs/AutoML_78274bb4-124e-4998-af9b-06d52616b981?wsid=/subscriptions/1b944a9b-fdae-4f97-aeb1-b7eea0beac53/resourcegroups/aml-quickstarts-187476/workspaces/quick-starts-ws-187476&tid=660b3398-b80e-49d2-bc5b-ac1dc93b5254\", \"run_id\": \"AutoML_78274bb4-124e-4998-af9b-06d52616b981\", \"run_properties\": {\"run_id\": \"AutoML_78274bb4-124e-4998-af9b-06d52616b981\", \"created_utc\": \"2022-02-25T03:20:27.721357Z\", \"properties\": {\"num_iterations\": \"1000\", \"training_type\": \"TrainFull\", \"acquisition_function\": \"EI\", \"primary_metric\": \"accuracy\", \"train_split\": \"0\", \"acquisition_parameter\": \"0\", \"num_cross_validation\": null, \"target\": \"automl-cluster\", \"AMLSettingsJsonString\": \"{\\\"path\\\":null,\\\"name\\\":\\\"auto-ml-exp-1\\\",\\\"subscription_id\\\":\\\"1b944a9b-fdae-4f97-aeb1-b7eea0beac53\\\",\\\"resource_group\\\":\\\"aml-quickstarts-187476\\\",\\\"workspace_name\\\":\\\"quick-starts-ws-187476\\\",\\\"region\\\":\\\"southcentralus\\\",\\\"compute_target\\\":\\\"automl-cluster\\\",\\\"spark_service\\\":null,\\\"azure_service\\\":\\\"remote\\\",\\\"many_models\\\":false,\\\"pipeline_fetch_max_batch_size\\\":1,\\\"enable_batch_run\\\":true,\\\"enable_run_restructure\\\":false,\\\"start_auxiliary_runs_before_parent_complete\\\":false,\\\"enable_code_generation\\\":false,\\\"iterations\\\":1000,\\\"primary_metric\\\":\\\"accuracy\\\",\\\"task_type\\\":\\\"classification\\\",\\\"positive_label\\\":null,\\\"data_script\\\":null,\\\"test_size\\\":0.0,\\\"test_include_predictions_only\\\":false,\\\"validation_size\\\":0.0,\\\"n_cross_validations\\\":null,\\\"y_min\\\":null,\\\"y_max\\\":null,\\\"num_classes\\\":null,\\\"featurization\\\":\\\"auto\\\",\\\"_ignore_package_version_incompatibilities\\\":false,\\\"is_timeseries\\\":false,\\\"max_cores_per_iteration\\\":1,\\\"max_concurrent_iterations\\\":3,\\\"iteration_timeout_minutes\\\":null,\\\"mem_in_mb\\\":null,\\\"enforce_time_on_windows\\\":false,\\\"experiment_timeout_minutes\\\":20,\\\"experiment_exit_score\\\":null,\\\"whitelist_models\\\":null,\\\"blacklist_algos\\\":[\\\"TensorFlowLinearClassifier\\\",\\\"TensorFlowDNN\\\"],\\\"supported_models\\\":[\\\"BernoulliNaiveBayes\\\",\\\"LinearSVM\\\",\\\"DecisionTree\\\",\\\"TensorFlowLinearClassifier\\\",\\\"SVM\\\",\\\"AveragedPerceptronClassifier\\\",\\\"TabnetClassifier\\\",\\\"LightGBM\\\",\\\"RandomForest\\\",\\\"XGBoostClassifier\\\",\\\"TensorFlowDNN\\\",\\\"ExtremeRandomTrees\\\",\\\"KNN\\\",\\\"SGD\\\",\\\"GradientBoosting\\\",\\\"LogisticRegression\\\",\\\"MultinomialNaiveBayes\\\"],\\\"private_models\\\":[],\\\"auto_blacklist\\\":true,\\\"blacklist_samples_reached\\\":false,\\\"exclude_nan_labels\\\":true,\\\"verbosity\\\":20,\\\"_debug_log\\\":\\\"azureml_automl.log\\\",\\\"show_warnings\\\":false,\\\"model_explainability\\\":true,\\\"service_url\\\":null,\\\"sdk_url\\\":null,\\\"sdk_packages\\\":null,\\\"enable_onnx_compatible_models\\\":false,\\\"enable_split_onnx_featurizer_estimator_models\\\":false,\\\"vm_type\\\":\\\"STANDARD_D2_V2\\\",\\\"telemetry_verbosity\\\":20,\\\"send_telemetry\\\":true,\\\"enable_dnn\\\":false,\\\"scenario\\\":\\\"SDK-1.13.0\\\",\\\"environment_label\\\":null,\\\"save_mlflow\\\":false,\\\"enable_categorical_indicators\\\":false,\\\"force_text_dnn\\\":false,\\\"enable_feature_sweeping\\\":true,\\\"enable_early_stopping\\\":true,\\\"early_stopping_n_iters\\\":10,\\\"arguments\\\":null,\\\"dataset_id\\\":null,\\\"hyperdrive_config\\\":null,\\\"validation_dataset_id\\\":null,\\\"run_source\\\":null,\\\"metrics\\\":null,\\\"enable_metric_confidence\\\":false,\\\"enable_ensembling\\\":true,\\\"enable_stack_ensembling\\\":true,\\\"ensemble_iterations\\\":15,\\\"enable_tf\\\":false,\\\"enable_subsampling\\\":null,\\\"subsample_seed\\\":null,\\\"enable_nimbusml\\\":false,\\\"enable_streaming\\\":false,\\\"force_streaming\\\":false,\\\"track_child_runs\\\":true,\\\"allowed_private_models\\\":[],\\\"label_column_name\\\":\\\"y\\\",\\\"weight_column_name\\\":null,\\\"cv_split_column_names\\\":null,\\\"enable_local_managed\\\":false,\\\"_local_managed_run_id\\\":null,\\\"cost_mode\\\":1,\\\"lag_length\\\":0,\\\"metric_operation\\\":\\\"maximize\\\",\\\"preprocess\\\":true}\", \"DataPrepJsonString\": \"{\\\\\\\"training_data\\\\\\\": {\\\\\\\"datasetId\\\\\\\": \\\\\\\"2c490d5d-ea0c-4609-9c74-e35b4888700c\\\\\\\"}, \\\\\\\"datasets\\\\\\\": 0}\", \"EnableSubsampling\": null, \"runTemplate\": \"AutoML\", \"azureml.runsource\": \"automl\", \"display_task_type\": \"classification\", \"dependencies_versions\": \"{\\\"azureml-widgets\\\": \\\"1.38.0\\\", \\\"azureml-train\\\": \\\"1.38.0\\\", \\\"azureml-train-restclients-hyperdrive\\\": \\\"1.38.0\\\", \\\"azureml-train-core\\\": \\\"1.38.0\\\", \\\"azureml-train-automl-client\\\": \\\"1.38.0\\\", \\\"azureml-tensorboard\\\": \\\"1.38.0\\\", \\\"azureml-telemetry\\\": \\\"1.38.0\\\", \\\"azureml-sdk\\\": \\\"1.38.0\\\", \\\"azureml-samples\\\": \\\"0+unknown\\\", \\\"azureml-responsibleai\\\": \\\"1.38.0\\\", \\\"azureml-pipeline\\\": \\\"1.38.0\\\", \\\"azureml-pipeline-steps\\\": \\\"1.38.0\\\", \\\"azureml-pipeline-core\\\": \\\"1.38.0\\\", \\\"azureml-opendatasets\\\": \\\"1.38.0\\\", \\\"azureml-mlflow\\\": \\\"1.38.0\\\", \\\"azureml-interpret\\\": \\\"1.38.0\\\", \\\"azureml-inference-server-http\\\": \\\"0.4.2\\\", \\\"azureml-explain-model\\\": \\\"1.38.0\\\", \\\"azureml-defaults\\\": \\\"1.38.0\\\", \\\"azureml-dataset-runtime\\\": \\\"1.38.0\\\", \\\"azureml-dataprep\\\": \\\"2.26.0\\\", \\\"azureml-dataprep-rslex\\\": \\\"2.2.0\\\", \\\"azureml-dataprep-native\\\": \\\"38.0.0\\\", \\\"azureml-datadrift\\\": \\\"1.38.0\\\", \\\"azureml-core\\\": \\\"1.38.0\\\", \\\"azureml-contrib-services\\\": \\\"1.38.0\\\", \\\"azureml-contrib-server\\\": \\\"1.38.0\\\", \\\"azureml-contrib-reinforcementlearning\\\": \\\"1.38.0\\\", \\\"azureml-contrib-pipeline-steps\\\": \\\"1.38.0\\\", \\\"azureml-contrib-notebook\\\": \\\"1.38.0\\\", \\\"azureml-contrib-fairness\\\": \\\"1.38.0\\\", \\\"azureml-contrib-dataset\\\": \\\"1.38.0\\\", \\\"azureml-cli-common\\\": \\\"1.38.0\\\", \\\"azureml-automl-core\\\": \\\"1.38.0\\\", \\\"azureml-accel-models\\\": \\\"1.38.0\\\"}\", \"_aml_system_scenario_identification\": \"Remote.Parent\", \"ClientType\": \"SDK\", \"environment_cpu_name\": \"AzureML-AutoML\", \"environment_cpu_label\": \"py36\", \"environment_gpu_name\": \"AzureML-AutoML-GPU\", \"environment_gpu_label\": \"py36\", \"root_attribution\": \"automl\", \"attribution\": \"AutoML\", \"Orchestrator\": \"AutoML\", \"CancelUri\": \"https://southcentralus.api.azureml.ms/jasmine/v1.0/subscriptions/1b944a9b-fdae-4f97-aeb1-b7eea0beac53/resourceGroups/aml-quickstarts-187476/providers/Microsoft.MachineLearningServices/workspaces/quick-starts-ws-187476/experimentids/d45e4dd9-61fc-4be0-a5f2-477fd332b6a7/cancel/AutoML_78274bb4-124e-4998-af9b-06d52616b981\", \"ClientSdkVersion\": \"1.38.0\", \"snapshotId\": \"00000000-0000-0000-0000-000000000000\", \"SetupRunId\": \"AutoML_78274bb4-124e-4998-af9b-06d52616b981_setup\", \"SetupRunContainerId\": \"dcid.AutoML_78274bb4-124e-4998-af9b-06d52616b981_setup\", \"FeaturizationRunJsonPath\": \"featurizer_container.json\", \"FeaturizationRunId\": \"AutoML_78274bb4-124e-4998-af9b-06d52616b981_featurize\", \"ProblemInfoJsonString\": \"{\\\"dataset_num_categorical\\\": 0, \\\"is_sparse\\\": false, \\\"subsampling\\\": false, \\\"has_extra_col\\\": true, \\\"dataset_classes\\\": 2, \\\"dataset_features\\\": 11, \\\"dataset_samples\\\": 1599, \\\"single_frequency_class_detected\\\": false}\", \"ModelExplainRunId\": \"AutoML_78274bb4-124e-4998-af9b-06d52616b981_ModelExplain\"}, \"tags\": {\"model_explain_run\": \"best_run\", \"_aml_system_azureml.automlComponent\": \"AutoML\", \"pipeline_id\": \"\", \"score\": \"\", \"predicted_cost\": \"\", \"fit_time\": \"\", \"training_percent\": \"\", \"iteration\": \"\", \"run_preprocessor\": \"\", \"run_algorithm\": \"\", \"dynamic_whitelisting_iterations\": \"<25>;<30>;\", \"_aml_system_azureml.automl_early_exit_message\": \"No scores improved over last 20 iterations, so experiment stopped early. This early stopping behavior can be disabled by setting enable_early_stopping = False in AutoMLConfig for notebook/python SDK runs.\", \"automl_best_child_run_id\": \"AutoML_78274bb4-124e-4998-af9b-06d52616b981_34\", \"model_explain_best_run_child_id\": \"AutoML_78274bb4-124e-4998-af9b-06d52616b981_34\"}, \"end_time_utc\": \"2022-02-25T03:37:39.989991Z\", \"status\": \"Completed\", \"log_files\": {}, \"log_groups\": [], \"run_duration\": \"0:17:12\", \"run_number\": \"1645759227\", \"run_queued_details\": {\"status\": \"Completed\", \"details\": null}}, \"child_runs\": [{\"run_id\": \"AutoML_78274bb4-124e-4998-af9b-06d52616b981_setup\", \"run_number\": 1645759240, \"metric\": null, \"status\": \"Completed\", \"run_type\": \"azureml.scriptrun\", \"training_percent\": null, \"start_time\": \"2022-02-25T03:21:17.243177Z\", \"end_time\": \"2022-02-25T03:21:20.939831Z\", \"created_time\": \"2022-02-25T03:20:40.599941Z\", \"created_time_dt\": \"2022-02-25T03:20:40.599941Z\", \"duration\": \"0:00:40\", \"iteration\": null, \"goal\": null, \"run_name\": \"Completed\", \"run_properties\": null}, {\"run_id\": \"AutoML_78274bb4-124e-4998-af9b-06d52616b981_featurize\", \"run_number\": 1645759281, \"metric\": null, \"status\": \"Completed\", \"run_type\": \"automl.featurization\", \"training_percent\": null, \"start_time\": \"2022-02-25T03:21:21.633439Z\", \"end_time\": \"2022-02-25T03:21:56.320615Z\", \"created_time\": \"2022-02-25T03:21:21.274305Z\", \"created_time_dt\": \"2022-02-25T03:21:21.274305Z\", \"duration\": \"0:00:35\", \"iteration\": null, \"goal\": null, \"run_name\": \"Completed\", \"run_properties\": null}, {\"run_id\": \"AutoML_78274bb4-124e-4998-af9b-06d52616b981_0\", \"run_number\": 1645759317, \"metric\": null, \"status\": \"Completed\", \"run_type\": null, \"training_percent\": \"100\", \"start_time\": \"2022-02-25T03:22:13.51044Z\", \"end_time\": \"2022-02-25T03:22:21.882228Z\", \"created_time\": \"2022-02-25T03:21:57.843629Z\", \"created_time_dt\": \"2022-02-25T03:21:57.843629Z\", \"duration\": \"0:00:24\", \"iteration\": \"0\", \"goal\": \"accuracy_max\", \"run_name\": \"MaxAbsScaler, LightGBM\", \"run_properties\": \"copy=True\", \"primary_metric\": 0.79612258, \"best_metric\": 0.79612258}, {\"run_id\": \"AutoML_78274bb4-124e-4998-af9b-06d52616b981_1\", \"run_number\": 1645759318, \"metric\": null, \"status\": \"Completed\", \"run_type\": null, \"training_percent\": \"100\", \"start_time\": \"2022-02-25T03:22:22.08443Z\", \"end_time\": \"2022-02-25T03:22:32.301681Z\", \"created_time\": \"2022-02-25T03:21:58.491244Z\", \"created_time_dt\": \"2022-02-25T03:21:58.491244Z\", \"duration\": \"0:00:33\", \"iteration\": \"1\", \"goal\": \"accuracy_max\", \"run_name\": \"MaxAbsScaler, XGBoostClassifier\", \"run_properties\": \"copy=True\", \"primary_metric\": 0.77298311, \"best_metric\": 0.79612258}, {\"run_id\": \"AutoML_78274bb4-124e-4998-af9b-06d52616b981_2\", \"run_number\": 1645759319, \"metric\": null, \"status\": \"Completed\", \"run_type\": null, \"training_percent\": \"100\", \"start_time\": \"2022-02-25T03:22:32.499195Z\", \"end_time\": \"2022-02-25T03:22:41.269762Z\", \"created_time\": \"2022-02-25T03:21:59.171424Z\", \"created_time_dt\": \"2022-02-25T03:21:59.171424Z\", \"duration\": \"0:00:42\", \"iteration\": \"2\", \"goal\": \"accuracy_max\", \"run_name\": \"MaxAbsScaler, ExtremeRandomTrees\", \"run_properties\": \"copy=True\", \"primary_metric\": 0.74358974, \"best_metric\": 0.79612258}, {\"run_id\": \"AutoML_78274bb4-124e-4998-af9b-06d52616b981_4\", \"run_number\": 1645759320, \"metric\": null, \"status\": \"Completed\", \"run_type\": null, \"training_percent\": \"100\", \"start_time\": \"2022-02-25T03:22:50.459926Z\", \"end_time\": \"2022-02-25T03:22:58.426422Z\", \"created_time\": \"2022-02-25T03:22:00.128775Z\", \"created_time_dt\": \"2022-02-25T03:22:00.128775Z\", \"duration\": \"0:00:58\", \"iteration\": \"4\", \"goal\": \"accuracy_max\", \"run_name\": \"StandardScalerWrapper, KNN\", \"run_properties\": \"\\n    copy=True,\\n    with_mean=False,\\n    with_std=False\\n\", \"primary_metric\": 0.71794872, \"best_metric\": 0.79612258}, {\"run_id\": \"AutoML_78274bb4-124e-4998-af9b-06d52616b981_6\", \"run_number\": 1645759321, \"metric\": null, \"status\": \"Completed\", \"run_type\": null, \"training_percent\": \"100\", \"start_time\": \"2022-02-25T03:23:06.82666Z\", \"end_time\": \"2022-02-25T03:23:14.818515Z\", \"created_time\": \"2022-02-25T03:22:01.236289Z\", \"created_time_dt\": \"2022-02-25T03:22:01.236289Z\", \"duration\": \"0:01:13\", \"iteration\": \"6\", \"goal\": \"accuracy_max\", \"run_name\": \"RobustScaler, LogisticRegression\", \"run_properties\": \"copy=True, quantile_range=[10, 90], with_centering=True,\\n             with_scaling=True\", \"primary_metric\": 0.73858662, \"best_metric\": 0.79612258}, {\"run_id\": \"AutoML_78274bb4-124e-4998-af9b-06d52616b981_8\", \"run_number\": 1645759322, \"metric\": null, \"status\": \"Completed\", \"run_type\": null, \"training_percent\": \"100\", \"start_time\": \"2022-02-25T03:23:43.690834Z\", \"end_time\": \"2022-02-25T03:23:51.586972Z\", \"created_time\": \"2022-02-25T03:22:02.543467Z\", \"created_time_dt\": \"2022-02-25T03:22:02.543467Z\", \"duration\": \"0:01:49\", \"iteration\": \"8\", \"goal\": \"accuracy_max\", \"run_name\": \"StandardScalerWrapper, KNN\", \"run_properties\": \"\\n    copy=True,\\n    with_mean=False,\\n    with_std=False\\n\", \"primary_metric\": 0.72482802, \"best_metric\": 0.79612258}, {\"run_id\": \"AutoML_78274bb4-124e-4998-af9b-06d52616b981_9\", \"run_number\": 1645759323, \"metric\": null, \"status\": \"Completed\", \"run_type\": null, \"training_percent\": \"100\", \"start_time\": \"2022-02-25T03:23:51.785257Z\", \"end_time\": \"2022-02-25T03:24:01.120494Z\", \"created_time\": \"2022-02-25T03:22:03.121534Z\", \"created_time_dt\": \"2022-02-25T03:22:03.121534Z\", \"duration\": \"0:01:57\", \"iteration\": \"9\", \"goal\": \"accuracy_max\", \"run_name\": \"StandardScalerWrapper, SVM\", \"run_properties\": \"\\n    copy=True,\\n    with_mean=True,\\n    with_std=True\\n\", \"primary_metric\": 0.76110069, \"best_metric\": 0.79612258}, {\"run_id\": \"AutoML_78274bb4-124e-4998-af9b-06d52616b981_11\", \"run_number\": 1645759324, \"metric\": null, \"status\": \"Completed\", \"run_type\": null, \"training_percent\": \"100\", \"start_time\": \"2022-02-25T03:24:09.531148Z\", \"end_time\": \"2022-02-25T03:24:18.897308Z\", \"created_time\": \"2022-02-25T03:22:04.176349Z\", \"created_time_dt\": \"2022-02-25T03:22:04.176349Z\", \"duration\": \"0:02:14\", \"iteration\": \"11\", \"goal\": \"accuracy_max\", \"run_name\": \"MinMaxScaler, RandomForest\", \"run_properties\": \"copy=True, feature_range=(0, 1\", \"primary_metric\": 0.7191995, \"best_metric\": 0.79612258}, {\"run_id\": \"AutoML_78274bb4-124e-4998-af9b-06d52616b981_worker_1\", \"run_number\": 1645759325, \"metric\": null, \"status\": \"Completed\", \"run_type\": \"azureml.scriptrun\", \"training_percent\": null, \"start_time\": \"2022-02-25T03:24:14.291166Z\", \"end_time\": \"2022-02-25T03:24:40.571651Z\", \"created_time\": \"2022-02-25T03:22:05.624201Z\", \"created_time_dt\": \"2022-02-25T03:22:05.624201Z\", \"duration\": \"0:02:34\", \"iteration\": null, \"goal\": null, \"run_name\": \"Completed\", \"run_properties\": null}, {\"run_id\": \"AutoML_78274bb4-124e-4998-af9b-06d52616b981_15\", \"run_number\": 1645759326, \"metric\": null, \"status\": \"Completed\", \"run_type\": null, \"training_percent\": \"100\", \"start_time\": \"2022-02-25T03:29:51.707983Z\", \"end_time\": \"2022-02-25T03:29:59.88153Z\", \"created_time\": \"2022-02-25T03:22:06.308763Z\", \"created_time_dt\": \"2022-02-25T03:22:06.308763Z\", \"duration\": \"0:07:53\", \"iteration\": \"15\", \"goal\": \"accuracy_max\", \"run_name\": \"MinMaxScaler, KNN\", \"run_properties\": \"copy=True, feature_range=(0, 1\", \"primary_metric\": 0.78486554, \"best_metric\": 0.79612258}, {\"run_id\": \"AutoML_78274bb4-124e-4998-af9b-06d52616b981_17\", \"run_number\": 1645759327, \"metric\": null, \"status\": \"Completed\", \"run_type\": null, \"training_percent\": \"100\", \"start_time\": \"2022-02-25T03:30:08.259651Z\", \"end_time\": \"2022-02-25T03:30:16.47868Z\", \"created_time\": \"2022-02-25T03:22:07.262892Z\", \"created_time_dt\": \"2022-02-25T03:22:07.262892Z\", \"duration\": \"0:08:09\", \"iteration\": \"17\", \"goal\": \"accuracy_max\", \"run_name\": \"MaxAbsScaler, LogisticRegression\", \"run_properties\": \"copy=True\", \"primary_metric\": 0.74108818, \"best_metric\": 0.79612258}, {\"run_id\": \"AutoML_78274bb4-124e-4998-af9b-06d52616b981_worker_2\", \"run_number\": 1645759328, \"metric\": null, \"status\": \"Completed\", \"run_type\": \"azureml.scriptrun\", \"training_percent\": null, \"start_time\": \"2022-02-25T03:24:45.95285Z\", \"end_time\": \"2022-02-25T03:30:37.834479Z\", \"created_time\": \"2022-02-25T03:22:08.496525Z\", \"created_time_dt\": \"2022-02-25T03:22:08.496525Z\", \"duration\": \"0:08:29\", \"iteration\": null, \"goal\": null, \"run_name\": \"Completed\", \"run_properties\": null}, {\"run_id\": \"AutoML_78274bb4-124e-4998-af9b-06d52616b981_20\", \"run_number\": 1645759819, \"metric\": null, \"status\": \"Completed\", \"run_type\": \"azureml.scriptrun\", \"training_percent\": \"100\", \"start_time\": \"2022-02-25T03:30:41.277589Z\", \"end_time\": \"2022-02-25T03:30:44.881073Z\", \"created_time\": \"2022-02-25T03:30:19.468635Z\", \"created_time_dt\": \"2022-02-25T03:30:19.468635Z\", \"duration\": \"0:00:25\", \"iteration\": \"20\", \"goal\": \"accuracy_max\", \"run_name\": \"MaxAbsScaler, LogisticRegression\", \"run_properties\": \"copy=True\", \"primary_metric\": 0.74171357, \"best_metric\": 0.79612258}, {\"run_id\": \"AutoML_78274bb4-124e-4998-af9b-06d52616b981_22\", \"run_number\": 1645759847, \"metric\": null, \"status\": \"Completed\", \"run_type\": \"azureml.scriptrun\", \"training_percent\": \"100\", \"start_time\": \"2022-02-25T03:31:10.789801Z\", \"end_time\": \"2022-02-25T03:31:14.441811Z\", \"created_time\": \"2022-02-25T03:30:47.408896Z\", \"created_time_dt\": \"2022-02-25T03:30:47.408896Z\", \"duration\": \"0:00:27\", \"iteration\": \"22\", \"goal\": \"accuracy_max\", \"run_name\": \"SparseNormalizer, RandomForest\", \"run_properties\": \"copy=True, norm='l2'\", \"primary_metric\": 0.74358974, \"best_metric\": 0.79612258}, {\"run_id\": \"AutoML_78274bb4-124e-4998-af9b-06d52616b981_24\", \"run_number\": 1645759876, \"metric\": null, \"status\": \"Completed\", \"run_type\": \"azureml.scriptrun\", \"training_percent\": \"100\", \"start_time\": \"2022-02-25T03:32:46.134869Z\", \"end_time\": \"2022-02-25T03:32:49.780179Z\", \"created_time\": \"2022-02-25T03:31:16.254332Z\", \"created_time_dt\": \"2022-02-25T03:31:16.254332Z\", \"duration\": \"0:01:33\", \"iteration\": \"24\", \"goal\": \"accuracy_max\", \"run_name\": \"StandardScalerWrapper, LightGBM\", \"run_properties\": \"\\n    copy=True,\\n    with_mean=False,\\n    with_std=False\\n\", \"primary_metric\": 0.74609131, \"best_metric\": 0.79612258}, {\"run_id\": \"AutoML_78274bb4-124e-4998-af9b-06d52616b981_25\", \"run_number\": 1645759880, \"metric\": null, \"status\": \"Completed\", \"run_type\": \"azureml.scriptrun\", \"training_percent\": \"100\", \"start_time\": \"2022-02-25T03:33:13.298054Z\", \"end_time\": \"2022-02-25T03:33:16.90853Z\", \"created_time\": \"2022-02-25T03:31:20.053322Z\", \"created_time_dt\": \"2022-02-25T03:31:20.053322Z\", \"duration\": \"0:01:56\", \"iteration\": \"25\", \"goal\": \"accuracy_max\", \"run_name\": \"PCA, KNN\", \"run_properties\": \"copy=True, iterated_power='auto', n_components=0.5047368421052632,\\n    random_state=None, svd_solver='auto', tol=0.0, whiten=True\", \"primary_metric\": 0.57723577, \"best_metric\": 0.79612258}, {\"run_id\": \"AutoML_78274bb4-124e-4998-af9b-06d52616b981_26\", \"run_number\": 1645759971, \"metric\": null, \"status\": \"Completed\", \"run_type\": \"azureml.scriptrun\", \"training_percent\": \"100\", \"start_time\": \"2022-02-25T03:33:15.247041Z\", \"end_time\": \"2022-02-25T03:33:18.83424Z\", \"created_time\": \"2022-02-25T03:32:51.753888Z\", \"created_time_dt\": \"2022-02-25T03:32:51.753888Z\", \"duration\": \"0:00:27\", \"iteration\": \"26\", \"goal\": \"accuracy_max\", \"run_name\": \"MaxAbsScaler, RandomForest\", \"run_properties\": \"copy=True\", \"primary_metric\": 0.73358349, \"best_metric\": 0.79612258}, {\"run_id\": \"AutoML_78274bb4-124e-4998-af9b-06d52616b981_27\", \"run_number\": 1645759998, \"metric\": null, \"status\": \"Completed\", \"run_type\": \"azureml.scriptrun\", \"training_percent\": \"100\", \"start_time\": \"2022-02-25T03:34:49.163288Z\", \"end_time\": \"2022-02-25T03:34:52.778031Z\", \"created_time\": \"2022-02-25T03:33:18.706211Z\", \"created_time_dt\": \"2022-02-25T03:33:18.706211Z\", \"duration\": \"0:01:34\", \"iteration\": \"27\", \"goal\": \"accuracy_max\", \"run_name\": \"StandardScalerWrapper, LightGBM\", \"run_properties\": \"\\n    copy=True,\\n    with_mean=False,\\n    with_std=True\\n\", \"primary_metric\": 0.74358974, \"best_metric\": 0.79612258}, {\"run_id\": \"AutoML_78274bb4-124e-4998-af9b-06d52616b981_28\", \"run_number\": 1645760001, \"metric\": null, \"status\": \"Completed\", \"run_type\": \"azureml.scriptrun\", \"training_percent\": \"100\", \"start_time\": \"2022-02-25T03:35:14.408692Z\", \"end_time\": \"2022-02-25T03:35:18.022961Z\", \"created_time\": \"2022-02-25T03:33:21.78072Z\", \"created_time_dt\": \"2022-02-25T03:33:21.78072Z\", \"duration\": \"0:01:56\", \"iteration\": \"28\", \"goal\": \"accuracy_max\", \"run_name\": \"MaxAbsScaler, LightGBM\", \"run_properties\": \"copy=True\", \"primary_metric\": 0.75984991, \"best_metric\": 0.79612258}, {\"run_id\": \"AutoML_78274bb4-124e-4998-af9b-06d52616b981_29\", \"run_number\": 1645760094, \"metric\": null, \"status\": \"Completed\", \"run_type\": \"azureml.scriptrun\", \"training_percent\": \"100\", \"start_time\": \"2022-02-25T03:35:16.987812Z\", \"end_time\": \"2022-02-25T03:35:20.595159Z\", \"created_time\": \"2022-02-25T03:34:54.728218Z\", \"created_time_dt\": \"2022-02-25T03:34:54.728218Z\", \"duration\": \"0:00:25\", \"iteration\": \"29\", \"goal\": \"accuracy_max\", \"run_name\": \"StandardScalerWrapper, XGBoostClassifier\", \"run_properties\": \"\\n    copy=True,\\n    with_mean=False,\\n    with_std=False\\n\", \"primary_metric\": 0.76672921, \"best_metric\": 0.79612258}, {\"run_id\": \"AutoML_78274bb4-124e-4998-af9b-06d52616b981_30\", \"run_number\": 1645760120, \"metric\": null, \"status\": \"Completed\", \"run_type\": \"azureml.scriptrun\", \"training_percent\": \"100\", \"start_time\": \"2022-02-25T03:36:43.131215Z\", \"end_time\": \"2022-02-25T03:36:46.786718Z\", \"created_time\": \"2022-02-25T03:35:20.836664Z\", \"created_time_dt\": \"2022-02-25T03:35:20.836664Z\", \"duration\": \"0:01:25\", \"iteration\": \"30\", \"goal\": \"accuracy_max\", \"run_name\": \"TruncatedSVDWrapper, KNN\", \"run_properties\": \"n_components=0.6531578947368422, random_state=None\", \"primary_metric\": 0.65478424, \"best_metric\": 0.79612258}, {\"run_id\": \"AutoML_78274bb4-124e-4998-af9b-06d52616b981_31\", \"run_number\": 1645760123, \"metric\": null, \"status\": \"Completed\", \"run_type\": \"azureml.scriptrun\", \"training_percent\": \"100\", \"start_time\": \"2022-02-25T03:36:44.478754Z\", \"end_time\": \"2022-02-25T03:36:48.089556Z\", \"created_time\": \"2022-02-25T03:35:23.391124Z\", \"created_time_dt\": \"2022-02-25T03:35:23.391124Z\", \"duration\": \"0:01:24\", \"iteration\": \"31\", \"goal\": \"accuracy_max\", \"run_name\": \"StandardScalerWrapper, LogisticRegression\", \"run_properties\": \"\\n    copy=True,\\n    with_mean=True,\\n    with_std=True\\n\", \"primary_metric\": 0.74046279, \"best_metric\": 0.79612258}, {\"run_id\": \"AutoML_78274bb4-124e-4998-af9b-06d52616b981_32\", \"run_number\": 1645760146, \"metric\": null, \"status\": \"Canceled\", \"run_type\": \"azureml.scriptrun\", \"training_percent\": \"100\", \"start_time\": \"2022-02-25T03:36:50.187369Z\", \"end_time\": \"2022-02-25T03:36:50.413415Z\", \"created_time\": \"2022-02-25T03:35:46.906134Z\", \"created_time_dt\": \"2022-02-25T03:35:46.906134Z\", \"duration\": \"0:01:03\", \"iteration\": \"32\", \"goal\": null, \"run_name\": \"Canceled\", \"run_properties\": null}, {\"run_id\": \"AutoML_78274bb4-124e-4998-af9b-06d52616b981_33\", \"run_number\": 1645760208, \"metric\": null, \"status\": \"Canceled\", \"run_type\": \"azureml.scriptrun\", \"training_percent\": \"100\", \"start_time\": \"2022-02-25T03:36:50.157373Z\", \"end_time\": \"2022-02-25T03:36:50.787373Z\", \"created_time\": \"2022-02-25T03:36:48.479212Z\", \"created_time_dt\": \"2022-02-25T03:36:48.479212Z\", \"duration\": \"0:00:02\", \"iteration\": \"33\", \"goal\": null, \"run_name\": \"Canceled\", \"run_properties\": null}, {\"run_id\": \"AutoML_78274bb4-124e-4998-af9b-06d52616b981_34\", \"run_number\": 1645760211, \"metric\": null, \"status\": \"Completed\", \"run_type\": \"azureml.scriptrun\", \"training_percent\": \"100\", \"start_time\": \"2022-02-25T03:37:33.082807Z\", \"end_time\": \"2022-02-25T03:37:36.677803Z\", \"created_time\": \"2022-02-25T03:36:51.72734Z\", \"created_time_dt\": \"2022-02-25T03:36:51.72734Z\", \"duration\": \"0:00:44\", \"iteration\": \"34\", \"goal\": \"accuracy_max\", \"run_name\": \"VotingEnsemble\", \"run_properties\": \"\\n    estimators=[('13', Pipeline(\\n        memory=None,\\n        steps=[('standardscalerwrapper', StandardScalerWrapper(\\n            copy=True,\\n            with_mean=False,\\n            with_std=True\\n        \", \"primary_metric\": 0.82426517, \"best_metric\": 0.82426517}], \"children_metrics\": {\"categories\": [0], \"series\": {\"AUC_micro\": [{\"categories\": [\"0\", \"1\", \"2\", \"4\", \"6\", \"8\", \"9\", \"11\", \"15\", \"17\", \"20\", \"22\", \"24\", \"25\", \"26\", \"27\", \"28\", \"29\", \"30\", \"31\", \"34\"], \"mode\": \"markers\", \"name\": \"AUC_micro\", \"stepped\": false, \"type\": \"scatter\", \"data\": [0.8686374105767324, 0.8505315822388994, 0.8117467882717504, 0.79573537400838, 0.8150039834934358, 0.8163157789753681, 0.8401205256099321, 0.806132350542729, 0.8607337841310293, 0.8139315496200134, 0.8155566272072016, 0.8129107427601913, 0.8259360036232777, 0.6107675176910522, 0.8173013855986446, 0.819564760808526, 0.8384097941138166, 0.8411049588919904, 0.7297484239094086, 0.8150614772131268, 0.8879330069098064]}, {\"categories\": [\"0\", \"1\", \"2\", \"4\", \"6\", \"8\", \"9\", \"11\", \"15\", \"17\", \"20\", \"22\", \"24\", \"25\", \"26\", \"27\", \"28\", \"29\", \"30\", \"31\", \"34\"], \"mode\": \"lines\", \"name\": \"AUC_micro_max\", \"stepped\": true, \"type\": \"scatter\", \"data\": [0.8686374105767324, 0.8686374105767324, 0.8686374105767324, 0.8686374105767324, 0.8686374105767324, 0.8686374105767324, 0.8686374105767324, 0.8686374105767324, 0.8686374105767324, 0.8686374105767324, 0.8686374105767324, 0.8686374105767324, 0.8686374105767324, 0.8686374105767324, 0.8686374105767324, 0.8686374105767324, 0.8686374105767324, 0.8686374105767324, 0.8686374105767324, 0.8686374105767324, 0.8879330069098064]}], \"norm_macro_recall\": [{\"categories\": [\"0\", \"1\", \"2\", \"4\", \"6\", \"8\", \"9\", \"11\", \"15\", \"17\", \"20\", \"22\", \"24\", \"25\", \"26\", \"27\", \"28\", \"29\", \"30\", \"31\", \"34\"], \"mode\": \"markers\", \"name\": \"norm_macro_recall\", \"stepped\": false, \"type\": \"scatter\", \"data\": [0.5888453864039572, 0.5442430397648087, 0.4923104144322723, 0.4340162994591192, 0.48033719740344355, 0.44795895025869364, 0.5202779622149868, 0.4398437989640181, 0.5646958679830909, 0.4817556037755986, 0.4838630269891002, 0.48468164159471666, 0.4891797440934666, 0.14591719529137093, 0.4655125065557772, 0.4812925250923574, 0.5157494596365658, 0.532244973089016, 0.3148484185166065, 0.48128902441509763, 0.6445953848469744]}, {\"categories\": [\"0\", \"1\", \"2\", \"4\", \"6\", \"8\", \"9\", \"11\", \"15\", \"17\", \"20\", \"22\", \"24\", \"25\", \"26\", \"27\", \"28\", \"29\", \"30\", \"31\", \"34\"], \"mode\": \"lines\", \"name\": \"norm_macro_recall_max\", \"stepped\": true, \"type\": \"scatter\", \"data\": [0.5888453864039572, 0.5888453864039572, 0.5888453864039572, 0.5888453864039572, 0.5888453864039572, 0.5888453864039572, 0.5888453864039572, 0.5888453864039572, 0.5888453864039572, 0.5888453864039572, 0.5888453864039572, 0.5888453864039572, 0.5888453864039572, 0.5888453864039572, 0.5888453864039572, 0.5888453864039572, 0.5888453864039572, 0.5888453864039572, 0.5888453864039572, 0.5888453864039572, 0.6445953848469744]}], \"weighted_accuracy\": [{\"categories\": [\"0\", \"1\", \"2\", \"4\", \"6\", \"8\", \"9\", \"11\", \"15\", \"17\", \"20\", \"22\", \"24\", \"25\", \"26\", \"27\", \"28\", \"29\", \"30\", \"31\", \"34\"], \"mode\": \"markers\", \"name\": \"weighted_accuracy\", \"stepped\": false, \"type\": \"scatter\", \"data\": [0.7977766778344323, 0.7738252436407308, 0.7410727237718467, 0.7188888620747402, 0.7370425040488892, 0.7256882275041742, 0.7620347402753235, 0.7184935940396732, 0.787323020020083, 0.7413019924700995, 0.7415114553194253, 0.7447975364065638, 0.7475605050950591, 0.5814253435587583, 0.734408856257819, 0.7464770854370025, 0.7617723982367975, 0.7673345614164301, 0.6522157465858306, 0.7402968358025062, 0.826185331490961]}, {\"categories\": [\"0\", \"1\", \"2\", \"4\", \"6\", \"8\", \"9\", \"11\", \"15\", \"17\", \"20\", \"22\", \"24\", \"25\", \"26\", \"27\", \"28\", \"29\", \"30\", \"31\", \"34\"], \"mode\": \"lines\", \"name\": \"weighted_accuracy_max\", \"stepped\": true, \"type\": \"scatter\", \"data\": [0.7977766778344323, 0.7977766778344323, 0.7977766778344323, 0.7977766778344323, 0.7977766778344323, 0.7977766778344323, 0.7977766778344323, 0.7977766778344323, 0.7977766778344323, 0.7977766778344323, 0.7977766778344323, 0.7977766778344323, 0.7977766778344323, 0.7977766778344323, 0.7977766778344323, 0.7977766778344323, 0.7977766778344323, 0.7977766778344323, 0.7977766778344323, 0.7977766778344323, 0.826185331490961]}], \"accuracy\": [{\"categories\": [\"0\", \"1\", \"2\", \"4\", \"6\", \"8\", \"9\", \"11\", \"15\", \"17\", \"20\", \"22\", \"24\", \"25\", \"26\", \"27\", \"28\", \"29\", \"30\", \"31\", \"34\"], \"mode\": \"markers\", \"name\": \"accuracy\", \"stepped\": false, \"type\": \"scatter\", \"data\": [0.7961225766103815, 0.772983114446529, 0.7435897435897436, 0.717948717948718, 0.738586616635397, 0.7248280175109443, 0.7611006879299561, 0.7191994996873046, 0.7848655409631019, 0.7410881801125703, 0.7417135709818637, 0.7435897435897436, 0.7460913070669167, 0.5772357723577236, 0.7335834896810507, 0.7435897435897436, 0.7598499061913696, 0.766729205753596, 0.6547842401500938, 0.740462789243277, 0.8242651657285803]}, {\"categories\": [\"0\", \"1\", \"2\", \"4\", \"6\", \"8\", \"9\", \"11\", \"15\", \"17\", \"20\", \"22\", \"24\", \"25\", \"26\", \"27\", \"28\", \"29\", \"30\", \"31\", \"34\"], \"mode\": \"lines\", \"name\": \"accuracy_max\", \"stepped\": true, \"type\": \"scatter\", \"data\": [0.7961225766103815, 0.7961225766103815, 0.7961225766103815, 0.7961225766103815, 0.7961225766103815, 0.7961225766103815, 0.7961225766103815, 0.7961225766103815, 0.7961225766103815, 0.7961225766103815, 0.7961225766103815, 0.7961225766103815, 0.7961225766103815, 0.7961225766103815, 0.7961225766103815, 0.7961225766103815, 0.7961225766103815, 0.7961225766103815, 0.7961225766103815, 0.7961225766103815, 0.8242651657285803]}], \"average_precision_score_micro\": [{\"categories\": [\"0\", \"1\", \"2\", \"4\", \"6\", \"8\", \"9\", \"11\", \"15\", \"17\", \"20\", \"22\", \"24\", \"25\", \"26\", \"27\", \"28\", \"29\", \"30\", \"31\", \"34\"], \"mode\": \"markers\", \"name\": \"average_precision_score_micro\", \"stepped\": false, \"type\": \"scatter\", \"data\": [0.8618996492583865, 0.849109943529967, 0.8085459657057963, 0.7713060018991168, 0.8074720678563229, 0.8085829290427439, 0.8281640505326059, 0.7976026714213974, 0.8421488641643924, 0.8089124111019707, 0.8093855211248598, 0.8059582725903502, 0.8224639850236898, 0.592434636385555, 0.8151849859758057, 0.8170053587268066, 0.8343020958000245, 0.8366362807118392, 0.7113466439078658, 0.8094504913811532, 0.884188217537242]}, {\"categories\": [\"0\", \"1\", \"2\", \"4\", \"6\", \"8\", \"9\", \"11\", \"15\", \"17\", \"20\", \"22\", \"24\", \"25\", \"26\", \"27\", \"28\", \"29\", \"30\", \"31\", \"34\"], \"mode\": \"lines\", \"name\": \"average_precision_score_micro_max\", \"stepped\": true, \"type\": \"scatter\", \"data\": [0.8618996492583865, 0.8618996492583865, 0.8618996492583865, 0.8618996492583865, 0.8618996492583865, 0.8618996492583865, 0.8618996492583865, 0.8618996492583865, 0.8618996492583865, 0.8618996492583865, 0.8618996492583865, 0.8618996492583865, 0.8618996492583865, 0.8618996492583865, 0.8618996492583865, 0.8618996492583865, 0.8618996492583865, 0.8618996492583865, 0.8618996492583865, 0.8618996492583865, 0.884188217537242]}], \"precision_score_micro\": [{\"categories\": [\"0\", \"1\", \"2\", \"4\", \"6\", \"8\", \"9\", \"11\", \"15\", \"17\", \"20\", \"22\", \"24\", \"25\", \"26\", \"27\", \"28\", \"29\", \"30\", \"31\", \"34\"], \"mode\": \"markers\", \"name\": \"precision_score_micro\", \"stepped\": false, \"type\": \"scatter\", \"data\": [0.7961225766103815, 0.772983114446529, 0.7435897435897436, 0.717948717948718, 0.738586616635397, 0.7248280175109443, 0.7611006879299561, 0.7191994996873046, 0.7848655409631019, 0.7410881801125703, 0.7417135709818637, 0.7435897435897436, 0.7460913070669167, 0.5772357723577236, 0.7335834896810507, 0.7435897435897436, 0.7598499061913696, 0.766729205753596, 0.6547842401500938, 0.740462789243277, 0.8242651657285803]}, {\"categories\": [\"0\", \"1\", \"2\", \"4\", \"6\", \"8\", \"9\", \"11\", \"15\", \"17\", \"20\", \"22\", \"24\", \"25\", \"26\", \"27\", \"28\", \"29\", \"30\", \"31\", \"34\"], \"mode\": \"lines\", \"name\": \"precision_score_micro_max\", \"stepped\": true, \"type\": \"scatter\", \"data\": [0.7961225766103815, 0.7961225766103815, 0.7961225766103815, 0.7961225766103815, 0.7961225766103815, 0.7961225766103815, 0.7961225766103815, 0.7961225766103815, 0.7961225766103815, 0.7961225766103815, 0.7961225766103815, 0.7961225766103815, 0.7961225766103815, 0.7961225766103815, 0.7961225766103815, 0.7961225766103815, 0.7961225766103815, 0.7961225766103815, 0.7961225766103815, 0.7961225766103815, 0.8242651657285803]}], \"f1_score_macro\": [{\"categories\": [\"0\", \"1\", \"2\", \"4\", \"6\", \"8\", \"9\", \"11\", \"15\", \"17\", \"20\", \"22\", \"24\", \"25\", \"26\", \"27\", \"28\", \"29\", \"30\", \"31\", \"34\"], \"mode\": \"markers\", \"name\": \"f1_score_macro\", \"stepped\": false, \"type\": \"scatter\", \"data\": [0.7945792887520081, 0.7716548890639346, 0.7431623304240343, 0.7158032482055413, 0.7381239448539317, 0.7225774947875863, 0.7597201229423071, 0.718375264139663, 0.7826408828459307, 0.7398847302617115, 0.7407347103381268, 0.7420686902464682, 0.7442457300728008, 0.571706799028565, 0.7318174944230184, 0.7408326774708568, 0.7580492679399482, 0.7654187045504703, 0.654540573437004, 0.7394411643523986, 0.8227406750798769]}, {\"categories\": [\"0\", \"1\", \"2\", \"4\", \"6\", \"8\", \"9\", \"11\", \"15\", \"17\", \"20\", \"22\", \"24\", \"25\", \"26\", \"27\", \"28\", \"29\", \"30\", \"31\", \"34\"], \"mode\": \"lines\", \"name\": \"f1_score_macro_max\", \"stepped\": true, \"type\": \"scatter\", \"data\": [0.7945792887520081, 0.7945792887520081, 0.7945792887520081, 0.7945792887520081, 0.7945792887520081, 0.7945792887520081, 0.7945792887520081, 0.7945792887520081, 0.7945792887520081, 0.7945792887520081, 0.7945792887520081, 0.7945792887520081, 0.7945792887520081, 0.7945792887520081, 0.7945792887520081, 0.7945792887520081, 0.7945792887520081, 0.7945792887520081, 0.7945792887520081, 0.7945792887520081, 0.8227406750798769]}], \"AUC_weighted\": [{\"categories\": [\"0\", \"1\", \"2\", \"4\", \"6\", \"8\", \"9\", \"11\", \"15\", \"17\", \"20\", \"22\", \"24\", \"25\", \"26\", \"27\", \"28\", \"29\", \"30\", \"31\", \"34\"], \"mode\": \"markers\", \"name\": \"AUC_weighted\", \"stepped\": false, \"type\": \"scatter\", \"data\": [0.8681866868113288, 0.84990212453788, 0.8126793043448428, 0.7967119441138043, 0.815522158839055, 0.8182944319017387, 0.8395311015968795, 0.8061911797260892, 0.8603764931655297, 0.8150146455019439, 0.815876782187066, 0.8119757371091452, 0.8259271280531126, 0.6044492761837144, 0.8186362809051614, 0.8232318810186842, 0.837072183331845, 0.8418707456042093, 0.7307401998201523, 0.8153945737006142, 0.8884286010455272]}, {\"categories\": [\"0\", \"1\", \"2\", \"4\", \"6\", \"8\", \"9\", \"11\", \"15\", \"17\", \"20\", \"22\", \"24\", \"25\", \"26\", \"27\", \"28\", \"29\", \"30\", \"31\", \"34\"], \"mode\": \"lines\", \"name\": \"AUC_weighted_max\", \"stepped\": true, \"type\": \"scatter\", \"data\": [0.8681866868113288, 0.8681866868113288, 0.8681866868113288, 0.8681866868113288, 0.8681866868113288, 0.8681866868113288, 0.8681866868113288, 0.8681866868113288, 0.8681866868113288, 0.8681866868113288, 0.8681866868113288, 0.8681866868113288, 0.8681866868113288, 0.8681866868113288, 0.8681866868113288, 0.8681866868113288, 0.8681866868113288, 0.8681866868113288, 0.8681866868113288, 0.8681866868113288, 0.8884286010455272]}], \"recall_score_weighted\": [{\"categories\": [\"0\", \"1\", \"2\", \"4\", \"6\", \"8\", \"9\", \"11\", \"15\", \"17\", \"20\", \"22\", \"24\", \"25\", \"26\", \"27\", \"28\", \"29\", \"30\", \"31\", \"34\"], \"mode\": \"markers\", \"name\": \"recall_score_weighted\", \"stepped\": false, \"type\": \"scatter\", \"data\": [0.7961225766103815, 0.772983114446529, 0.7435897435897436, 0.717948717948718, 0.738586616635397, 0.7248280175109443, 0.7611006879299561, 0.7191994996873046, 0.7848655409631019, 0.7410881801125703, 0.7417135709818637, 0.7435897435897436, 0.7460913070669167, 0.5772357723577236, 0.7335834896810507, 0.7435897435897436, 0.7598499061913696, 0.766729205753596, 0.6547842401500938, 0.740462789243277, 0.8242651657285803]}, {\"categories\": [\"0\", \"1\", \"2\", \"4\", \"6\", \"8\", \"9\", \"11\", \"15\", \"17\", \"20\", \"22\", \"24\", \"25\", \"26\", \"27\", \"28\", \"29\", \"30\", \"31\", \"34\"], \"mode\": \"lines\", \"name\": \"recall_score_weighted_max\", \"stepped\": true, \"type\": \"scatter\", \"data\": [0.7961225766103815, 0.7961225766103815, 0.7961225766103815, 0.7961225766103815, 0.7961225766103815, 0.7961225766103815, 0.7961225766103815, 0.7961225766103815, 0.7961225766103815, 0.7961225766103815, 0.7961225766103815, 0.7961225766103815, 0.7961225766103815, 0.7961225766103815, 0.7961225766103815, 0.7961225766103815, 0.7961225766103815, 0.7961225766103815, 0.7961225766103815, 0.7961225766103815, 0.8242651657285803]}], \"precision_score_weighted\": [{\"categories\": [\"0\", \"1\", \"2\", \"4\", \"6\", \"8\", \"9\", \"11\", \"15\", \"17\", \"20\", \"22\", \"24\", \"25\", \"26\", \"27\", \"28\", \"29\", \"30\", \"31\", \"34\"], \"mode\": \"markers\", \"name\": \"precision_score_weighted\", \"stepped\": false, \"type\": \"scatter\", \"data\": [0.796168970466047, 0.7736039334010405, 0.7491229569872013, 0.7211698682706525, 0.7418056812475897, 0.7281729693489893, 0.76174584005839, 0.7216900928376622, 0.7857507508047864, 0.7425455923111365, 0.7433990348386706, 0.7441471599397612, 0.7467758513268473, 0.5767953195185221, 0.7352856449050966, 0.7443354818240596, 0.7597476219989531, 0.7678408735223883, 0.6606711886167259, 0.7421795939769669, 0.8244494699473947]}, {\"categories\": [\"0\", \"1\", \"2\", \"4\", \"6\", \"8\", \"9\", \"11\", \"15\", \"17\", \"20\", \"22\", \"24\", \"25\", \"26\", \"27\", \"28\", \"29\", \"30\", \"31\", \"34\"], \"mode\": \"lines\", \"name\": \"precision_score_weighted_max\", \"stepped\": true, \"type\": \"scatter\", \"data\": [0.796168970466047, 0.796168970466047, 0.796168970466047, 0.796168970466047, 0.796168970466047, 0.796168970466047, 0.796168970466047, 0.796168970466047, 0.796168970466047, 0.796168970466047, 0.796168970466047, 0.796168970466047, 0.796168970466047, 0.796168970466047, 0.796168970466047, 0.796168970466047, 0.796168970466047, 0.796168970466047, 0.796168970466047, 0.796168970466047, 0.8244494699473947]}], \"average_precision_score_macro\": [{\"categories\": [\"0\", \"1\", \"2\", \"4\", \"6\", \"8\", \"9\", \"11\", \"15\", \"17\", \"20\", \"22\", \"24\", \"25\", \"26\", \"27\", \"28\", \"29\", \"30\", \"31\", \"34\"], \"mode\": \"markers\", \"name\": \"average_precision_score_macro\", \"stepped\": false, \"type\": \"scatter\", \"data\": [0.8577927790545757, 0.8444785194247277, 0.8048011802718479, 0.7713614293587341, 0.8047308196921353, 0.8092839681275964, 0.8257613471821136, 0.7955739417504905, 0.8421317912254148, 0.8052527514239175, 0.8048211608090236, 0.8040673907479858, 0.8179508504401273, 0.5911736646381444, 0.8099981290426012, 0.8127757492114203, 0.826008929036384, 0.8339754074725428, 0.7120510107297174, 0.8047507552517811, 0.8832116506973763]}, {\"categories\": [\"0\", \"1\", \"2\", \"4\", \"6\", \"8\", \"9\", \"11\", \"15\", \"17\", \"20\", \"22\", \"24\", \"25\", \"26\", \"27\", \"28\", \"29\", \"30\", \"31\", \"34\"], \"mode\": \"lines\", \"name\": \"average_precision_score_macro_max\", \"stepped\": true, \"type\": \"scatter\", \"data\": [0.8577927790545757, 0.8577927790545757, 0.8577927790545757, 0.8577927790545757, 0.8577927790545757, 0.8577927790545757, 0.8577927790545757, 0.8577927790545757, 0.8577927790545757, 0.8577927790545757, 0.8577927790545757, 0.8577927790545757, 0.8577927790545757, 0.8577927790545757, 0.8577927790545757, 0.8577927790545757, 0.8577927790545757, 0.8577927790545757, 0.8577927790545757, 0.8577927790545757, 0.8832116506973763]}], \"precision_score_macro\": [{\"categories\": [\"0\", \"1\", \"2\", \"4\", \"6\", \"8\", \"9\", \"11\", \"15\", \"17\", \"20\", \"22\", \"24\", \"25\", \"26\", \"27\", \"28\", \"29\", \"30\", \"31\", \"34\"], \"mode\": \"markers\", \"name\": \"precision_score_macro\", \"stepped\": false, \"type\": \"scatter\", \"data\": [0.7950317536139369, 0.7718437655946913, 0.7453426862676696, 0.7188808031233775, 0.7385287992840198, 0.7259080822629377, 0.759800827494057, 0.718746750390876, 0.7847989765474029, 0.7402121261937339, 0.7408227601424087, 0.7424082755530818, 0.7451264125252859, 0.5741942317797819, 0.7331225536278275, 0.7433635361063468, 0.7583796249360013, 0.7658448535827483, 0.6568375606912751, 0.739615721125753, 0.8238046373327307]}, {\"categories\": [\"0\", \"1\", \"2\", \"4\", \"6\", \"8\", \"9\", \"11\", \"15\", \"17\", \"20\", \"22\", \"24\", \"25\", \"26\", \"27\", \"28\", \"29\", \"30\", \"31\", \"34\"], \"mode\": \"lines\", \"name\": \"precision_score_macro_max\", \"stepped\": true, \"type\": \"scatter\", \"data\": [0.7950317536139369, 0.7950317536139369, 0.7950317536139369, 0.7950317536139369, 0.7950317536139369, 0.7950317536139369, 0.7950317536139369, 0.7950317536139369, 0.7950317536139369, 0.7950317536139369, 0.7950317536139369, 0.7950317536139369, 0.7950317536139369, 0.7950317536139369, 0.7950317536139369, 0.7950317536139369, 0.7950317536139369, 0.7950317536139369, 0.7950317536139369, 0.7950317536139369, 0.8238046373327307]}], \"AUC_macro\": [{\"categories\": [\"0\", \"1\", \"2\", \"4\", \"6\", \"8\", \"9\", \"11\", \"15\", \"17\", \"20\", \"22\", \"24\", \"25\", \"26\", \"27\", \"28\", \"29\", \"30\", \"31\", \"34\"], \"mode\": \"markers\", \"name\": \"AUC_macro\", \"stepped\": false, \"type\": \"scatter\", \"data\": [0.8681866868113288, 0.84990212453788, 0.8126793043448428, 0.7967119441138045, 0.815522158839055, 0.8182944319017388, 0.8395311015968795, 0.8061911797260893, 0.8603764931655297, 0.8150146455019437, 0.815876782187066, 0.8119757371091453, 0.8259271280531126, 0.6044492761837144, 0.8186362809051614, 0.8232318810186842, 0.837072183331845, 0.8418707456042093, 0.7307401998201523, 0.8153945737006142, 0.8884286010455272]}, {\"categories\": [\"0\", \"1\", \"2\", \"4\", \"6\", \"8\", \"9\", \"11\", \"15\", \"17\", \"20\", \"22\", \"24\", \"25\", \"26\", \"27\", \"28\", \"29\", \"30\", \"31\", \"34\"], \"mode\": \"lines\", \"name\": \"AUC_macro_max\", \"stepped\": true, \"type\": \"scatter\", \"data\": [0.8681866868113288, 0.8681866868113288, 0.8681866868113288, 0.8681866868113288, 0.8681866868113288, 0.8681866868113288, 0.8681866868113288, 0.8681866868113288, 0.8681866868113288, 0.8681866868113288, 0.8681866868113288, 0.8681866868113288, 0.8681866868113288, 0.8681866868113288, 0.8681866868113288, 0.8681866868113288, 0.8681866868113288, 0.8681866868113288, 0.8681866868113288, 0.8681866868113288, 0.8884286010455272]}], \"average_precision_score_weighted\": [{\"categories\": [\"0\", \"1\", \"2\", \"4\", \"6\", \"8\", \"9\", \"11\", \"15\", \"17\", \"20\", \"22\", \"24\", \"25\", \"26\", \"27\", \"28\", \"29\", \"30\", \"31\", \"34\"], \"mode\": \"markers\", \"name\": \"average_precision_score_weighted\", \"stepped\": false, \"type\": \"scatter\", \"data\": [0.8598284591308624, 0.8467622270962755, 0.8073476915446266, 0.7730214607816008, 0.807037137270763, 0.8107940678075746, 0.8279856133386193, 0.7983235979317636, 0.8431300099402469, 0.8075123280410237, 0.8071182712133655, 0.8066012288493992, 0.8201330558023564, 0.5927501834802283, 0.812543301382206, 0.8155309650388608, 0.8287240462962301, 0.8361999300685664, 0.7145034899761972, 0.8070422881863131, 0.8845969483860362]}, {\"categories\": [\"0\", \"1\", \"2\", \"4\", \"6\", \"8\", \"9\", \"11\", \"15\", \"17\", \"20\", \"22\", \"24\", \"25\", \"26\", \"27\", \"28\", \"29\", \"30\", \"31\", \"34\"], \"mode\": \"lines\", \"name\": \"average_precision_score_weighted_max\", \"stepped\": true, \"type\": \"scatter\", \"data\": [0.8598284591308624, 0.8598284591308624, 0.8598284591308624, 0.8598284591308624, 0.8598284591308624, 0.8598284591308624, 0.8598284591308624, 0.8598284591308624, 0.8598284591308624, 0.8598284591308624, 0.8598284591308624, 0.8598284591308624, 0.8598284591308624, 0.8598284591308624, 0.8598284591308624, 0.8598284591308624, 0.8598284591308624, 0.8598284591308624, 0.8598284591308624, 0.8598284591308624, 0.8845969483860362]}], \"recall_score_micro\": [{\"categories\": [\"0\", \"1\", \"2\", \"4\", \"6\", \"8\", \"9\", \"11\", \"15\", \"17\", \"20\", \"22\", \"24\", \"25\", \"26\", \"27\", \"28\", \"29\", \"30\", \"31\", \"34\"], \"mode\": \"markers\", \"name\": \"recall_score_micro\", \"stepped\": false, \"type\": \"scatter\", \"data\": [0.7961225766103815, 0.772983114446529, 0.7435897435897436, 0.717948717948718, 0.738586616635397, 0.7248280175109443, 0.7611006879299561, 0.7191994996873046, 0.7848655409631019, 0.7410881801125703, 0.7417135709818637, 0.7435897435897436, 0.7460913070669167, 0.5772357723577236, 0.7335834896810507, 0.7435897435897436, 0.7598499061913696, 0.766729205753596, 0.6547842401500938, 0.740462789243277, 0.8242651657285803]}, {\"categories\": [\"0\", \"1\", \"2\", \"4\", \"6\", \"8\", \"9\", \"11\", \"15\", \"17\", \"20\", \"22\", \"24\", \"25\", \"26\", \"27\", \"28\", \"29\", \"30\", \"31\", \"34\"], \"mode\": \"lines\", \"name\": \"recall_score_micro_max\", \"stepped\": true, \"type\": \"scatter\", \"data\": [0.7961225766103815, 0.7961225766103815, 0.7961225766103815, 0.7961225766103815, 0.7961225766103815, 0.7961225766103815, 0.7961225766103815, 0.7961225766103815, 0.7961225766103815, 0.7961225766103815, 0.7961225766103815, 0.7961225766103815, 0.7961225766103815, 0.7961225766103815, 0.7961225766103815, 0.7961225766103815, 0.7961225766103815, 0.7961225766103815, 0.7961225766103815, 0.7961225766103815, 0.8242651657285803]}], \"matthews_correlation\": [{\"categories\": [\"0\", \"1\", \"2\", \"4\", \"6\", \"8\", \"9\", \"11\", \"15\", \"17\", \"20\", \"22\", \"24\", \"25\", \"26\", \"27\", \"28\", \"29\", \"30\", \"31\", \"34\"], \"mode\": \"markers\", \"name\": \"matthews_correlation\", \"stepped\": false, \"type\": \"scatter\", \"data\": [0.5894537139042245, 0.5439632952318538, 0.4914909967880732, 0.4358565978646894, 0.4786913828255643, 0.4498534703217955, 0.5199386917439752, 0.43866397533409546, 0.5671362988820968, 0.48108472624410864, 0.4827489002653785, 0.48474874584675964, 0.48971201921679014, 0.1471403985395483, 0.46586767919384825, 0.4839982982657703, 0.5162539665883824, 0.5319622030915673, 0.3142595425428962, 0.48025461979829487, 0.6461000034228793]}, {\"categories\": [\"0\", \"1\", \"2\", \"4\", \"6\", \"8\", \"9\", \"11\", \"15\", \"17\", \"20\", \"22\", \"24\", \"25\", \"26\", \"27\", \"28\", \"29\", \"30\", \"31\", \"34\"], \"mode\": \"lines\", \"name\": \"matthews_correlation_max\", \"stepped\": true, \"type\": \"scatter\", \"data\": [0.5894537139042245, 0.5894537139042245, 0.5894537139042245, 0.5894537139042245, 0.5894537139042245, 0.5894537139042245, 0.5894537139042245, 0.5894537139042245, 0.5894537139042245, 0.5894537139042245, 0.5894537139042245, 0.5894537139042245, 0.5894537139042245, 0.5894537139042245, 0.5894537139042245, 0.5894537139042245, 0.5894537139042245, 0.5894537139042245, 0.5894537139042245, 0.5894537139042245, 0.6461000034228793]}], \"recall_score_macro\": [{\"categories\": [\"0\", \"1\", \"2\", \"4\", \"6\", \"8\", \"9\", \"11\", \"15\", \"17\", \"20\", \"22\", \"24\", \"25\", \"26\", \"27\", \"28\", \"29\", \"30\", \"31\", \"34\"], \"mode\": \"markers\", \"name\": \"recall_score_macro\", \"stepped\": false, \"type\": \"scatter\", \"data\": [0.7944226932019786, 0.7721215198824044, 0.7461552072161362, 0.7170081497295596, 0.7401685987017217, 0.7239794751293468, 0.7601389811074934, 0.7199218994820091, 0.7823479339915455, 0.7408778018877994, 0.7419315134945501, 0.7423408207973584, 0.7445898720467333, 0.5729585976456855, 0.7327562532778886, 0.7406462625461788, 0.757874729818283, 0.766122486544508, 0.6574242092583032, 0.7406445122075489, 0.8222976924234873]}, {\"categories\": [\"0\", \"1\", \"2\", \"4\", \"6\", \"8\", \"9\", \"11\", \"15\", \"17\", \"20\", \"22\", \"24\", \"25\", \"26\", \"27\", \"28\", \"29\", \"30\", \"31\", \"34\"], \"mode\": \"lines\", \"name\": \"recall_score_macro_max\", \"stepped\": true, \"type\": \"scatter\", \"data\": [0.7944226932019786, 0.7944226932019786, 0.7944226932019786, 0.7944226932019786, 0.7944226932019786, 0.7944226932019786, 0.7944226932019786, 0.7944226932019786, 0.7944226932019786, 0.7944226932019786, 0.7944226932019786, 0.7944226932019786, 0.7944226932019786, 0.7944226932019786, 0.7944226932019786, 0.7944226932019786, 0.7944226932019786, 0.7944226932019786, 0.7944226932019786, 0.7944226932019786, 0.8222976924234873]}], \"f1_score_micro\": [{\"categories\": [\"0\", \"1\", \"2\", \"4\", \"6\", \"8\", \"9\", \"11\", \"15\", \"17\", \"20\", \"22\", \"24\", \"25\", \"26\", \"27\", \"28\", \"29\", \"30\", \"31\", \"34\"], \"mode\": \"markers\", \"name\": \"f1_score_micro\", \"stepped\": false, \"type\": \"scatter\", \"data\": [0.7961225766103815, 0.772983114446529, 0.7435897435897436, 0.717948717948718, 0.7385866166353972, 0.7248280175109443, 0.7611006879299561, 0.7191994996873046, 0.7848655409631019, 0.7410881801125703, 0.7417135709818637, 0.7435897435897436, 0.7460913070669167, 0.5772357723577236, 0.7335834896810506, 0.7435897435897436, 0.7598499061913696, 0.7667292057535962, 0.6547842401500938, 0.740462789243277, 0.8242651657285803]}, {\"categories\": [\"0\", \"1\", \"2\", \"4\", \"6\", \"8\", \"9\", \"11\", \"15\", \"17\", \"20\", \"22\", \"24\", \"25\", \"26\", \"27\", \"28\", \"29\", \"30\", \"31\", \"34\"], \"mode\": \"lines\", \"name\": \"f1_score_micro_max\", \"stepped\": true, \"type\": \"scatter\", \"data\": [0.7961225766103815, 0.7961225766103815, 0.7961225766103815, 0.7961225766103815, 0.7961225766103815, 0.7961225766103815, 0.7961225766103815, 0.7961225766103815, 0.7961225766103815, 0.7961225766103815, 0.7961225766103815, 0.7961225766103815, 0.7961225766103815, 0.7961225766103815, 0.7961225766103815, 0.7961225766103815, 0.7961225766103815, 0.7961225766103815, 0.7961225766103815, 0.7961225766103815, 0.8242651657285803]}], \"log_loss\": [{\"categories\": [\"0\", \"1\", \"2\", \"4\", \"6\", \"8\", \"9\", \"11\", \"15\", \"17\", \"20\", \"22\", \"24\", \"25\", \"26\", \"27\", \"28\", \"29\", \"30\", \"31\", \"34\"], \"mode\": \"markers\", \"name\": \"log_loss\", \"stepped\": false, \"type\": \"scatter\", \"data\": [0.5111457206916069, 0.47862859322575896, 0.5908389524517469, 1.9082728488890914, 0.528408750216054, 0.9383374695861496, 0.49979926551969983, 0.5786363572370398, 1.306785884604814, 0.5305043948221555, 0.527423080862696, 0.5375307776137942, 0.5336071201059537, 1.181363059457023, 0.5413585121283888, 0.5647173688841559, 0.4973938311424244, 0.5424162299910262, 0.6236989691932203, 0.5274902919971551, 0.4332207798592614]}, {\"categories\": [\"0\", \"1\", \"2\", \"4\", \"6\", \"8\", \"9\", \"11\", \"15\", \"17\", \"20\", \"22\", \"24\", \"25\", \"26\", \"27\", \"28\", \"29\", \"30\", \"31\", \"34\"], \"mode\": \"lines\", \"name\": \"log_loss_min\", \"stepped\": true, \"type\": \"scatter\", \"data\": [0.5111457206916069, 0.47862859322575896, 0.47862859322575896, 0.47862859322575896, 0.47862859322575896, 0.47862859322575896, 0.47862859322575896, 0.47862859322575896, 0.47862859322575896, 0.47862859322575896, 0.47862859322575896, 0.47862859322575896, 0.47862859322575896, 0.47862859322575896, 0.47862859322575896, 0.47862859322575896, 0.47862859322575896, 0.47862859322575896, 0.47862859322575896, 0.47862859322575896, 0.4332207798592614]}], \"balanced_accuracy\": [{\"categories\": [\"0\", \"1\", \"2\", \"4\", \"6\", \"8\", \"9\", \"11\", \"15\", \"17\", \"20\", \"22\", \"24\", \"25\", \"26\", \"27\", \"28\", \"29\", \"30\", \"31\", \"34\"], \"mode\": \"markers\", \"name\": \"balanced_accuracy\", \"stepped\": false, \"type\": \"scatter\", \"data\": [0.7944226932019786, 0.7721215198824044, 0.7461552072161362, 0.7170081497295596, 0.7401685987017217, 0.7239794751293468, 0.7601389811074934, 0.7199218994820091, 0.7823479339915455, 0.7408778018877994, 0.7419315134945501, 0.7423408207973584, 0.7445898720467333, 0.5729585976456855, 0.7327562532778886, 0.7406462625461788, 0.757874729818283, 0.766122486544508, 0.6574242092583032, 0.7406445122075489, 0.8222976924234873]}, {\"categories\": [\"0\", \"1\", \"2\", \"4\", \"6\", \"8\", \"9\", \"11\", \"15\", \"17\", \"20\", \"22\", \"24\", \"25\", \"26\", \"27\", \"28\", \"29\", \"30\", \"31\", \"34\"], \"mode\": \"lines\", \"name\": \"balanced_accuracy_max\", \"stepped\": true, \"type\": \"scatter\", \"data\": [0.7944226932019786, 0.7944226932019786, 0.7944226932019786, 0.7944226932019786, 0.7944226932019786, 0.7944226932019786, 0.7944226932019786, 0.7944226932019786, 0.7944226932019786, 0.7944226932019786, 0.7944226932019786, 0.7944226932019786, 0.7944226932019786, 0.7944226932019786, 0.7944226932019786, 0.7944226932019786, 0.7944226932019786, 0.7944226932019786, 0.7944226932019786, 0.7944226932019786, 0.8222976924234873]}], \"f1_score_weighted\": [{\"categories\": [\"0\", \"1\", \"2\", \"4\", \"6\", \"8\", \"9\", \"11\", \"15\", \"17\", \"20\", \"22\", \"24\", \"25\", \"26\", \"27\", \"28\", \"29\", \"30\", \"31\", \"34\"], \"mode\": \"markers\", \"name\": \"f1_score_weighted\", \"stepped\": false, \"type\": \"scatter\", \"data\": [0.7959984562081801, 0.7729677701385094, 0.7437813071833407, 0.7174338279745855, 0.738984680708941, 0.7241527831191285, 0.761174859380438, 0.7194947174233993, 0.7843803628369302, 0.7411634938998065, 0.7419229394597023, 0.7435631531443255, 0.7458236037464231, 0.5751539861838424, 0.733321508969034, 0.7427959802710563, 0.7597212449238057, 0.7667259119464888, 0.6551498285105674, 0.7406414423609435, 0.82404850188914]}, {\"categories\": [\"0\", \"1\", \"2\", \"4\", \"6\", \"8\", \"9\", \"11\", \"15\", \"17\", \"20\", \"22\", \"24\", \"25\", \"26\", \"27\", \"28\", \"29\", \"30\", \"31\", \"34\"], \"mode\": \"lines\", \"name\": \"f1_score_weighted_max\", \"stepped\": true, \"type\": \"scatter\", \"data\": [0.7959984562081801, 0.7959984562081801, 0.7959984562081801, 0.7959984562081801, 0.7959984562081801, 0.7959984562081801, 0.7959984562081801, 0.7959984562081801, 0.7959984562081801, 0.7959984562081801, 0.7959984562081801, 0.7959984562081801, 0.7959984562081801, 0.7959984562081801, 0.7959984562081801, 0.7959984562081801, 0.7959984562081801, 0.7959984562081801, 0.7959984562081801, 0.7959984562081801, 0.82404850188914]}]}, \"metricName\": null, \"primaryMetricName\": \"accuracy\", \"showLegend\": false}, \"run_metrics\": [{\"name\": \"experiment_status\", \"run_id\": \"AutoML_78274bb4-124e-4998-af9b-06d52616b981\", \"categories\": [0, 1, 2, 3, 4, 5, 6, 7, 8, 9, 10, 11, 12, 13], \"series\": [{\"data\": [\"DatasetEvaluation\", \"FeaturesGeneration\", \"DatasetFeaturization\", \"DatasetFeaturizationCompleted\", \"DatasetCrossValidationSplit\", \"ModelSelection\", \"BestRunExplainModel\", \"ModelExplanationDataSetSetup\", \"PickSurrogateModel\", \"EngineeredFeatureExplanations\", \"EngineeredFeatureExplanations\", \"RawFeaturesExplanations\", \"RawFeaturesExplanations\", \"BestRunExplainModel\"]}]}, {\"name\": \"experiment_status_description\", \"run_id\": \"AutoML_78274bb4-124e-4998-af9b-06d52616b981\", \"categories\": [0, 1, 2, 3, 4, 5, 6, 7, 8, 9, 10, 11, 12, 13], \"series\": [{\"data\": [\"Gathering dataset statistics.\", \"Generating features for the dataset.\", \"Beginning to fit featurizers and featurize the dataset.\", \"Completed fit featurizers and featurizing the dataset.\", \"Generating individually featurized CV splits.\", \"Beginning model selection.\", \"Best run model explanations started\", \"Model explanations data setup completed\", \"Choosing LightGBM as the surrogate model for explanations\", \"Computation of engineered features started\", \"Computation of engineered features completed\", \"Computation of raw features started\", \"Computation of raw features completed\", \"Best run model explanations completed\"]}]}, {\"name\": \"recall_score_macro\", \"run_id\": \"AutoML_78274bb4-124e-4998-af9b-06d52616b981\", \"categories\": [0], \"series\": [{\"data\": [0.8222976924234873]}]}, {\"name\": \"AUC_micro\", \"run_id\": \"AutoML_78274bb4-124e-4998-af9b-06d52616b981\", \"categories\": [0], \"series\": [{\"data\": [0.8879330069098064]}]}, {\"name\": \"precision_score_micro\", \"run_id\": \"AutoML_78274bb4-124e-4998-af9b-06d52616b981\", \"categories\": [0], \"series\": [{\"data\": [0.8242651657285803]}]}, {\"name\": \"balanced_accuracy\", \"run_id\": \"AutoML_78274bb4-124e-4998-af9b-06d52616b981\", \"categories\": [0], \"series\": [{\"data\": [0.8222976924234873]}]}, {\"name\": \"norm_macro_recall\", \"run_id\": \"AutoML_78274bb4-124e-4998-af9b-06d52616b981\", \"categories\": [0], \"series\": [{\"data\": [0.6445953848469744]}]}, {\"name\": \"f1_score_macro\", \"run_id\": \"AutoML_78274bb4-124e-4998-af9b-06d52616b981\", \"categories\": [0], \"series\": [{\"data\": [0.8227406750798769]}]}, {\"name\": \"f1_score_weighted\", \"run_id\": \"AutoML_78274bb4-124e-4998-af9b-06d52616b981\", \"categories\": [0], \"series\": [{\"data\": [0.82404850188914]}]}, {\"name\": \"recall_score_micro\", \"run_id\": \"AutoML_78274bb4-124e-4998-af9b-06d52616b981\", \"categories\": [0], \"series\": [{\"data\": [0.8242651657285803]}]}, {\"name\": \"precision_score_weighted\", \"run_id\": \"AutoML_78274bb4-124e-4998-af9b-06d52616b981\", \"categories\": [0], \"series\": [{\"data\": [0.8244494699473947]}]}, {\"name\": \"average_precision_score_weighted\", \"run_id\": \"AutoML_78274bb4-124e-4998-af9b-06d52616b981\", \"categories\": [0], \"series\": [{\"data\": [0.8845969483860362]}]}, {\"name\": \"average_precision_score_macro\", \"run_id\": \"AutoML_78274bb4-124e-4998-af9b-06d52616b981\", \"categories\": [0], \"series\": [{\"data\": [0.8832116506973763]}]}, {\"name\": \"accuracy\", \"run_id\": \"AutoML_78274bb4-124e-4998-af9b-06d52616b981\", \"categories\": [0], \"series\": [{\"data\": [0.8242651657285803]}]}, {\"name\": \"recall_score_weighted\", \"run_id\": \"AutoML_78274bb4-124e-4998-af9b-06d52616b981\", \"categories\": [0], \"series\": [{\"data\": [0.8242651657285803]}]}, {\"name\": \"weighted_accuracy\", \"run_id\": \"AutoML_78274bb4-124e-4998-af9b-06d52616b981\", \"categories\": [0], \"series\": [{\"data\": [0.826185331490961]}]}, {\"name\": \"log_loss\", \"run_id\": \"AutoML_78274bb4-124e-4998-af9b-06d52616b981\", \"categories\": [0], \"series\": [{\"data\": [0.4332207798592614]}]}, {\"name\": \"f1_score_micro\", \"run_id\": \"AutoML_78274bb4-124e-4998-af9b-06d52616b981\", \"categories\": [0], \"series\": [{\"data\": [0.8242651657285803]}]}, {\"name\": \"AUC_macro\", \"run_id\": \"AutoML_78274bb4-124e-4998-af9b-06d52616b981\", \"categories\": [0], \"series\": [{\"data\": [0.8884286010455272]}]}, {\"name\": \"AUC_weighted\", \"run_id\": \"AutoML_78274bb4-124e-4998-af9b-06d52616b981\", \"categories\": [0], \"series\": [{\"data\": [0.8884286010455272]}]}, {\"name\": \"precision_score_macro\", \"run_id\": \"AutoML_78274bb4-124e-4998-af9b-06d52616b981\", \"categories\": [0], \"series\": [{\"data\": [0.8238046373327307]}]}, {\"name\": \"average_precision_score_micro\", \"run_id\": \"AutoML_78274bb4-124e-4998-af9b-06d52616b981\", \"categories\": [0], \"series\": [{\"data\": [0.884188217537242]}]}, {\"name\": \"matthews_correlation\", \"run_id\": \"AutoML_78274bb4-124e-4998-af9b-06d52616b981\", \"categories\": [0], \"series\": [{\"data\": [0.6461000034228793]}]}], \"run_logs\": \"\\nRun is completed.\", \"graph\": {}, \"widget_settings\": {\"childWidgetDisplay\": \"popup\", \"send_telemetry\": false, \"log_level\": \"INFO\", \"sdk_version\": \"1.38.0\"}, \"loading\": false}"
          },
          "metadata": {}
        }
      ],
      "execution_count": 10,
      "metadata": {
        "gather": {
          "logged": 1645759228811
        },
        "jupyter": {
          "outputs_hidden": false,
          "source_hidden": false
        },
        "nteract": {
          "transient": {
            "deleting": false
          }
        }
      }
    },
    {
      "cell_type": "markdown",
      "source": [
        "## Best Model\n",
        "\n",
        "TODO: In the cell below, get the best model from the automl experiments and display all the properties of the model.\n",
        "\n"
      ],
      "metadata": {}
    },
    {
      "cell_type": "code",
      "source": [
        "best_run, best_model = remote_run.get_output()\n",
        "best_run_metrics = best_run.get_metrics()\n",
        "for metric_name in best_run_metrics:\n",
        "    metric = best_run_metrics[metric_name]\n",
        "    print(metric_name, metric)"
      ],
      "outputs": [
        {
          "output_type": "stream",
          "name": "stderr",
          "text": "WARNING:root:The model you attempted to retrieve requires 'azureml-train-automl-runtime' to be installed at '==1.38.0'. Please install 'azureml-train-automl-runtime==1.38.0' (e.g. `pip install azureml-train-automl-runtime==1.38.0`) and then rerun the previous command.\n"
        },
        {
          "output_type": "stream",
          "name": "stdout",
          "text": "matthews_correlation 0.6451530958913828\nrecall_score_micro 0.823639774859287\nlog_loss 0.4716338272766596\naccuracy 0.823639774859287\nrecall_score_weighted 0.823639774859287\nnorm_macro_recall 0.6450921621198836\nprecision_score_micro 0.823639774859287\nweighted_accuracy 0.8247044865753158\nrecall_score_macro 0.8225460810599418\nprecision_score_macro 0.8226073247641011\nAUC_micro 0.8825344639649312\nprecision_score_weighted 0.8237921915024323\naverage_precision_score_macro 0.8744731165349752\nf1_score_macro 0.8224829603896847\nAUC_macro 0.8826492677396987\naverage_precision_score_weighted 0.8759498858136404\nAUC_weighted 0.8826492677396987\nf1_score_weighted 0.8236225035901755\naverage_precision_score_micro 0.8761029435668672\nbalanced_accuracy 0.8225460810599418\nf1_score_micro 0.823639774859287\nconfusion_matrix aml://artifactId/ExperimentRun/dcid.AutoML_cbb7afad-8fcd-41c1-a98c-2f50357f20a8_34/confusion_matrix\naccuracy_table aml://artifactId/ExperimentRun/dcid.AutoML_cbb7afad-8fcd-41c1-a98c-2f50357f20a8_34/accuracy_table\n"
        }
      ],
      "execution_count": 13,
      "metadata": {
        "gather": {
          "logged": 1645756392244
        },
        "jupyter": {
          "outputs_hidden": false,
          "source_hidden": false
        },
        "nteract": {
          "transient": {
            "deleting": false
          }
        }
      }
    },
    {
      "cell_type": "code",
      "source": [
        "#TODO: Save the best model\n",
        "os.makedirs('models', exist_ok=True)\n",
        "joblib.dump(best_model, filename='./models/model.pkl')\n",
        "model_name = best_run.properties['model_name']\n",
        "print(model_name)\n"
      ],
      "outputs": [
        {
          "output_type": "stream",
          "name": "stdout",
          "text": "AutoMLcbb7afad834\n"
        }
      ],
      "execution_count": 14,
      "metadata": {
        "gather": {
          "logged": 1645756396170
        },
        "jupyter": {
          "outputs_hidden": false,
          "source_hidden": false
        },
        "nteract": {
          "transient": {
            "deleting": false
          }
        }
      }
    },
    {
      "cell_type": "markdown",
      "source": [
        "## Model Deployment\n",
        "\n",
        "Remember you have to deploy only one of the two models you trained but you still need to register both the models. Perform the steps in the rest of this notebook only if you wish to deploy this model.\n",
        "\n",
        "TODO: In the cell below, register the model, create an inference config and deploy the model as a web service."
      ],
      "metadata": {}
    },
    {
      "cell_type": "code",
      "source": [
        "best_model"
      ],
      "outputs": [],
      "execution_count": 16,
      "metadata": {
        "gather": {
          "logged": 1645756403093
        },
        "jupyter": {
          "outputs_hidden": false,
          "source_hidden": false
        },
        "nteract": {
          "transient": {
            "deleting": false
          }
        }
      }
    },
    {
      "cell_type": "markdown",
      "source": [
        "TODO: In the cell below, send a request to the web service you deployed to test it."
      ],
      "metadata": {
        "collapsed": true,
        "gather": {
          "logged": 1598431657736
        },
        "jupyter": {
          "outputs_hidden": false,
          "source_hidden": false
        },
        "nteract": {
          "transient": {
            "deleting": false
          }
        }
      }
    },
    {
      "cell_type": "code",
      "source": [
        "# test with local service instance\n",
        "env = best_run.get_environment()\n",
        "dummy_inference_config = InferenceConfig(\n",
        "    environment=env,\n",
        "    entry_script=\"echo_score.py\",\n",
        ")\n",
        "deployment_config = LocalWebservice.deploy_configuration(port=6789)\n",
        "service = Model.deploy(\n",
        "    ws,\n",
        "    \"local-wine\",\n",
        "    [model],\n",
        "    dummy_inference_config,\n",
        "    deployment_config,\n",
        "    overwrite=True,\n",
        ")\n",
        "service.wait_for_deployment(show_output=True)"
      ],
      "outputs": [
        {
          "output_type": "stream",
          "name": "stdout",
          "text": "Downloading model automl-model:4 to /tmp/azureml_3_ygeytx/automl-model/4\nGenerating Docker build context.\nPackage creation Succeeded\nLogging into Docker registry viennaglobal.azurecr.io\nLogging into Docker registry viennaglobal.azurecr.io\nBuilding Docker image from Dockerfile...\nStep 1/5 : FROM viennaglobal.azurecr.io/azureml/azureml_e587ea2e7eb04895e6a9947f351d1672\n ---> f4b133118dd9\nStep 2/5 : COPY azureml-app /var/azureml-app\n ---> 3a55bee39c75\nStep 3/5 : RUN mkdir -p '/var/azureml-app' && echo eyJhY2NvdW50Q29udGV4dCI6eyJzdWJzY3JpcHRpb25JZCI6IjVhNGFiMmJhLTZjNTEtNDgwNS04MTU1LTU4NzU5YWQ1ODlkOCIsInJlc291cmNlR3JvdXBOYW1lIjoiYW1sLXF1aWNrc3RhcnRzLTE4NTkxNyIsImFjY291bnROYW1lIjoicXVpY2stc3RhcnRzLXdzLTE4NTkxNyIsIndvcmtzcGFjZUlkIjoiNWI3ODY3NjUtN2NhMC00YzFhLTg0ZjEtZGJjNDM4MTUzOTM5In0sIm1vZGVscyI6e30sIm1vZGVsc0luZm8iOnt9fQ== | base64 --decode > /var/azureml-app/model_config_map.json\n ---> Running in 2ebaae216f81\n ---> 97161b9fc41c\nStep 4/5 : RUN mv '/var/azureml-app/tmpd_f1c047.py' /var/azureml-app/main.py\n ---> Running in c048bf9c5b4a\n ---> 19819a057e55\nStep 5/5 : CMD [\"runsvdir\",\"/var/runit\"]\n ---> Running in 694aae298810\n ---> f340bd4ced1e\nSuccessfully built f340bd4ced1e\nSuccessfully tagged local-wine:latest\nContainer has been successfully cleaned up.\nImage sha256:ee648d3da9d3a35f192ffb45da59f410d6a6eb3d9e609fba42613f5a51fba35b successfully removed.\nStarting Docker container...\nDocker container running.\nChecking container health...\nLocal webservice is running at http://localhost:6789\n"
        }
      ],
      "execution_count": 54,
      "metadata": {
        "gather": {
          "logged": 1644984306956
        },
        "jupyter": {
          "outputs_hidden": false,
          "source_hidden": false
        },
        "nteract": {
          "transient": {
            "deleting": false
          }
        }
      }
    },
    {
      "cell_type": "code",
      "source": [
        "import requests\n",
        "import json\n",
        "\n",
        "uri = service.scoring_uri\n",
        "requests.get(\"http://localhost:6789\")\n",
        "headers = {\"Content-Type\": \"application/json\"}\n",
        "data = {\n",
        "    \"fixed acidity\":7.3,\t\n",
        "    \"volatile acidity\": 0.9,\t\n",
        "    \"citric acid\": 0.1,\t\n",
        "    \"residual sugar\": 1.9,\t\n",
        "    \"chlorides\": 0.076,\t\n",
        "    \"free sulfur dioxide\": 11.0, \t\n",
        "    \"total sulfur dioxide\": 34.0,\t\n",
        "    \"density\": 0.9978,\t\n",
        "    \"pH\": 3.49,\t\n",
        "    \"sulphates\": 0.50,\t\n",
        "    \"alcohol\": 9.4\n",
        "}\n",
        "data = json.dumps(data)\n",
        "response = requests.post(uri, data=data, headers=headers)\n",
        "print(response.text)\n",
        "print(response.json())\n"
      ],
      "outputs": [
        {
          "output_type": "stream",
          "name": "stdout",
          "text": "\"{\\\"classification\\\": \\\"0\\\"}\"\n{\"classification\": \"0\"}\n"
        }
      ],
      "execution_count": 55,
      "metadata": {
        "gather": {
          "logged": 1644984307147
        },
        "jupyter": {
          "outputs_hidden": false,
          "source_hidden": false
        },
        "nteract": {
          "transient": {
            "deleting": false
          }
        }
      }
    },
    {
      "cell_type": "code",
      "source": [
        "# register model\n",
        "best_child = remote_run.get_best_child()\n",
        "model = best_child.register_model(model_name='automl-model',model_path='outputs/model.pkl')\n",
        "print(model.name, model.id, model.version, sep=' ') \n",
        "\n",
        "# deploy full instance\n",
        "service_name = \"wine-service\"\n",
        "env = best_run.get_environment()\n",
        "print(env)\n",
        "\n",
        "inference_config = InferenceConfig(\n",
        "    environment=env,\n",
        "    entry_script=\"echo_score.py\",\n",
        ")\n",
        "\n",
        "aci_config = AciWebservice.deploy_configuration(\n",
        "    cpu_cores = 0.5, \n",
        "    memory_gb=1, \n",
        "    auth_enabled=True\n",
        ")\n",
        "web_service = Model.deploy(\n",
        "    workspace=ws, \n",
        "    name=service_name,\n",
        "    models=[model], \n",
        "    inference_config=inference_config, \n",
        "    deployment_config=aci_config, \n",
        "    overwrite=True\n",
        ")\n",
        "web_service.wait_for_deployment(show_output=True)"
      ],
      "outputs": [
        {
          "output_type": "stream",
          "name": "stdout",
          "text": "automl-model automl-model:6 6\nEnvironment(Name: AzureML-AutoML,\nVersion: 98)\nTips: You can try get_logs(): https://aka.ms/debugimage#dockerlog or local deployment: https://aka.ms/debugimage#debug-locally to debug if deployment takes longer than 10 minutes.\nRunning\n2022-02-16 04:20:36+00:00 Creating Container Registry if not exists.\n2022-02-16 04:20:36+00:00 Registering the environment.\n2022-02-16 04:20:36+00:00 Use the existing image.\n2022-02-16 04:20:37+00:00 Submitting deployment to compute.\n2022-02-16 04:20:41+00:00 Checking the status of deployment wine-service..\n2022-02-16 04:24:54+00:00 Checking the status of inference endpoint wine-service.\nSucceeded\nACI service creation operation finished, operation \"Succeeded\"\n"
        }
      ],
      "execution_count": 62,
      "metadata": {
        "gather": {
          "logged": 1644985499137
        },
        "jupyter": {
          "outputs_hidden": false,
          "source_hidden": false
        },
        "nteract": {
          "transient": {
            "deleting": false
          }
        }
      }
    },
    {
      "cell_type": "code",
      "source": [
        "uri = web_service.scoring_uri\n",
        "api_key = 'EvWeVi2rnmYBE7S0XZlEwF6HadSX6zMA'\n",
        "headers = {\"Content-Type\": \"application/json\",  'Authorization':('Bearer '+ api_key)}\n",
        "data = {\n",
        "    \"fixed acidity\":7.3,\t\n",
        "    \"volatile acidity\": 0.9,\t\n",
        "    \"citric acid\": 0.1,\t\n",
        "    \"residual sugar\": 1.9,\t\n",
        "    \"chlorides\": 0.076,\t\n",
        "    \"free sulfur dioxide\": 11.0, \t\n",
        "    \"total sulfur dioxide\": 34.0,\t\n",
        "    \"density\": 0.9978,\t\n",
        "    \"pH\": 3.49,\t\n",
        "    \"sulphates\": 0.50,\t\n",
        "    \"alcohol\": 9.4\n",
        "}\n",
        "data = json.dumps(data)\n",
        "response = requests.post(uri, data=data, headers=headers)\n",
        "print(response.json())\n"
      ],
      "outputs": [
        {
          "output_type": "stream",
          "name": "stdout",
          "text": "{\"classification\": 0}\n"
        }
      ],
      "execution_count": 64,
      "metadata": {
        "gather": {
          "logged": 1644985669273
        },
        "jupyter": {
          "outputs_hidden": false,
          "source_hidden": false
        },
        "nteract": {
          "transient": {
            "deleting": false
          }
        }
      }
    },
    {
      "cell_type": "markdown",
      "source": [
        "TODO: In the cell below, print the logs of the web service and delete the service"
      ],
      "metadata": {
        "collapsed": true,
        "gather": {
          "logged": 1598432765711
        },
        "jupyter": {
          "outputs_hidden": false,
          "source_hidden": false
        },
        "nteract": {
          "transient": {
            "deleting": false
          }
        }
      }
    },
    {
      "cell_type": "code",
      "source": [
        "print(web_service.get_logs())\n",
        "web_service.delete()\n",
        "model.delete()"
      ],
      "outputs": [],
      "execution_count": null,
      "metadata": {
        "jupyter": {
          "outputs_hidden": false,
          "source_hidden": false
        },
        "nteract": {
          "transient": {
            "deleting": false
          }
        }
      }
    },
    {
      "cell_type": "markdown",
      "source": [
        "**Submission Checklist**\n",
        "- I have registered the model.\n",
        "- I have deployed the model with the best accuracy as a webservice.\n",
        "- I have tested the webservice by sending a request to the model endpoint.\n",
        "- I have deleted the webservice and shutdown all the computes that I have used.\n",
        "- I have taken a screenshot showing the model endpoint as active.\n",
        "- The project includes a file containing the environment details.\n"
      ],
      "metadata": {}
    },
    {
      "cell_type": "markdown",
      "source": [],
      "metadata": {}
    }
  ],
  "metadata": {
    "kernel_info": {
      "name": "python3"
    },
    "kernelspec": {
      "name": "python3",
      "language": "python",
      "display_name": "Python 3"
    },
    "language_info": {
      "name": "python",
      "version": "3.8.1",
      "mimetype": "text/x-python",
      "codemirror_mode": {
        "name": "ipython",
        "version": 3
      },
      "pygments_lexer": "ipython3",
      "nbconvert_exporter": "python",
      "file_extension": ".py"
    },
    "microsoft": {
      "host": {
        "AzureML": {
          "notebookHasBeenCompleted": true
        }
      }
    },
    "nteract": {
      "version": "nteract-front-end@1.0.0"
    }
  },
  "nbformat": 4,
  "nbformat_minor": 2
}