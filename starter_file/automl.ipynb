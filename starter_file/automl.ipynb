{
  "cells": [
    {
      "cell_type": "markdown",
      "metadata": {},
      "source": [
        "# Automated ML\n",
        "\n",
        "TODO: Import Dependencies. In the cell below, import all the dependencies that you will need to complete the project."
      ]
    },
    {
      "cell_type": "code",
      "execution_count": 1,
      "metadata": {
        "gather": {
          "logged": 1644977692244
        },
        "jupyter": {
          "outputs_hidden": false,
          "source_hidden": false
        },
        "nteract": {
          "transient": {
            "deleting": false
          }
        }
      },
      "outputs": [],
      "source": [
        "import logging\n",
        "import os\n",
        "import csv\n",
        "import joblib \n",
        "\n",
        "from matplotlib import pyplot as plt\n",
        "import numpy as np\n",
        "from azureml.core.compute import AmlCompute\n",
        "from azureml.core.compute import ComputeTarget\n",
        "from azureml.core.compute_target import ComputeTargetException\n",
        "import pandas as pd\n",
        "from sklearn import datasets\n",
        "import pkg_resources\n",
        "from azureml.core import Dataset\n",
        "from azureml.widgets import RunDetails\n",
        "from azureml.core.model import Model\n",
        "from azureml.core import Environment\n",
        "from azureml.core.model import InferenceConfig\n",
        "import azureml.core\n",
        "from azureml.core import Experiment\n",
        "from azureml.core import Workspace\n",
        "from azureml.train.automl import AutoMLConfig\n",
        "from azureml.widgets import RunDetails\n",
        "from azureml.core.webservice import AciWebservice\n",
        "from azureml.data.dataset_factory import TabularDatasetFactory\n",
        "from azureml.core.webservice import LocalWebservice\n"
      ]
    },
    {
      "cell_type": "markdown",
      "metadata": {},
      "source": [
        "## Dataset\n",
        "\n",
        "### Overview\n",
        "TODO: In this markdown cell, give an overview of the dataset you are using. Also mention the task you will be performing.\n",
        "\n",
        "The dataset that I am using is a binary classification dataset using wine chemical data. The dataset attempts to classify wine as either 'good' or 'bad' according to professional tasters. The input data contains various data related to consistency and taste parameters of wine. The following AutoML run will train an array of models and rank them based upon their accuracy scores\n",
        "\n",
        "TODO: Get data. In the cell below, write code to access the data you will be using in this project. Remember that the dataset needs to be external."
      ]
    },
    {
      "cell_type": "code",
      "execution_count": 2,
      "metadata": {
        "gather": {
          "logged": 1644977697857
        },
        "jupyter": {
          "outputs_hidden": false,
          "source_hidden": false
        },
        "nteract": {
          "transient": {
            "deleting": false
          }
        }
      },
      "outputs": [
        {
          "name": "stderr",
          "output_type": "stream",
          "text": [
            "\"Datastore.upload\" is deprecated after version 1.0.69. Please use \"Dataset.File.upload_directory\" to upload your files             from a local directory and create FileDataset in single method call. See Dataset API change notice at https://aka.ms/dataset-deprecation.\n"
          ]
        },
        {
          "name": "stdout",
          "output_type": "stream",
          "text": [
            "Uploading an estimated of 1 files\n",
            "Target already exists. Skipping upload for wine.parquet\n",
            "Uploaded 0 files\n"
          ]
        }
      ],
      "source": [
        "def preprocess(data):\n",
        "    y_df = data.pop(\"quality\").apply(lambda x: 1 if x == \"good\" else 0)\n",
        "    return data, y_df\n",
        "\n",
        "\n",
        "ws = Workspace.from_config()\n",
        "dataset = Dataset.get_by_name(ws, name='Wine')\n",
        "dataset = dataset.to_pandas_dataframe()\n",
        "x, y = preprocess(dataset)\n",
        "x['y'] = y\n",
        "os.makedirs('data', exist_ok=True)\n",
        "x.to_parquet('data/wine.parquet')\n",
        "dataref = ws.get_default_datastore().upload('data')\n",
        "dataset = Dataset.Tabular.from_parquet_files(path = dataref.path('wine.parquet'))\n",
        "\n",
        "# choose a name for experiment\n",
        "experiment_name = 'auto-ml-exp-1'\n",
        "\n",
        "experiment=Experiment(ws, experiment_name)"
      ]
    },
    {
      "cell_type": "markdown",
      "metadata": {},
      "source": [
        "## AutoML Configuration\n",
        "\n",
        "TODO: Explain why you chose the automl settings and cofiguration you used below."
      ]
    },
    {
      "cell_type": "code",
      "execution_count": 3,
      "metadata": {
        "gather": {
          "logged": 1644977698621
        },
        "jupyter": {
          "outputs_hidden": false,
          "source_hidden": false
        },
        "nteract": {
          "transient": {
            "deleting": false
          }
        }
      },
      "outputs": [
        {
          "name": "stdout",
          "output_type": "stream",
          "text": [
            "Using existing cluster...\n",
            "Succeeded\n",
            "AmlCompute wait for completion finished\n",
            "\n",
            "Minimum number of nodes requested have been provisioned\n"
          ]
        }
      ],
      "source": [
        "# TODO: Put your automl settings here\n",
        "automl_settings = {\n",
        "    \"experiment_timeout_minutes\": 20,\n",
        "    \"max_concurrent_iterations\": 3,\n",
        "    \"primary_metric\" : 'accuracy'\n",
        "}\n",
        "\n",
        "cluster_name = 'automl-cluster'\n",
        "try:\n",
        "    cpu_cluster = ComputeTarget(workspace=ws, name=cluster_name)\n",
        "    print(\"Using existing cluster...\")\n",
        "except ComputeTargetException:\n",
        "    print(\"Creating cluster \" + cluster_name+ \"...\")\n",
        "    compute_config = AmlCompute.provisioning_configuration(\n",
        "        vm_size='Standard_D2_V2', \n",
        "        vm_priority='lowpriority', \n",
        "        max_nodes=4\n",
        "    )\n",
        "    cpu_cluster = ComputeTarget.create(ws, cluster_name, compute_config)\n",
        "\n",
        "cpu_cluster.wait_for_completion(show_output=True)\n",
        "\n",
        "# TODO: Put your automl config here\n",
        "automl_config = AutoMLConfig(\n",
        "    compute_target=cpu_cluster,\n",
        "    task = \"classification\",\n",
        "    training_data=dataset,\n",
        "    label_column_name=\"y\",   \n",
        "    enable_early_stopping= True,\n",
        "    featurization= 'auto',\n",
        "    debug_log = \"automl_errors.log\",\n",
        "    **automl_settings\n",
        ")"
      ]
    },
    {
      "cell_type": "code",
      "execution_count": 4,
      "metadata": {
        "gather": {
          "logged": 1644977705856
        },
        "jupyter": {
          "outputs_hidden": false,
          "source_hidden": false
        },
        "nteract": {
          "transient": {
            "deleting": false
          }
        }
      },
      "outputs": [
        {
          "name": "stdout",
          "output_type": "stream",
          "text": [
            "Submitting remote run.\n"
          ]
        },
        {
          "data": {
            "text/html": [
              "<table style=\"width:100%\"><tr><th>Experiment</th><th>Id</th><th>Type</th><th>Status</th><th>Details Page</th><th>Docs Page</th></tr><tr><td>auto-ml-exp-1</td><td>AutoML_1eb1c7e3-287a-40d2-8c39-84ad6fb6fee5</td><td>automl</td><td>NotStarted</td><td><a href=\"https://ml.azure.com/runs/AutoML_1eb1c7e3-287a-40d2-8c39-84ad6fb6fee5?wsid=/subscriptions/5a4ab2ba-6c51-4805-8155-58759ad589d8/resourcegroups/aml-quickstarts-185917/workspaces/quick-starts-ws-185917&amp;tid=660b3398-b80e-49d2-bc5b-ac1dc93b5254\" target=\"_blank\" rel=\"noopener\">Link to Azure Machine Learning studio</a></td><td><a href=\"https://docs.microsoft.com/en-us/python/api/overview/azure/ml/intro?view=azure-ml-py\" target=\"_blank\" rel=\"noopener\">Link to Documentation</a></td></tr></table>"
            ],
            "text/plain": [
              "<IPython.core.display.HTML object>"
            ]
          },
          "metadata": {},
          "output_type": "display_data"
        }
      ],
      "source": [
        "# TODO: Submit your experiment\n",
        "remote_run = experiment.submit(automl_config)"
      ]
    },
    {
      "cell_type": "markdown",
      "metadata": {},
      "source": [
        "## Run Details\n",
        "\n",
        "OPTIONAL: Write about the different models trained and their performance. Why do you think some models did better than others?\n",
        "\n",
        "TODO: In the cell below, use the `RunDetails` widget to show the different experiments."
      ]
    },
    {
      "cell_type": "code",
      "execution_count": 5,
      "metadata": {
        "gather": {
          "logged": 1644977705981
        },
        "jupyter": {
          "outputs_hidden": false,
          "source_hidden": false
        },
        "nteract": {
          "transient": {
            "deleting": false
          }
        }
      },
      "outputs": [
        {
          "data": {
            "application/vnd.jupyter.widget-view+json": {
              "model_id": "254d256a888841da9b8f30053b89ff49",
              "version_major": 2,
              "version_minor": 0
            },
            "text/plain": [
              "_AutoMLWidget(widget_settings={'childWidgetDisplay': 'popup', 'send_telemetry': False, 'log_level': 'INFO', 's…"
            ]
          },
          "metadata": {},
          "output_type": "display_data"
        },
        {
          "data": {
            "application/aml.mini.widget.v1": "{\"status\": \"Completed\", \"workbench_run_details_uri\": \"https://ml.azure.com/runs/AutoML_1eb1c7e3-287a-40d2-8c39-84ad6fb6fee5?wsid=/subscriptions/5a4ab2ba-6c51-4805-8155-58759ad589d8/resourcegroups/aml-quickstarts-185917/workspaces/quick-starts-ws-185917&tid=660b3398-b80e-49d2-bc5b-ac1dc93b5254\", \"run_id\": \"AutoML_1eb1c7e3-287a-40d2-8c39-84ad6fb6fee5\", \"run_properties\": {\"run_id\": \"AutoML_1eb1c7e3-287a-40d2-8c39-84ad6fb6fee5\", \"created_utc\": \"2022-02-16T02:15:04.741786Z\", \"properties\": {\"num_iterations\": \"1000\", \"training_type\": \"TrainFull\", \"acquisition_function\": \"EI\", \"primary_metric\": \"accuracy\", \"train_split\": \"0\", \"acquisition_parameter\": \"0\", \"num_cross_validation\": null, \"target\": \"automl-cluster\", \"AMLSettingsJsonString\": \"{\\\"path\\\":null,\\\"name\\\":\\\"auto-ml-exp-1\\\",\\\"subscription_id\\\":\\\"5a4ab2ba-6c51-4805-8155-58759ad589d8\\\",\\\"resource_group\\\":\\\"aml-quickstarts-185917\\\",\\\"workspace_name\\\":\\\"quick-starts-ws-185917\\\",\\\"region\\\":\\\"southcentralus\\\",\\\"compute_target\\\":\\\"automl-cluster\\\",\\\"spark_service\\\":null,\\\"azure_service\\\":\\\"remote\\\",\\\"many_models\\\":false,\\\"pipeline_fetch_max_batch_size\\\":1,\\\"enable_batch_run\\\":true,\\\"enable_run_restructure\\\":false,\\\"start_auxiliary_runs_before_parent_complete\\\":false,\\\"enable_code_generation\\\":false,\\\"iterations\\\":1000,\\\"primary_metric\\\":\\\"accuracy\\\",\\\"task_type\\\":\\\"classification\\\",\\\"positive_label\\\":null,\\\"data_script\\\":null,\\\"test_size\\\":0.0,\\\"test_include_predictions_only\\\":false,\\\"validation_size\\\":0.0,\\\"n_cross_validations\\\":null,\\\"y_min\\\":null,\\\"y_max\\\":null,\\\"num_classes\\\":null,\\\"featurization\\\":\\\"auto\\\",\\\"_ignore_package_version_incompatibilities\\\":false,\\\"is_timeseries\\\":false,\\\"max_cores_per_iteration\\\":1,\\\"max_concurrent_iterations\\\":3,\\\"iteration_timeout_minutes\\\":null,\\\"mem_in_mb\\\":null,\\\"enforce_time_on_windows\\\":false,\\\"experiment_timeout_minutes\\\":20,\\\"experiment_exit_score\\\":null,\\\"whitelist_models\\\":null,\\\"blacklist_algos\\\":[\\\"TensorFlowLinearClassifier\\\",\\\"TensorFlowDNN\\\"],\\\"supported_models\\\":[\\\"SGD\\\",\\\"LightGBM\\\",\\\"XGBoostClassifier\\\",\\\"AveragedPerceptronClassifier\\\",\\\"LogisticRegression\\\",\\\"RandomForest\\\",\\\"MultinomialNaiveBayes\\\",\\\"BernoulliNaiveBayes\\\",\\\"ExtremeRandomTrees\\\",\\\"LinearSVM\\\",\\\"SVM\\\",\\\"TensorFlowDNN\\\",\\\"GradientBoosting\\\",\\\"DecisionTree\\\",\\\"KNN\\\",\\\"TensorFlowLinearClassifier\\\"],\\\"private_models\\\":[\\\"TabnetClassifier\\\"],\\\"auto_blacklist\\\":true,\\\"blacklist_samples_reached\\\":false,\\\"exclude_nan_labels\\\":true,\\\"verbosity\\\":20,\\\"_debug_log\\\":\\\"azureml_automl.log\\\",\\\"show_warnings\\\":false,\\\"model_explainability\\\":true,\\\"service_url\\\":null,\\\"sdk_url\\\":null,\\\"sdk_packages\\\":null,\\\"enable_onnx_compatible_models\\\":false,\\\"enable_split_onnx_featurizer_estimator_models\\\":false,\\\"vm_type\\\":\\\"STANDARD_D2_V2\\\",\\\"telemetry_verbosity\\\":20,\\\"send_telemetry\\\":true,\\\"enable_dnn\\\":false,\\\"scenario\\\":\\\"SDK-1.13.0\\\",\\\"environment_label\\\":null,\\\"save_mlflow\\\":false,\\\"enable_categorical_indicators\\\":false,\\\"force_text_dnn\\\":false,\\\"enable_feature_sweeping\\\":true,\\\"enable_early_stopping\\\":true,\\\"early_stopping_n_iters\\\":10,\\\"arguments\\\":null,\\\"dataset_id\\\":null,\\\"hyperdrive_config\\\":null,\\\"validation_dataset_id\\\":null,\\\"run_source\\\":null,\\\"metrics\\\":null,\\\"enable_metric_confidence\\\":false,\\\"enable_ensembling\\\":true,\\\"enable_stack_ensembling\\\":true,\\\"ensemble_iterations\\\":15,\\\"enable_tf\\\":false,\\\"enable_subsampling\\\":null,\\\"subsample_seed\\\":null,\\\"enable_nimbusml\\\":false,\\\"enable_streaming\\\":false,\\\"force_streaming\\\":false,\\\"track_child_runs\\\":true,\\\"allowed_private_models\\\":[],\\\"label_column_name\\\":\\\"y\\\",\\\"weight_column_name\\\":null,\\\"cv_split_column_names\\\":null,\\\"enable_local_managed\\\":false,\\\"_local_managed_run_id\\\":null,\\\"cost_mode\\\":1,\\\"lag_length\\\":0,\\\"metric_operation\\\":\\\"maximize\\\",\\\"preprocess\\\":true}\", \"DataPrepJsonString\": \"{\\\\\\\"training_data\\\\\\\": {\\\\\\\"datasetId\\\\\\\": \\\\\\\"ef971b5a-e64a-4586-b225-37c68ae4f01f\\\\\\\"}, \\\\\\\"datasets\\\\\\\": 0}\", \"EnableSubsampling\": null, \"runTemplate\": \"AutoML\", \"azureml.runsource\": \"automl\", \"display_task_type\": \"classification\", \"dependencies_versions\": \"{\\\"azureml-widgets\\\": \\\"1.37.0\\\", \\\"azureml-train\\\": \\\"1.37.0\\\", \\\"azureml-train-restclients-hyperdrive\\\": \\\"1.37.0\\\", \\\"azureml-train-core\\\": \\\"1.37.0\\\", \\\"azureml-train-automl\\\": \\\"1.37.0\\\", \\\"azureml-train-automl-runtime\\\": \\\"1.37.0\\\", \\\"azureml-train-automl-client\\\": \\\"1.37.0\\\", \\\"azureml-tensorboard\\\": \\\"1.37.0\\\", \\\"azureml-telemetry\\\": \\\"1.37.0\\\", \\\"azureml-sdk\\\": \\\"1.37.0\\\", \\\"azureml-samples\\\": \\\"0+unknown\\\", \\\"azureml-responsibleai\\\": \\\"1.37.0\\\", \\\"azureml-pipeline\\\": \\\"1.37.0\\\", \\\"azureml-pipeline-steps\\\": \\\"1.37.0\\\", \\\"azureml-pipeline-core\\\": \\\"1.37.0\\\", \\\"azureml-opendatasets\\\": \\\"1.37.0\\\", \\\"azureml-mlflow\\\": \\\"1.37.0\\\", \\\"azureml-interpret\\\": \\\"1.37.0\\\", \\\"azureml-inference-server-http\\\": \\\"0.4.2\\\", \\\"azureml-explain-model\\\": \\\"1.37.0\\\", \\\"azureml-defaults\\\": \\\"1.37.0\\\", \\\"azureml-dataset-runtime\\\": \\\"1.37.0\\\", \\\"azureml-dataprep\\\": \\\"2.25.0\\\", \\\"azureml-dataprep-rslex\\\": \\\"2.1.0\\\", \\\"azureml-dataprep-native\\\": \\\"38.0.0\\\", \\\"azureml-datadrift\\\": \\\"1.37.0\\\", \\\"azureml-core\\\": \\\"1.37.0\\\", \\\"azureml-contrib-services\\\": \\\"1.37.0\\\", \\\"azureml-contrib-server\\\": \\\"1.37.0\\\", \\\"azureml-contrib-reinforcementlearning\\\": \\\"1.37.0\\\", \\\"azureml-contrib-pipeline-steps\\\": \\\"1.37.0\\\", \\\"azureml-contrib-notebook\\\": \\\"1.37.0\\\", \\\"azureml-contrib-fairness\\\": \\\"1.37.0\\\", \\\"azureml-contrib-dataset\\\": \\\"1.37.0\\\", \\\"azureml-contrib-automl-pipeline-steps\\\": \\\"1.37.0\\\", \\\"azureml-cli-common\\\": \\\"1.37.0\\\", \\\"azureml-automl-runtime\\\": \\\"1.37.0\\\", \\\"azureml-automl-dnn-nlp\\\": \\\"1.37.0\\\", \\\"azureml-automl-core\\\": \\\"1.37.0\\\", \\\"azureml-accel-models\\\": \\\"1.37.0\\\"}\", \"_aml_system_scenario_identification\": \"Remote.Parent\", \"ClientType\": \"SDK\", \"environment_cpu_name\": \"AzureML-AutoML\", \"environment_cpu_label\": \"py36\", \"environment_gpu_name\": \"AzureML-AutoML-GPU\", \"environment_gpu_label\": \"py36\", \"root_attribution\": \"automl\", \"attribution\": \"AutoML\", \"Orchestrator\": \"AutoML\", \"CancelUri\": \"https://southcentralus.api.azureml.ms/jasmine/v1.0/subscriptions/5a4ab2ba-6c51-4805-8155-58759ad589d8/resourceGroups/aml-quickstarts-185917/providers/Microsoft.MachineLearningServices/workspaces/quick-starts-ws-185917/experimentids/84518bc5-85ce-47b3-af7d-8361fadeed77/cancel/AutoML_1eb1c7e3-287a-40d2-8c39-84ad6fb6fee5\", \"ClientSdkVersion\": \"1.38.0\", \"snapshotId\": \"00000000-0000-0000-0000-000000000000\", \"SetupRunId\": \"AutoML_1eb1c7e3-287a-40d2-8c39-84ad6fb6fee5_setup\", \"SetupRunContainerId\": \"dcid.AutoML_1eb1c7e3-287a-40d2-8c39-84ad6fb6fee5_setup\", \"FeaturizationRunJsonPath\": \"featurizer_container.json\", \"FeaturizationRunId\": \"AutoML_1eb1c7e3-287a-40d2-8c39-84ad6fb6fee5_featurize\", \"ProblemInfoJsonString\": \"{\\\"dataset_num_categorical\\\": 0, \\\"is_sparse\\\": false, \\\"subsampling\\\": false, \\\"has_extra_col\\\": true, \\\"dataset_classes\\\": 2, \\\"dataset_features\\\": 11, \\\"dataset_samples\\\": 1599, \\\"single_frequency_class_detected\\\": false}\", \"ModelExplainRunId\": \"AutoML_1eb1c7e3-287a-40d2-8c39-84ad6fb6fee5_ModelExplain\"}, \"tags\": {\"model_explain_run\": \"best_run\", \"_aml_system_azureml.automlComponent\": \"AutoML\", \"pipeline_id\": \"\", \"score\": \"\", \"predicted_cost\": \"\", \"fit_time\": \"\", \"training_percent\": \"\", \"iteration\": \"\", \"run_preprocessor\": \"\", \"run_algorithm\": \"\", \"dynamic_whitelisting_iterations\": \"<25>;<30>;\", \"_aml_system_azureml.automl_early_exit_message\": \"No scores improved over last 20 iterations, so experiment stopped early. This early stopping behavior can be disabled by setting enable_early_stopping = False in AutoMLConfig for notebook/python SDK runs.\", \"automl_best_child_run_id\": \"AutoML_1eb1c7e3-287a-40d2-8c39-84ad6fb6fee5_34\", \"model_explain_best_run_child_id\": \"AutoML_1eb1c7e3-287a-40d2-8c39-84ad6fb6fee5_34\"}, \"end_time_utc\": \"2022-02-16T02:41:47.3976Z\", \"status\": \"Completed\", \"log_files\": {}, \"log_groups\": [], \"run_duration\": \"0:26:42\", \"run_number\": \"1644977704\", \"run_queued_details\": {\"status\": \"Completed\", \"details\": null}}, \"child_runs\": [{\"run_id\": \"AutoML_1eb1c7e3-287a-40d2-8c39-84ad6fb6fee5_setup\", \"run_number\": 1644977717, \"metric\": null, \"status\": \"Completed\", \"run_type\": \"azureml.scriptrun\", \"training_percent\": null, \"start_time\": \"2022-02-16T02:21:24.289365Z\", \"end_time\": \"2022-02-16T02:26:05.763154Z\", \"created_time\": \"2022-02-16T02:15:17.349715Z\", \"created_time_dt\": \"2022-02-16T02:15:17.349715Z\", \"duration\": \"0:10:48\", \"iteration\": null, \"goal\": null, \"run_name\": \"Completed\", \"run_properties\": null}, {\"run_id\": \"AutoML_1eb1c7e3-287a-40d2-8c39-84ad6fb6fee5_featurize\", \"run_number\": 1644978366, \"metric\": null, \"status\": \"Completed\", \"run_type\": \"automl.featurization\", \"training_percent\": null, \"start_time\": \"2022-02-16T02:26:06.667253Z\", \"end_time\": \"2022-02-16T02:26:45.221226Z\", \"created_time\": \"2022-02-16T02:26:06.175128Z\", \"created_time_dt\": \"2022-02-16T02:26:06.175128Z\", \"duration\": \"0:00:39\", \"iteration\": null, \"goal\": null, \"run_name\": \"Completed\", \"run_properties\": null}, {\"run_id\": \"AutoML_1eb1c7e3-287a-40d2-8c39-84ad6fb6fee5_0\", \"run_number\": 1644978406, \"metric\": null, \"status\": \"Completed\", \"run_type\": null, \"training_percent\": \"100\", \"start_time\": \"2022-02-16T02:27:12.608738Z\", \"end_time\": \"2022-02-16T02:27:21.146542Z\", \"created_time\": \"2022-02-16T02:26:46.963275Z\", \"created_time_dt\": \"2022-02-16T02:26:46.963275Z\", \"duration\": \"0:00:34\", \"iteration\": \"0\", \"goal\": \"accuracy_max\", \"run_name\": \"MaxAbsScaler, LightGBM\", \"run_properties\": \"copy=True\", \"primary_metric\": 0.79612258, \"best_metric\": 0.79612258}, {\"run_id\": \"AutoML_1eb1c7e3-287a-40d2-8c39-84ad6fb6fee5_1\", \"run_number\": 1644978407, \"metric\": null, \"status\": \"Completed\", \"run_type\": null, \"training_percent\": \"100\", \"start_time\": \"2022-02-16T02:27:21.332553Z\", \"end_time\": \"2022-02-16T02:27:32.242081Z\", \"created_time\": \"2022-02-16T02:26:47.596403Z\", \"created_time_dt\": \"2022-02-16T02:26:47.596403Z\", \"duration\": \"0:00:44\", \"iteration\": \"1\", \"goal\": \"accuracy_max\", \"run_name\": \"MaxAbsScaler, XGBoostClassifier\", \"run_properties\": \"copy=True\", \"primary_metric\": 0.77298311, \"best_metric\": 0.79612258}, {\"run_id\": \"AutoML_1eb1c7e3-287a-40d2-8c39-84ad6fb6fee5_2\", \"run_number\": 1644978408, \"metric\": null, \"status\": \"Completed\", \"run_type\": null, \"training_percent\": \"100\", \"start_time\": \"2022-02-16T02:27:32.440096Z\", \"end_time\": \"2022-02-16T02:27:50.326547Z\", \"created_time\": \"2022-02-16T02:26:48.144417Z\", \"created_time_dt\": \"2022-02-16T02:26:48.144417Z\", \"duration\": \"0:01:02\", \"iteration\": \"2\", \"goal\": \"accuracy_max\", \"run_name\": \"MaxAbsScaler, ExtremeRandomTrees\", \"run_properties\": \"copy=True\", \"primary_metric\": 0.73796123, \"best_metric\": 0.79612258}, {\"run_id\": \"AutoML_1eb1c7e3-287a-40d2-8c39-84ad6fb6fee5_4\", \"run_number\": 1644978409, \"metric\": null, \"status\": \"Completed\", \"run_type\": null, \"training_percent\": \"100\", \"start_time\": \"2022-02-16T02:27:58.735456Z\", \"end_time\": \"2022-02-16T02:28:07.030548Z\", \"created_time\": \"2022-02-16T02:26:49.614368Z\", \"created_time_dt\": \"2022-02-16T02:26:49.614368Z\", \"duration\": \"0:01:17\", \"iteration\": \"4\", \"goal\": \"accuracy_max\", \"run_name\": \"StandardScalerWrapper, KNN\", \"run_properties\": \"\\n    copy=True,\\n    with_mean=False,\\n    with_std=False\\n\", \"primary_metric\": 0.71794872, \"best_metric\": 0.79612258}, {\"run_id\": \"AutoML_1eb1c7e3-287a-40d2-8c39-84ad6fb6fee5_5\", \"run_number\": 1644978410, \"metric\": null, \"status\": \"Completed\", \"run_type\": null, \"training_percent\": \"100\", \"start_time\": \"2022-02-16T02:28:07.207334Z\", \"end_time\": \"2022-02-16T02:28:15.439466Z\", \"created_time\": \"2022-02-16T02:26:50.254185Z\", \"created_time_dt\": \"2022-02-16T02:26:50.254185Z\", \"duration\": \"0:01:25\", \"iteration\": \"5\", \"goal\": \"accuracy_max\", \"run_name\": \"MaxAbsScaler, LightGBM\", \"run_properties\": \"copy=True\", \"primary_metric\": 0.76672921, \"best_metric\": 0.79612258}, {\"run_id\": \"AutoML_1eb1c7e3-287a-40d2-8c39-84ad6fb6fee5_worker_0\", \"run_number\": 1644978411, \"metric\": null, \"status\": \"Completed\", \"run_type\": \"azureml.scriptrun\", \"training_percent\": null, \"start_time\": \"2022-02-16T02:28:31.236733Z\", \"end_time\": \"2022-02-16T02:28:34.85867Z\", \"created_time\": \"2022-02-16T02:26:51.139074Z\", \"created_time_dt\": \"2022-02-16T02:26:51.139074Z\", \"duration\": \"0:01:43\", \"iteration\": null, \"goal\": null, \"run_name\": \"Completed\", \"run_properties\": null}, {\"run_id\": \"AutoML_1eb1c7e3-287a-40d2-8c39-84ad6fb6fee5_9\", \"run_number\": 1644978412, \"metric\": null, \"status\": \"Completed\", \"run_type\": null, \"training_percent\": \"100\", \"start_time\": \"2022-02-16T02:32:33.249889Z\", \"end_time\": \"2022-02-16T02:32:43.183714Z\", \"created_time\": \"2022-02-16T02:26:52.472393Z\", \"created_time_dt\": \"2022-02-16T02:26:52.472393Z\", \"duration\": \"0:05:50\", \"iteration\": \"9\", \"goal\": \"accuracy_max\", \"run_name\": \"StandardScalerWrapper, SVM\", \"run_properties\": \"\\n    copy=True,\\n    with_mean=True,\\n    with_std=True\\n\", \"primary_metric\": 0.76110069, \"best_metric\": 0.79612258}, {\"run_id\": \"AutoML_1eb1c7e3-287a-40d2-8c39-84ad6fb6fee5_11\", \"run_number\": 1644978413, \"metric\": null, \"status\": \"Completed\", \"run_type\": null, \"training_percent\": \"100\", \"start_time\": \"2022-02-16T02:32:52.117478Z\", \"end_time\": \"2022-02-16T02:33:01.779947Z\", \"created_time\": \"2022-02-16T02:26:53.615016Z\", \"created_time_dt\": \"2022-02-16T02:26:53.615016Z\", \"duration\": \"0:06:08\", \"iteration\": \"11\", \"goal\": \"accuracy_max\", \"run_name\": \"MinMaxScaler, RandomForest\", \"run_properties\": \"copy=True, feature_range=(0, 1\", \"primary_metric\": 0.73733583, \"best_metric\": 0.79612258}, {\"run_id\": \"AutoML_1eb1c7e3-287a-40d2-8c39-84ad6fb6fee5_12\", \"run_number\": 1644978414, \"metric\": null, \"status\": \"Completed\", \"run_type\": null, \"training_percent\": \"100\", \"start_time\": \"2022-02-16T02:33:01.954242Z\", \"end_time\": \"2022-02-16T02:33:10.292071Z\", \"created_time\": \"2022-02-16T02:26:54.113571Z\", \"created_time_dt\": \"2022-02-16T02:26:54.113571Z\", \"duration\": \"0:06:16\", \"iteration\": \"12\", \"goal\": \"accuracy_max\", \"run_name\": \"StandardScalerWrapper, LogisticRegression\", \"run_properties\": \"\\n    copy=True,\\n    with_mean=True,\\n    with_std=False\\n\", \"primary_metric\": 0.73608505, \"best_metric\": 0.79612258}, {\"run_id\": \"AutoML_1eb1c7e3-287a-40d2-8c39-84ad6fb6fee5_14\", \"run_number\": 1644978418, \"metric\": null, \"status\": \"Completed\", \"run_type\": null, \"training_percent\": \"100\", \"start_time\": \"2022-02-16T02:28:49.145696Z\", \"end_time\": \"2022-02-16T02:28:57.622425Z\", \"created_time\": \"2022-02-16T02:26:58.638208Z\", \"created_time_dt\": \"2022-02-16T02:26:58.638208Z\", \"duration\": \"0:01:58\", \"iteration\": \"14\", \"goal\": \"accuracy_max\", \"run_name\": \"RobustScaler, KNN\", \"run_properties\": \"copy=True, quantile_range=[10, 90], with_centering=False,\\n             with_scaling=True\", \"primary_metric\": 0.78361476, \"best_metric\": 0.79612258}, {\"run_id\": \"AutoML_1eb1c7e3-287a-40d2-8c39-84ad6fb6fee5_15\", \"run_number\": 1644978419, \"metric\": null, \"status\": \"Completed\", \"run_type\": null, \"training_percent\": \"100\", \"start_time\": \"2022-02-16T02:28:57.797011Z\", \"end_time\": \"2022-02-16T02:29:05.79003Z\", \"created_time\": \"2022-02-16T02:26:59.181571Z\", \"created_time_dt\": \"2022-02-16T02:26:59.181571Z\", \"duration\": \"0:02:06\", \"iteration\": \"15\", \"goal\": \"accuracy_max\", \"run_name\": \"MinMaxScaler, KNN\", \"run_properties\": \"copy=True, feature_range=(0, 1\", \"primary_metric\": 0.78486554, \"best_metric\": 0.79612258}, {\"run_id\": \"AutoML_1eb1c7e3-287a-40d2-8c39-84ad6fb6fee5_17\", \"run_number\": 1644978420, \"metric\": null, \"status\": \"Completed\", \"run_type\": null, \"training_percent\": \"100\", \"start_time\": \"2022-02-16T02:29:14.204099Z\", \"end_time\": \"2022-02-16T02:29:22.583584Z\", \"created_time\": \"2022-02-16T02:27:00.205777Z\", \"created_time_dt\": \"2022-02-16T02:27:00.205777Z\", \"duration\": \"0:02:22\", \"iteration\": \"17\", \"goal\": \"accuracy_max\", \"run_name\": \"MaxAbsScaler, LogisticRegression\", \"run_properties\": \"copy=True\", \"primary_metric\": 0.74108818, \"best_metric\": 0.79612258}, {\"run_id\": \"AutoML_1eb1c7e3-287a-40d2-8c39-84ad6fb6fee5_worker_2\", \"run_number\": 1644978421, \"metric\": null, \"status\": \"Completed\", \"run_type\": \"azureml.scriptrun\", \"training_percent\": null, \"start_time\": \"2022-02-16T02:29:25.807106Z\", \"end_time\": \"2022-02-16T02:29:46.699952Z\", \"created_time\": \"2022-02-16T02:27:01.875115Z\", \"created_time_dt\": \"2022-02-16T02:27:01.875115Z\", \"duration\": \"0:02:44\", \"iteration\": null, \"goal\": null, \"run_name\": \"Completed\", \"run_properties\": null}, {\"run_id\": \"AutoML_1eb1c7e3-287a-40d2-8c39-84ad6fb6fee5_20\", \"run_number\": 1644978791, \"metric\": null, \"status\": \"Completed\", \"run_type\": \"azureml.scriptrun\", \"training_percent\": \"100\", \"start_time\": \"2022-02-16T02:33:43.315807Z\", \"end_time\": \"2022-02-16T02:33:46.935377Z\", \"created_time\": \"2022-02-16T02:33:11.786925Z\", \"created_time_dt\": \"2022-02-16T02:33:11.786925Z\", \"duration\": \"0:00:35\", \"iteration\": \"20\", \"goal\": \"accuracy_max\", \"run_name\": \"MaxAbsScaler, LogisticRegression\", \"run_properties\": \"copy=True\", \"primary_metric\": 0.74171357, \"best_metric\": 0.79612258}, {\"run_id\": \"AutoML_1eb1c7e3-287a-40d2-8c39-84ad6fb6fee5_21\", \"run_number\": 1644978797, \"metric\": null, \"status\": \"Completed\", \"run_type\": \"azureml.scriptrun\", \"training_percent\": \"100\", \"start_time\": \"2022-02-16T02:35:24.547788Z\", \"end_time\": \"2022-02-16T02:38:55.465005Z\", \"created_time\": \"2022-02-16T02:33:17.597575Z\", \"created_time_dt\": \"2022-02-16T02:33:17.597575Z\", \"duration\": \"0:05:37\", \"iteration\": \"21\", \"goal\": \"accuracy_max\", \"run_name\": \"StandardScalerWrapper, XGBoostClassifier\", \"run_properties\": \"\\n    copy=True,\\n    with_mean=False,\\n    with_std=False\\n\", \"primary_metric\": 0.76422764, \"best_metric\": 0.79612258}, {\"run_id\": \"AutoML_1eb1c7e3-287a-40d2-8c39-84ad6fb6fee5_22\", \"run_number\": 1644978807, \"metric\": null, \"status\": \"Completed\", \"run_type\": \"azureml.scriptrun\", \"training_percent\": \"100\", \"start_time\": \"2022-02-16T02:33:56.976127Z\", \"end_time\": \"2022-02-16T02:34:00.582482Z\", \"created_time\": \"2022-02-16T02:33:27.853423Z\", \"created_time_dt\": \"2022-02-16T02:33:27.853423Z\", \"duration\": \"0:00:32\", \"iteration\": \"22\", \"goal\": \"accuracy_max\", \"run_name\": \"SparseNormalizer, RandomForest\", \"run_properties\": \"copy=True, norm='l2'\", \"primary_metric\": 0.7329581, \"best_metric\": 0.79612258}, {\"run_id\": \"AutoML_1eb1c7e3-287a-40d2-8c39-84ad6fb6fee5_23\", \"run_number\": 1644978829, \"metric\": null, \"status\": \"Completed\", \"run_type\": \"azureml.scriptrun\", \"training_percent\": \"100\", \"start_time\": \"2022-02-16T02:35:25.065658Z\", \"end_time\": \"2022-02-16T02:35:28.662343Z\", \"created_time\": \"2022-02-16T02:33:49.859414Z\", \"created_time_dt\": \"2022-02-16T02:33:49.859414Z\", \"duration\": \"0:01:38\", \"iteration\": \"23\", \"goal\": \"accuracy_max\", \"run_name\": \"StandardScalerWrapper, RandomForest\", \"run_properties\": \"\\n    copy=True,\\n    with_mean=False,\\n    with_std=False\\n\", \"primary_metric\": 0.76797999, \"best_metric\": 0.79612258}, {\"run_id\": \"AutoML_1eb1c7e3-287a-40d2-8c39-84ad6fb6fee5_24\", \"run_number\": 1644978842, \"metric\": null, \"status\": \"Completed\", \"run_type\": \"azureml.scriptrun\", \"training_percent\": \"100\", \"start_time\": \"2022-02-16T02:35:36.637899Z\", \"end_time\": \"2022-02-16T02:35:40.259387Z\", \"created_time\": \"2022-02-16T02:34:02.533977Z\", \"created_time_dt\": \"2022-02-16T02:34:02.533977Z\", \"duration\": \"0:01:37\", \"iteration\": \"24\", \"goal\": \"accuracy_max\", \"run_name\": \"StandardScalerWrapper, LightGBM\", \"run_properties\": \"\\n    copy=True,\\n    with_mean=False,\\n    with_std=False\\n\", \"primary_metric\": 0.74609131, \"best_metric\": 0.79612258}, {\"run_id\": \"AutoML_1eb1c7e3-287a-40d2-8c39-84ad6fb6fee5_25\", \"run_number\": 1644978931, \"metric\": null, \"status\": \"Completed\", \"run_type\": \"azureml.scriptrun\", \"training_percent\": \"100\", \"start_time\": \"2022-02-16T02:35:54.40604Z\", \"end_time\": \"2022-02-16T02:35:57.986965Z\", \"created_time\": \"2022-02-16T02:35:31.548667Z\", \"created_time_dt\": \"2022-02-16T02:35:31.548667Z\", \"duration\": \"0:00:26\", \"iteration\": \"25\", \"goal\": \"accuracy_max\", \"run_name\": \"PCA, KNN\", \"run_properties\": \"copy=True, iterated_power='auto', n_components=0.5047368421052632,\\n    random_state=None, svd_solver='auto', tol=0.0, whiten=True\", \"primary_metric\": 0.57723577, \"best_metric\": 0.79612258}, {\"run_id\": \"AutoML_1eb1c7e3-287a-40d2-8c39-84ad6fb6fee5_26\", \"run_number\": 1644978942, \"metric\": null, \"status\": \"Completed\", \"run_type\": \"azureml.scriptrun\", \"training_percent\": \"100\", \"start_time\": \"2022-02-16T02:37:34.88111Z\", \"end_time\": \"2022-02-16T02:37:38.515462Z\", \"created_time\": \"2022-02-16T02:35:42.162687Z\", \"created_time_dt\": \"2022-02-16T02:35:42.162687Z\", \"duration\": \"0:01:56\", \"iteration\": \"26\", \"goal\": \"accuracy_max\", \"run_name\": \"MaxAbsScaler, RandomForest\", \"run_properties\": \"copy=True\", \"primary_metric\": 0.74108818, \"best_metric\": 0.79612258}, {\"run_id\": \"AutoML_1eb1c7e3-287a-40d2-8c39-84ad6fb6fee5_27\", \"run_number\": 1644978962, \"metric\": null, \"status\": \"Completed\", \"run_type\": \"azureml.scriptrun\", \"training_percent\": \"100\", \"start_time\": \"2022-02-16T02:37:35.897116Z\", \"end_time\": \"2022-02-16T02:37:39.485659Z\", \"created_time\": \"2022-02-16T02:36:02.098989Z\", \"created_time_dt\": \"2022-02-16T02:36:02.098989Z\", \"duration\": \"0:01:37\", \"iteration\": \"27\", \"goal\": \"accuracy_max\", \"run_name\": \"StandardScalerWrapper, LightGBM\", \"run_properties\": \"\\n    copy=True,\\n    with_mean=False,\\n    with_std=True\\n\", \"primary_metric\": 0.74358974, \"best_metric\": 0.79612258}, {\"run_id\": \"AutoML_1eb1c7e3-287a-40d2-8c39-84ad6fb6fee5_28\", \"run_number\": 1644979060, \"metric\": null, \"status\": \"Completed\", \"run_type\": \"azureml.scriptrun\", \"training_percent\": \"100\", \"start_time\": \"2022-02-16T02:38:14.478517Z\", \"end_time\": \"2022-02-16T02:38:18.10422Z\", \"created_time\": \"2022-02-16T02:37:40.563821Z\", \"created_time_dt\": \"2022-02-16T02:37:40.563821Z\", \"duration\": \"0:00:37\", \"iteration\": \"28\", \"goal\": \"accuracy_max\", \"run_name\": \"MaxAbsScaler, LightGBM\", \"run_properties\": \"copy=True\", \"primary_metric\": 0.75984991, \"best_metric\": 0.79612258}, {\"run_id\": \"AutoML_1eb1c7e3-287a-40d2-8c39-84ad6fb6fee5_29\", \"run_number\": 1644979065, \"metric\": null, \"status\": \"Completed\", \"run_type\": \"azureml.scriptrun\", \"training_percent\": \"100\", \"start_time\": \"2022-02-16T02:39:34.155048Z\", \"end_time\": \"2022-02-16T02:39:37.767392Z\", \"created_time\": \"2022-02-16T02:37:45.411516Z\", \"created_time_dt\": \"2022-02-16T02:37:45.411516Z\", \"duration\": \"0:01:52\", \"iteration\": \"29\", \"goal\": \"accuracy_max\", \"run_name\": \"StandardScalerWrapper, XGBoostClassifier\", \"run_properties\": \"\\n    copy=True,\\n    with_mean=False,\\n    with_std=False\\n\", \"primary_metric\": 0.76672921, \"best_metric\": 0.79612258}, {\"run_id\": \"AutoML_1eb1c7e3-287a-40d2-8c39-84ad6fb6fee5_30\", \"run_number\": 1644979101, \"metric\": null, \"status\": \"Completed\", \"run_type\": \"azureml.scriptrun\", \"training_percent\": \"100\", \"start_time\": \"2022-02-16T02:39:37.433439Z\", \"end_time\": \"2022-02-16T02:39:41.081055Z\", \"created_time\": \"2022-02-16T02:38:21.678086Z\", \"created_time_dt\": \"2022-02-16T02:38:21.678086Z\", \"duration\": \"0:01:19\", \"iteration\": \"30\", \"goal\": \"accuracy_max\", \"run_name\": \"TruncatedSVDWrapper, KNN\", \"run_properties\": \"n_components=0.6531578947368422, random_state=None\", \"primary_metric\": 0.65478424, \"best_metric\": 0.79612258}, {\"run_id\": \"AutoML_1eb1c7e3-287a-40d2-8c39-84ad6fb6fee5_31\", \"run_number\": 1644979139, \"metric\": null, \"status\": \"Completed\", \"run_type\": \"azureml.scriptrun\", \"training_percent\": \"100\", \"start_time\": \"2022-02-16T02:39:45.414194Z\", \"end_time\": \"2022-02-16T02:39:49.05043Z\", \"created_time\": \"2022-02-16T02:38:59.388922Z\", \"created_time_dt\": \"2022-02-16T02:38:59.388922Z\", \"duration\": \"0:00:49\", \"iteration\": \"31\", \"goal\": \"accuracy_max\", \"run_name\": \"StandardScalerWrapper, XGBoostClassifier\", \"run_properties\": \"\\n    copy=True,\\n    with_mean=False,\\n    with_std=False\\n\", \"primary_metric\": 0.75234522, \"best_metric\": 0.79612258}, {\"run_id\": \"AutoML_1eb1c7e3-287a-40d2-8c39-84ad6fb6fee5_32\", \"run_number\": 1644979179, \"metric\": null, \"status\": \"Canceled\", \"run_type\": \"azureml.scriptrun\", \"training_percent\": \"100\", \"start_time\": \"2022-02-16T02:39:56.313357Z\", \"end_time\": \"2022-02-16T02:39:56.696362Z\", \"created_time\": \"2022-02-16T02:39:39.690419Z\", \"created_time_dt\": \"2022-02-16T02:39:39.690419Z\", \"duration\": \"0:00:17\", \"iteration\": \"32\", \"goal\": null, \"run_name\": \"StandardScalerWrapper, LogisticRegression\", \"run_properties\": null}, {\"run_id\": \"AutoML_1eb1c7e3-287a-40d2-8c39-84ad6fb6fee5_33\", \"run_number\": 1644979192, \"metric\": null, \"status\": \"Canceled\", \"run_type\": \"azureml.scriptrun\", \"training_percent\": \"100\", \"start_time\": \"2022-02-16T02:39:56.478738Z\", \"end_time\": \"2022-02-16T02:39:57.784634Z\", \"created_time\": \"2022-02-16T02:39:52.07218Z\", \"created_time_dt\": \"2022-02-16T02:39:52.07218Z\", \"duration\": \"0:00:05\", \"iteration\": \"33\", \"goal\": null, \"run_name\": \"Canceled\", \"run_properties\": null}, {\"run_id\": \"AutoML_1eb1c7e3-287a-40d2-8c39-84ad6fb6fee5_35\", \"run_number\": 1644979198, \"metric\": null, \"status\": \"Completed\", \"run_type\": \"azureml.scriptrun\", \"training_percent\": \"100\", \"start_time\": \"2022-02-16T02:40:43.173147Z\", \"end_time\": \"2022-02-16T02:40:46.836615Z\", \"created_time\": \"2022-02-16T02:39:58.862702Z\", \"created_time_dt\": \"2022-02-16T02:39:58.862702Z\", \"duration\": \"0:00:47\", \"iteration\": \"35\", \"goal\": \"accuracy_max\", \"run_name\": \"StackEnsemble\", \"run_properties\": \"\\n    base_learners=[('13', Pipeline(\\n        memory=None,\\n        steps=[('standardscalerwrapper', StandardScalerWrapper(\\n            copy=True,\\n            with_mean=False,\\n            with_std=True\\n        \", \"primary_metric\": 0.82113821, \"best_metric\": 0.82113821}], \"children_metrics\": {\"categories\": [0], \"series\": {\"weighted_accuracy\": [{\"categories\": [\"0\", \"1\", \"2\", \"4\", \"5\", \"9\", \"11\", \"12\", \"14\", \"15\", \"17\", \"20\", \"21\", \"22\", \"23\", \"24\", \"25\", \"26\", \"27\", \"28\", \"29\", \"30\", \"31\", \"35\"], \"mode\": \"markers\", \"name\": \"weighted_accuracy\", \"stepped\": false, \"type\": \"scatter\", \"data\": [0.7977766778344323, 0.7738252436407308, 0.7354577830898951, 0.7188888620747402, 0.7676735261753724, 0.7619080215170744, 0.736233360813808, 0.7358046046595393, 0.7870152875873667, 0.787323020020083, 0.7413019924700995, 0.7415114553194253, 0.7661847404249409, 0.7342892063303957, 0.7691120581099797, 0.7475605050950591, 0.5814253435587583, 0.7411052907048384, 0.7464770854370025, 0.7617723982367975, 0.7673345614164301, 0.6522157465858306, 0.7520940950765956, 0.821882866709839]}, {\"categories\": [\"0\", \"1\", \"2\", \"4\", \"5\", \"9\", \"11\", \"12\", \"14\", \"15\", \"17\", \"20\", \"21\", \"22\", \"23\", \"24\", \"25\", \"26\", \"27\", \"28\", \"29\", \"30\", \"31\", \"35\"], \"mode\": \"lines\", \"name\": \"weighted_accuracy_max\", \"stepped\": true, \"type\": \"scatter\", \"data\": [0.7977766778344323, 0.7977766778344323, 0.7977766778344323, 0.7977766778344323, 0.7977766778344323, 0.7977766778344323, 0.7977766778344323, 0.7977766778344323, 0.7977766778344323, 0.7977766778344323, 0.7977766778344323, 0.7977766778344323, 0.7977766778344323, 0.7977766778344323, 0.7977766778344323, 0.7977766778344323, 0.7977766778344323, 0.7977766778344323, 0.7977766778344323, 0.7977766778344323, 0.7977766778344323, 0.7977766778344323, 0.7977766778344323, 0.821882866709839]}], \"precision_score_weighted\": [{\"categories\": [\"0\", \"1\", \"2\", \"4\", \"5\", \"9\", \"11\", \"12\", \"14\", \"15\", \"17\", \"20\", \"21\", \"22\", \"23\", \"24\", \"25\", \"26\", \"27\", \"28\", \"29\", \"30\", \"31\", \"35\"], \"mode\": \"markers\", \"name\": \"precision_score_weighted\", \"stepped\": false, \"type\": \"scatter\", \"data\": [0.796168970466047, 0.7736039334010405, 0.7431288125663486, 0.7211698682706525, 0.7677823536877778, 0.761804843118503, 0.7402048336854338, 0.737983620236672, 0.7842560508400916, 0.7857507508047864, 0.7425455923111365, 0.7433990348386706, 0.765176627287226, 0.7333208118831304, 0.7686617009424145, 0.7467758513268473, 0.5767953195185221, 0.7438309116874612, 0.7443354818240596, 0.7597476219989531, 0.7678408735223883, 0.6606711886167259, 0.7543727314442887, 0.8217433204142633]}, {\"categories\": [\"0\", \"1\", \"2\", \"4\", \"5\", \"9\", \"11\", \"12\", \"14\", \"15\", \"17\", \"20\", \"21\", \"22\", \"23\", \"24\", \"25\", \"26\", \"27\", \"28\", \"29\", \"30\", \"31\", \"35\"], \"mode\": \"lines\", \"name\": \"precision_score_weighted_max\", \"stepped\": true, \"type\": \"scatter\", \"data\": [0.796168970466047, 0.796168970466047, 0.796168970466047, 0.796168970466047, 0.796168970466047, 0.796168970466047, 0.796168970466047, 0.796168970466047, 0.796168970466047, 0.796168970466047, 0.796168970466047, 0.796168970466047, 0.796168970466047, 0.796168970466047, 0.796168970466047, 0.796168970466047, 0.796168970466047, 0.796168970466047, 0.796168970466047, 0.796168970466047, 0.796168970466047, 0.796168970466047, 0.796168970466047, 0.8217433204142633]}], \"precision_score_macro\": [{\"categories\": [\"0\", \"1\", \"2\", \"4\", \"5\", \"9\", \"11\", \"12\", \"14\", \"15\", \"17\", \"20\", \"21\", \"22\", \"23\", \"24\", \"25\", \"26\", \"27\", \"28\", \"29\", \"30\", \"31\", \"35\"], \"mode\": \"markers\", \"name\": \"precision_score_macro\", \"stepped\": false, \"type\": \"scatter\", \"data\": [0.7950317536139369, 0.7718437655946913, 0.7393787063422752, 0.7188808031233775, 0.7659749631437358, 0.7597688373553142, 0.7370866761360851, 0.7353063304535855, 0.7841202893866971, 0.7847989765474029, 0.7402121261937339, 0.7408227601424087, 0.7638817559764567, 0.7313472189104021, 0.7669246480521238, 0.7451264125252859, 0.5741942317797819, 0.7413015574345984, 0.7433635361063468, 0.7583796249360013, 0.7658448535827483, 0.6568375606912751, 0.7518111273423967, 0.8202337362593575]}, {\"categories\": [\"0\", \"1\", \"2\", \"4\", \"5\", \"9\", \"11\", \"12\", \"14\", \"15\", \"17\", \"20\", \"21\", \"22\", \"23\", \"24\", \"25\", \"26\", \"27\", \"28\", \"29\", \"30\", \"31\", \"35\"], \"mode\": \"lines\", \"name\": \"precision_score_macro_max\", \"stepped\": true, \"type\": \"scatter\", \"data\": [0.7950317536139369, 0.7950317536139369, 0.7950317536139369, 0.7950317536139369, 0.7950317536139369, 0.7950317536139369, 0.7950317536139369, 0.7950317536139369, 0.7950317536139369, 0.7950317536139369, 0.7950317536139369, 0.7950317536139369, 0.7950317536139369, 0.7950317536139369, 0.7950317536139369, 0.7950317536139369, 0.7950317536139369, 0.7950317536139369, 0.7950317536139369, 0.7950317536139369, 0.7950317536139369, 0.7950317536139369, 0.7950317536139369, 0.8202337362593575]}], \"accuracy\": [{\"categories\": [\"0\", \"1\", \"2\", \"4\", \"5\", \"9\", \"11\", \"12\", \"14\", \"15\", \"17\", \"20\", \"21\", \"22\", \"23\", \"24\", \"25\", \"26\", \"27\", \"28\", \"29\", \"30\", \"31\", \"35\"], \"mode\": \"markers\", \"name\": \"accuracy\", \"stepped\": false, \"type\": \"scatter\", \"data\": [0.7961225766103815, 0.772983114446529, 0.7379612257661038, 0.717948717948718, 0.766729205753596, 0.7611006879299561, 0.7373358348968105, 0.736085053158224, 0.7836147592245153, 0.7848655409631019, 0.7410881801125703, 0.7417135709818637, 0.7642276422764227, 0.7329580988117573, 0.7679799874921827, 0.7460913070669167, 0.5772357723577236, 0.7410881801125703, 0.7435897435897436, 0.7598499061913696, 0.766729205753596, 0.6547842401500938, 0.7523452157598499, 0.8211382113821138]}, {\"categories\": [\"0\", \"1\", \"2\", \"4\", \"5\", \"9\", \"11\", \"12\", \"14\", \"15\", \"17\", \"20\", \"21\", \"22\", \"23\", \"24\", \"25\", \"26\", \"27\", \"28\", \"29\", \"30\", \"31\", \"35\"], \"mode\": \"lines\", \"name\": \"accuracy_max\", \"stepped\": true, \"type\": \"scatter\", \"data\": [0.7961225766103815, 0.7961225766103815, 0.7961225766103815, 0.7961225766103815, 0.7961225766103815, 0.7961225766103815, 0.7961225766103815, 0.7961225766103815, 0.7961225766103815, 0.7961225766103815, 0.7961225766103815, 0.7961225766103815, 0.7961225766103815, 0.7961225766103815, 0.7961225766103815, 0.7961225766103815, 0.7961225766103815, 0.7961225766103815, 0.7961225766103815, 0.7961225766103815, 0.7961225766103815, 0.7961225766103815, 0.7961225766103815, 0.8211382113821138]}], \"norm_macro_recall\": [{\"categories\": [\"0\", \"1\", \"2\", \"4\", \"5\", \"9\", \"11\", \"12\", \"14\", \"15\", \"17\", \"20\", \"21\", \"22\", \"23\", \"24\", \"25\", \"26\", \"27\", \"28\", \"29\", \"30\", \"31\", \"35\"], \"mode\": \"markers\", \"name\": \"norm_macro_recall\", \"stepped\": false, \"type\": \"scatter\", \"data\": [0.5888453864039572, 0.5442430397648087, 0.4810368830687861, 0.4340162994591192, 0.5315365431120807, 0.5205406002683226, 0.47694115808615045, 0.4727692373362579, 0.5602416878071023, 0.5646958679830909, 0.4817556037755986, 0.4838630269891002, 0.5244643918175023, 0.46317256504215515, 0.5336575077788838, 0.4891797440934666, 0.14591719529137093, 0.48219169940647727, 0.4812925250923574, 0.5157494596365658, 0.532244973089016, 0.3148484185166065, 0.5052374381026682, 0.640752062583716]}, {\"categories\": [\"0\", \"1\", \"2\", \"4\", \"5\", \"9\", \"11\", \"12\", \"14\", \"15\", \"17\", \"20\", \"21\", \"22\", \"23\", \"24\", \"25\", \"26\", \"27\", \"28\", \"29\", \"30\", \"31\", \"35\"], \"mode\": \"lines\", \"name\": \"norm_macro_recall_max\", \"stepped\": true, \"type\": \"scatter\", \"data\": [0.5888453864039572, 0.5888453864039572, 0.5888453864039572, 0.5888453864039572, 0.5888453864039572, 0.5888453864039572, 0.5888453864039572, 0.5888453864039572, 0.5888453864039572, 0.5888453864039572, 0.5888453864039572, 0.5888453864039572, 0.5888453864039572, 0.5888453864039572, 0.5888453864039572, 0.5888453864039572, 0.5888453864039572, 0.5888453864039572, 0.5888453864039572, 0.5888453864039572, 0.5888453864039572, 0.5888453864039572, 0.5888453864039572, 0.640752062583716]}], \"f1_score_weighted\": [{\"categories\": [\"0\", \"1\", \"2\", \"4\", \"5\", \"9\", \"11\", \"12\", \"14\", \"15\", \"17\", \"20\", \"21\", \"22\", \"23\", \"24\", \"25\", \"26\", \"27\", \"28\", \"29\", \"30\", \"31\", \"35\"], \"mode\": \"markers\", \"name\": \"f1_score_weighted\", \"stepped\": false, \"type\": \"scatter\", \"data\": [0.7959984562081801, 0.7729677701385094, 0.7382164060893887, 0.7174338279745855, 0.7665916221776085, 0.7612166225598472, 0.7376917287571184, 0.736304534028863, 0.7829183734134278, 0.7843803628369302, 0.7411634938998065, 0.7419229394597023, 0.7637454360704753, 0.7330200503896487, 0.7679259972800218, 0.7458236037464231, 0.5751539861838424, 0.7407650691267387, 0.7427959802710563, 0.7597212449238057, 0.7667259119464888, 0.6551498285105674, 0.7524186892452319, 0.8211437193304989]}, {\"categories\": [\"0\", \"1\", \"2\", \"4\", \"5\", \"9\", \"11\", \"12\", \"14\", \"15\", \"17\", \"20\", \"21\", \"22\", \"23\", \"24\", \"25\", \"26\", \"27\", \"28\", \"29\", \"30\", \"31\", \"35\"], \"mode\": \"lines\", \"name\": \"f1_score_weighted_max\", \"stepped\": true, \"type\": \"scatter\", \"data\": [0.7959984562081801, 0.7959984562081801, 0.7959984562081801, 0.7959984562081801, 0.7959984562081801, 0.7959984562081801, 0.7959984562081801, 0.7959984562081801, 0.7959984562081801, 0.7959984562081801, 0.7959984562081801, 0.7959984562081801, 0.7959984562081801, 0.7959984562081801, 0.7959984562081801, 0.7959984562081801, 0.7959984562081801, 0.7959984562081801, 0.7959984562081801, 0.7959984562081801, 0.7959984562081801, 0.7959984562081801, 0.7959984562081801, 0.8211437193304989]}], \"log_loss\": [{\"categories\": [\"0\", \"1\", \"2\", \"4\", \"5\", \"9\", \"11\", \"12\", \"14\", \"15\", \"17\", \"20\", \"21\", \"22\", \"23\", \"24\", \"25\", \"26\", \"27\", \"28\", \"29\", \"30\", \"31\", \"35\"], \"mode\": \"markers\", \"name\": \"log_loss\", \"stepped\": false, \"type\": \"scatter\", \"data\": [0.5111457206916069, 0.47862859322575896, 0.5923759866609125, 1.9082728488890914, 0.4951154651653475, 0.4990342920953971, 0.5806051473969537, 0.5287037665544538, 2.212338917937146, 1.306785884604814, 0.5305043948221555, 0.527423080862696, 0.5463151425055074, 0.5392599493698541, 0.5079852809200341, 0.5336071201059537, 1.181363059457023, 0.5420079729564758, 0.5647173688841559, 0.4973938311424244, 0.5424162299910262, 0.6236989691932203, 0.5034984078538697, 0.4318823897219189]}, {\"categories\": [\"0\", \"1\", \"2\", \"4\", \"5\", \"9\", \"11\", \"12\", \"14\", \"15\", \"17\", \"20\", \"21\", \"22\", \"23\", \"24\", \"25\", \"26\", \"27\", \"28\", \"29\", \"30\", \"31\", \"35\"], \"mode\": \"lines\", \"name\": \"log_loss_min\", \"stepped\": true, \"type\": \"scatter\", \"data\": [0.5111457206916069, 0.47862859322575896, 0.47862859322575896, 0.47862859322575896, 0.47862859322575896, 0.47862859322575896, 0.47862859322575896, 0.47862859322575896, 0.47862859322575896, 0.47862859322575896, 0.47862859322575896, 0.47862859322575896, 0.47862859322575896, 0.47862859322575896, 0.47862859322575896, 0.47862859322575896, 0.47862859322575896, 0.47862859322575896, 0.47862859322575896, 0.47862859322575896, 0.47862859322575896, 0.47862859322575896, 0.47862859322575896, 0.4318823897219189]}], \"recall_score_weighted\": [{\"categories\": [\"0\", \"1\", \"2\", \"4\", \"5\", \"9\", \"11\", \"12\", \"14\", \"15\", \"17\", \"20\", \"21\", \"22\", \"23\", \"24\", \"25\", \"26\", \"27\", \"28\", \"29\", \"30\", \"31\", \"35\"], \"mode\": \"markers\", \"name\": \"recall_score_weighted\", \"stepped\": false, \"type\": \"scatter\", \"data\": [0.7961225766103815, 0.772983114446529, 0.7379612257661038, 0.717948717948718, 0.766729205753596, 0.7611006879299561, 0.7373358348968105, 0.736085053158224, 0.7836147592245153, 0.7848655409631019, 0.7410881801125703, 0.7417135709818637, 0.7642276422764227, 0.7329580988117573, 0.7679799874921827, 0.7460913070669167, 0.5772357723577236, 0.7410881801125703, 0.7435897435897436, 0.7598499061913696, 0.766729205753596, 0.6547842401500938, 0.7523452157598499, 0.8211382113821138]}, {\"categories\": [\"0\", \"1\", \"2\", \"4\", \"5\", \"9\", \"11\", \"12\", \"14\", \"15\", \"17\", \"20\", \"21\", \"22\", \"23\", \"24\", \"25\", \"26\", \"27\", \"28\", \"29\", \"30\", \"31\", \"35\"], \"mode\": \"lines\", \"name\": \"recall_score_weighted_max\", \"stepped\": true, \"type\": \"scatter\", \"data\": [0.7961225766103815, 0.7961225766103815, 0.7961225766103815, 0.7961225766103815, 0.7961225766103815, 0.7961225766103815, 0.7961225766103815, 0.7961225766103815, 0.7961225766103815, 0.7961225766103815, 0.7961225766103815, 0.7961225766103815, 0.7961225766103815, 0.7961225766103815, 0.7961225766103815, 0.7961225766103815, 0.7961225766103815, 0.7961225766103815, 0.7961225766103815, 0.7961225766103815, 0.7961225766103815, 0.7961225766103815, 0.7961225766103815, 0.8211382113821138]}], \"recall_score_micro\": [{\"categories\": [\"0\", \"1\", \"2\", \"4\", \"5\", \"9\", \"11\", \"12\", \"14\", \"15\", \"17\", \"20\", \"21\", \"22\", \"23\", \"24\", \"25\", \"26\", \"27\", \"28\", \"29\", \"30\", \"31\", \"35\"], \"mode\": \"markers\", \"name\": \"recall_score_micro\", \"stepped\": false, \"type\": \"scatter\", \"data\": [0.7961225766103815, 0.772983114446529, 0.7379612257661038, 0.717948717948718, 0.766729205753596, 0.7611006879299561, 0.7373358348968105, 0.736085053158224, 0.7836147592245153, 0.7848655409631019, 0.7410881801125703, 0.7417135709818637, 0.7642276422764227, 0.7329580988117573, 0.7679799874921827, 0.7460913070669167, 0.5772357723577236, 0.7410881801125703, 0.7435897435897436, 0.7598499061913696, 0.766729205753596, 0.6547842401500938, 0.7523452157598499, 0.8211382113821138]}, {\"categories\": [\"0\", \"1\", \"2\", \"4\", \"5\", \"9\", \"11\", \"12\", \"14\", \"15\", \"17\", \"20\", \"21\", \"22\", \"23\", \"24\", \"25\", \"26\", \"27\", \"28\", \"29\", \"30\", \"31\", \"35\"], \"mode\": \"lines\", \"name\": \"recall_score_micro_max\", \"stepped\": true, \"type\": \"scatter\", \"data\": [0.7961225766103815, 0.7961225766103815, 0.7961225766103815, 0.7961225766103815, 0.7961225766103815, 0.7961225766103815, 0.7961225766103815, 0.7961225766103815, 0.7961225766103815, 0.7961225766103815, 0.7961225766103815, 0.7961225766103815, 0.7961225766103815, 0.7961225766103815, 0.7961225766103815, 0.7961225766103815, 0.7961225766103815, 0.7961225766103815, 0.7961225766103815, 0.7961225766103815, 0.7961225766103815, 0.7961225766103815, 0.7961225766103815, 0.8211382113821138]}], \"average_precision_score_weighted\": [{\"categories\": [\"0\", \"1\", \"2\", \"4\", \"5\", \"9\", \"11\", \"12\", \"14\", \"15\", \"17\", \"20\", \"21\", \"22\", \"23\", \"24\", \"25\", \"26\", \"27\", \"28\", \"29\", \"30\", \"31\", \"35\"], \"mode\": \"markers\", \"name\": \"average_precision_score_weighted\", \"stepped\": false, \"type\": \"scatter\", \"data\": [0.8598284591308624, 0.8467622270962755, 0.8048876728565793, 0.7730214607816008, 0.8391402102488708, 0.8279491178863818, 0.7988700954726559, 0.8063645870791968, 0.8203616946829664, 0.8431300099402469, 0.8075123280410237, 0.8071182712133655, 0.8226827957890229, 0.8047231613920363, 0.8408897934712263, 0.8201330558023564, 0.5927501834802283, 0.8118381375928188, 0.8155309650388608, 0.8287240462962301, 0.8361999300685664, 0.7145034899761972, 0.8347407622902075, 0.8862668966835447]}, {\"categories\": [\"0\", \"1\", \"2\", \"4\", \"5\", \"9\", \"11\", \"12\", \"14\", \"15\", \"17\", \"20\", \"21\", \"22\", \"23\", \"24\", \"25\", \"26\", \"27\", \"28\", \"29\", \"30\", \"31\", \"35\"], \"mode\": \"lines\", \"name\": \"average_precision_score_weighted_max\", \"stepped\": true, \"type\": \"scatter\", \"data\": [0.8598284591308624, 0.8598284591308624, 0.8598284591308624, 0.8598284591308624, 0.8598284591308624, 0.8598284591308624, 0.8598284591308624, 0.8598284591308624, 0.8598284591308624, 0.8598284591308624, 0.8598284591308624, 0.8598284591308624, 0.8598284591308624, 0.8598284591308624, 0.8598284591308624, 0.8598284591308624, 0.8598284591308624, 0.8598284591308624, 0.8598284591308624, 0.8598284591308624, 0.8598284591308624, 0.8598284591308624, 0.8598284591308624, 0.8862668966835447]}], \"AUC_micro\": [{\"categories\": [\"0\", \"1\", \"2\", \"4\", \"5\", \"9\", \"11\", \"12\", \"14\", \"15\", \"17\", \"20\", \"21\", \"22\", \"23\", \"24\", \"25\", \"26\", \"27\", \"28\", \"29\", \"30\", \"31\", \"35\"], \"mode\": \"markers\", \"name\": \"AUC_micro\", \"stepped\": false, \"type\": \"scatter\", \"data\": [0.8686374105767324, 0.8505315822388994, 0.8091220239666678, 0.79573537400838, 0.8458534708019906, 0.8402079395306871, 0.8070064897502777, 0.8149969434461265, 0.849345334267313, 0.8607337841310293, 0.8139315496200134, 0.8155566272072016, 0.832071404853174, 0.8102718983604903, 0.8482224467215086, 0.8259360036232777, 0.6107675176910522, 0.817209864983626, 0.819564760808526, 0.8384097941138166, 0.8411049588919904, 0.7297484239094086, 0.8415074149298283, 0.8885490110493542]}, {\"categories\": [\"0\", \"1\", \"2\", \"4\", \"5\", \"9\", \"11\", \"12\", \"14\", \"15\", \"17\", \"20\", \"21\", \"22\", \"23\", \"24\", \"25\", \"26\", \"27\", \"28\", \"29\", \"30\", \"31\", \"35\"], \"mode\": \"lines\", \"name\": \"AUC_micro_max\", \"stepped\": true, \"type\": \"scatter\", \"data\": [0.8686374105767324, 0.8686374105767324, 0.8686374105767324, 0.8686374105767324, 0.8686374105767324, 0.8686374105767324, 0.8686374105767324, 0.8686374105767324, 0.8686374105767324, 0.8686374105767324, 0.8686374105767324, 0.8686374105767324, 0.8686374105767324, 0.8686374105767324, 0.8686374105767324, 0.8686374105767324, 0.8686374105767324, 0.8686374105767324, 0.8686374105767324, 0.8686374105767324, 0.8686374105767324, 0.8686374105767324, 0.8686374105767324, 0.8885490110493542]}], \"AUC_macro\": [{\"categories\": [\"0\", \"1\", \"2\", \"4\", \"5\", \"9\", \"11\", \"12\", \"14\", \"15\", \"17\", \"20\", \"21\", \"22\", \"23\", \"24\", \"25\", \"26\", \"27\", \"28\", \"29\", \"30\", \"31\", \"35\"], \"mode\": \"markers\", \"name\": \"AUC_macro\", \"stepped\": false, \"type\": \"scatter\", \"data\": [0.8681866868113288, 0.84990212453788, 0.8094702782483129, 0.7967119441138045, 0.8460785233199867, 0.8394761954156102, 0.8075451492082953, 0.8156373176536581, 0.8487442947365708, 0.8603764931655297, 0.8150146455019437, 0.815876782187066, 0.8316916322460571, 0.8096769438553922, 0.8479045807387875, 0.8259271280531126, 0.6044492761837144, 0.8183455829713163, 0.8232318810186842, 0.837072183331845, 0.8418707456042093, 0.7307401998201523, 0.8412578931960962, 0.8896314707731037]}, {\"categories\": [\"0\", \"1\", \"2\", \"4\", \"5\", \"9\", \"11\", \"12\", \"14\", \"15\", \"17\", \"20\", \"21\", \"22\", \"23\", \"24\", \"25\", \"26\", \"27\", \"28\", \"29\", \"30\", \"31\", \"35\"], \"mode\": \"lines\", \"name\": \"AUC_macro_max\", \"stepped\": true, \"type\": \"scatter\", \"data\": [0.8681866868113288, 0.8681866868113288, 0.8681866868113288, 0.8681866868113288, 0.8681866868113288, 0.8681866868113288, 0.8681866868113288, 0.8681866868113288, 0.8681866868113288, 0.8681866868113288, 0.8681866868113288, 0.8681866868113288, 0.8681866868113288, 0.8681866868113288, 0.8681866868113288, 0.8681866868113288, 0.8681866868113288, 0.8681866868113288, 0.8681866868113288, 0.8681866868113288, 0.8681866868113288, 0.8681866868113288, 0.8681866868113288, 0.8896314707731037]}], \"AUC_weighted\": [{\"categories\": [\"0\", \"1\", \"2\", \"4\", \"5\", \"9\", \"11\", \"12\", \"14\", \"15\", \"17\", \"20\", \"21\", \"22\", \"23\", \"24\", \"25\", \"26\", \"27\", \"28\", \"29\", \"30\", \"31\", \"35\"], \"mode\": \"markers\", \"name\": \"AUC_weighted\", \"stepped\": false, \"type\": \"scatter\", \"data\": [0.8681866868113288, 0.84990212453788, 0.8094702782483129, 0.7967119441138043, 0.8460785233199868, 0.8394761954156102, 0.8075451492082953, 0.8156373176536581, 0.8487442947365708, 0.8603764931655297, 0.8150146455019439, 0.815876782187066, 0.8316916322460571, 0.8096769438553922, 0.8479045807387875, 0.8259271280531126, 0.6044492761837144, 0.8183455829713163, 0.8232318810186842, 0.837072183331845, 0.8418707456042093, 0.7307401998201523, 0.8412578931960962, 0.8896314707731037]}, {\"categories\": [\"0\", \"1\", \"2\", \"4\", \"5\", \"9\", \"11\", \"12\", \"14\", \"15\", \"17\", \"20\", \"21\", \"22\", \"23\", \"24\", \"25\", \"26\", \"27\", \"28\", \"29\", \"30\", \"31\", \"35\"], \"mode\": \"lines\", \"name\": \"AUC_weighted_max\", \"stepped\": true, \"type\": \"scatter\", \"data\": [0.8681866868113288, 0.8681866868113288, 0.8681866868113288, 0.8681866868113288, 0.8681866868113288, 0.8681866868113288, 0.8681866868113288, 0.8681866868113288, 0.8681866868113288, 0.8681866868113288, 0.8681866868113288, 0.8681866868113288, 0.8681866868113288, 0.8681866868113288, 0.8681866868113288, 0.8681866868113288, 0.8681866868113288, 0.8681866868113288, 0.8681866868113288, 0.8681866868113288, 0.8681866868113288, 0.8681866868113288, 0.8681866868113288, 0.8896314707731037]}], \"matthews_correlation\": [{\"categories\": [\"0\", \"1\", \"2\", \"4\", \"5\", \"9\", \"11\", \"12\", \"14\", \"15\", \"17\", \"20\", \"21\", \"22\", \"23\", \"24\", \"25\", \"26\", \"27\", \"28\", \"29\", \"30\", \"31\", \"35\"], \"mode\": \"markers\", \"name\": \"matthews_correlation\", \"stepped\": false, \"type\": \"scatter\", \"data\": [0.5894537139042245, 0.5439632952318538, 0.4798907428209718, 0.4358565978646894, 0.5317377966519446, 0.5200377039001564, 0.47555158914071094, 0.47168525600658495, 0.5642191811500706, 0.5671362988820968, 0.48108472624410864, 0.4827489002653785, 0.5261039850760905, 0.46293315394343654, 0.5337502979614644, 0.48971201921679014, 0.1471403985395483, 0.4823805729089155, 0.4839982982657703, 0.5162539665883824, 0.5319622030915673, 0.3142595425428962, 0.5044222959711865, 0.6406078527474216]}, {\"categories\": [\"0\", \"1\", \"2\", \"4\", \"5\", \"9\", \"11\", \"12\", \"14\", \"15\", \"17\", \"20\", \"21\", \"22\", \"23\", \"24\", \"25\", \"26\", \"27\", \"28\", \"29\", \"30\", \"31\", \"35\"], \"mode\": \"lines\", \"name\": \"matthews_correlation_max\", \"stepped\": true, \"type\": \"scatter\", \"data\": [0.5894537139042245, 0.5894537139042245, 0.5894537139042245, 0.5894537139042245, 0.5894537139042245, 0.5894537139042245, 0.5894537139042245, 0.5894537139042245, 0.5894537139042245, 0.5894537139042245, 0.5894537139042245, 0.5894537139042245, 0.5894537139042245, 0.5894537139042245, 0.5894537139042245, 0.5894537139042245, 0.5894537139042245, 0.5894537139042245, 0.5894537139042245, 0.5894537139042245, 0.5894537139042245, 0.5894537139042245, 0.5894537139042245, 0.6406078527474216]}], \"f1_score_micro\": [{\"categories\": [\"0\", \"1\", \"2\", \"4\", \"5\", \"9\", \"11\", \"12\", \"14\", \"15\", \"17\", \"20\", \"21\", \"22\", \"23\", \"24\", \"25\", \"26\", \"27\", \"28\", \"29\", \"30\", \"31\", \"35\"], \"mode\": \"markers\", \"name\": \"f1_score_micro\", \"stepped\": false, \"type\": \"scatter\", \"data\": [0.7961225766103815, 0.772983114446529, 0.7379612257661038, 0.717948717948718, 0.7667292057535962, 0.7611006879299561, 0.7373358348968105, 0.736085053158224, 0.7836147592245153, 0.7848655409631019, 0.7410881801125703, 0.7417135709818637, 0.7642276422764227, 0.7329580988117573, 0.7679799874921827, 0.7460913070669167, 0.5772357723577236, 0.7410881801125703, 0.7435897435897436, 0.7598499061913696, 0.7667292057535962, 0.6547842401500938, 0.7523452157598499, 0.8211382113821138]}, {\"categories\": [\"0\", \"1\", \"2\", \"4\", \"5\", \"9\", \"11\", \"12\", \"14\", \"15\", \"17\", \"20\", \"21\", \"22\", \"23\", \"24\", \"25\", \"26\", \"27\", \"28\", \"29\", \"30\", \"31\", \"35\"], \"mode\": \"lines\", \"name\": \"f1_score_micro_max\", \"stepped\": true, \"type\": \"scatter\", \"data\": [0.7961225766103815, 0.7961225766103815, 0.7961225766103815, 0.7961225766103815, 0.7961225766103815, 0.7961225766103815, 0.7961225766103815, 0.7961225766103815, 0.7961225766103815, 0.7961225766103815, 0.7961225766103815, 0.7961225766103815, 0.7961225766103815, 0.7961225766103815, 0.7961225766103815, 0.7961225766103815, 0.7961225766103815, 0.7961225766103815, 0.7961225766103815, 0.7961225766103815, 0.7961225766103815, 0.7961225766103815, 0.7961225766103815, 0.8211382113821138]}], \"precision_score_micro\": [{\"categories\": [\"0\", \"1\", \"2\", \"4\", \"5\", \"9\", \"11\", \"12\", \"14\", \"15\", \"17\", \"20\", \"21\", \"22\", \"23\", \"24\", \"25\", \"26\", \"27\", \"28\", \"29\", \"30\", \"31\", \"35\"], \"mode\": \"markers\", \"name\": \"precision_score_micro\", \"stepped\": false, \"type\": \"scatter\", \"data\": [0.7961225766103815, 0.772983114446529, 0.7379612257661038, 0.717948717948718, 0.766729205753596, 0.7611006879299561, 0.7373358348968105, 0.736085053158224, 0.7836147592245153, 0.7848655409631019, 0.7410881801125703, 0.7417135709818637, 0.7642276422764227, 0.7329580988117573, 0.7679799874921827, 0.7460913070669167, 0.5772357723577236, 0.7410881801125703, 0.7435897435897436, 0.7598499061913696, 0.766729205753596, 0.6547842401500938, 0.7523452157598499, 0.8211382113821138]}, {\"categories\": [\"0\", \"1\", \"2\", \"4\", \"5\", \"9\", \"11\", \"12\", \"14\", \"15\", \"17\", \"20\", \"21\", \"22\", \"23\", \"24\", \"25\", \"26\", \"27\", \"28\", \"29\", \"30\", \"31\", \"35\"], \"mode\": \"lines\", \"name\": \"precision_score_micro_max\", \"stepped\": true, \"type\": \"scatter\", \"data\": [0.7961225766103815, 0.7961225766103815, 0.7961225766103815, 0.7961225766103815, 0.7961225766103815, 0.7961225766103815, 0.7961225766103815, 0.7961225766103815, 0.7961225766103815, 0.7961225766103815, 0.7961225766103815, 0.7961225766103815, 0.7961225766103815, 0.7961225766103815, 0.7961225766103815, 0.7961225766103815, 0.7961225766103815, 0.7961225766103815, 0.7961225766103815, 0.7961225766103815, 0.7961225766103815, 0.7961225766103815, 0.7961225766103815, 0.8211382113821138]}], \"balanced_accuracy\": [{\"categories\": [\"0\", \"1\", \"2\", \"4\", \"5\", \"9\", \"11\", \"12\", \"14\", \"15\", \"17\", \"20\", \"21\", \"22\", \"23\", \"24\", \"25\", \"26\", \"27\", \"28\", \"29\", \"30\", \"31\", \"35\"], \"mode\": \"markers\", \"name\": \"balanced_accuracy\", \"stepped\": false, \"type\": \"scatter\", \"data\": [0.7944226932019786, 0.7721215198824044, 0.7405184415343932, 0.7170081497295596, 0.7657682715560403, 0.7602703001341613, 0.7384705790430752, 0.736384618668129, 0.7801208439035511, 0.7823479339915455, 0.7408778018877994, 0.7419315134945501, 0.7622321959087511, 0.7315862825210776, 0.7668287538894418, 0.7445898720467333, 0.5729585976456855, 0.7410958497032386, 0.7406462625461788, 0.757874729818283, 0.766122486544508, 0.6574242092583032, 0.752618719051334, 0.820376031291858]}, {\"categories\": [\"0\", \"1\", \"2\", \"4\", \"5\", \"9\", \"11\", \"12\", \"14\", \"15\", \"17\", \"20\", \"21\", \"22\", \"23\", \"24\", \"25\", \"26\", \"27\", \"28\", \"29\", \"30\", \"31\", \"35\"], \"mode\": \"lines\", \"name\": \"balanced_accuracy_max\", \"stepped\": true, \"type\": \"scatter\", \"data\": [0.7944226932019786, 0.7944226932019786, 0.7944226932019786, 0.7944226932019786, 0.7944226932019786, 0.7944226932019786, 0.7944226932019786, 0.7944226932019786, 0.7944226932019786, 0.7944226932019786, 0.7944226932019786, 0.7944226932019786, 0.7944226932019786, 0.7944226932019786, 0.7944226932019786, 0.7944226932019786, 0.7944226932019786, 0.7944226932019786, 0.7944226932019786, 0.7944226932019786, 0.7944226932019786, 0.7944226932019786, 0.7944226932019786, 0.820376031291858]}], \"f1_score_macro\": [{\"categories\": [\"0\", \"1\", \"2\", \"4\", \"5\", \"9\", \"11\", \"12\", \"14\", \"15\", \"17\", \"20\", \"21\", \"22\", \"23\", \"24\", \"25\", \"26\", \"27\", \"28\", \"29\", \"30\", \"31\", \"35\"], \"mode\": \"markers\", \"name\": \"f1_score_macro\", \"stepped\": false, \"type\": \"scatter\", \"data\": [0.7945792887520081, 0.7716548890639346, 0.7376060603892901, 0.7158032482055413, 0.7652035157824963, 0.7597815338817816, 0.736687628909524, 0.7351056107377106, 0.7810863013787848, 0.7826408828459307, 0.7398847302617115, 0.7407347103381268, 0.7620962162783694, 0.7313468609833471, 0.7664790160367582, 0.7442457300728008, 0.571706799028565, 0.7394887948259244, 0.7408326774708568, 0.7580492679399482, 0.7654187045504703, 0.654540573437004, 0.7512634350073867, 0.8200061101838844]}, {\"categories\": [\"0\", \"1\", \"2\", \"4\", \"5\", \"9\", \"11\", \"12\", \"14\", \"15\", \"17\", \"20\", \"21\", \"22\", \"23\", \"24\", \"25\", \"26\", \"27\", \"28\", \"29\", \"30\", \"31\", \"35\"], \"mode\": \"lines\", \"name\": \"f1_score_macro_max\", \"stepped\": true, \"type\": \"scatter\", \"data\": [0.7945792887520081, 0.7945792887520081, 0.7945792887520081, 0.7945792887520081, 0.7945792887520081, 0.7945792887520081, 0.7945792887520081, 0.7945792887520081, 0.7945792887520081, 0.7945792887520081, 0.7945792887520081, 0.7945792887520081, 0.7945792887520081, 0.7945792887520081, 0.7945792887520081, 0.7945792887520081, 0.7945792887520081, 0.7945792887520081, 0.7945792887520081, 0.7945792887520081, 0.7945792887520081, 0.7945792887520081, 0.7945792887520081, 0.8200061101838844]}], \"average_precision_score_micro\": [{\"categories\": [\"0\", \"1\", \"2\", \"4\", \"5\", \"9\", \"11\", \"12\", \"14\", \"15\", \"17\", \"20\", \"21\", \"22\", \"23\", \"24\", \"25\", \"26\", \"27\", \"28\", \"29\", \"30\", \"31\", \"35\"], \"mode\": \"markers\", \"name\": \"average_precision_score_micro\", \"stepped\": false, \"type\": \"scatter\", \"data\": [0.8618996492583865, 0.849109943529967, 0.8076477115664739, 0.7713060018991168, 0.8416809354853635, 0.8283630665689272, 0.7970562476582669, 0.8080805668033899, 0.8202280410317231, 0.8421488641643924, 0.8089124111019707, 0.8093855211248598, 0.8271737613679541, 0.8032883559684895, 0.8414287567773879, 0.8224639850236898, 0.592434636385555, 0.8158483081641933, 0.8170053587268066, 0.8343020958000245, 0.8366362807118392, 0.7113466439078658, 0.8391745659965567, 0.8843323944971736]}, {\"categories\": [\"0\", \"1\", \"2\", \"4\", \"5\", \"9\", \"11\", \"12\", \"14\", \"15\", \"17\", \"20\", \"21\", \"22\", \"23\", \"24\", \"25\", \"26\", \"27\", \"28\", \"29\", \"30\", \"31\", \"35\"], \"mode\": \"lines\", \"name\": \"average_precision_score_micro_max\", \"stepped\": true, \"type\": \"scatter\", \"data\": [0.8618996492583865, 0.8618996492583865, 0.8618996492583865, 0.8618996492583865, 0.8618996492583865, 0.8618996492583865, 0.8618996492583865, 0.8618996492583865, 0.8618996492583865, 0.8618996492583865, 0.8618996492583865, 0.8618996492583865, 0.8618996492583865, 0.8618996492583865, 0.8618996492583865, 0.8618996492583865, 0.8618996492583865, 0.8618996492583865, 0.8618996492583865, 0.8618996492583865, 0.8618996492583865, 0.8618996492583865, 0.8618996492583865, 0.8843323944971736]}], \"recall_score_macro\": [{\"categories\": [\"0\", \"1\", \"2\", \"4\", \"5\", \"9\", \"11\", \"12\", \"14\", \"15\", \"17\", \"20\", \"21\", \"22\", \"23\", \"24\", \"25\", \"26\", \"27\", \"28\", \"29\", \"30\", \"31\", \"35\"], \"mode\": \"markers\", \"name\": \"recall_score_macro\", \"stepped\": false, \"type\": \"scatter\", \"data\": [0.7944226932019786, 0.7721215198824044, 0.7405184415343932, 0.7170081497295596, 0.7657682715560403, 0.7602703001341613, 0.7384705790430752, 0.736384618668129, 0.7801208439035511, 0.7823479339915455, 0.7408778018877994, 0.7419315134945501, 0.7622321959087511, 0.7315862825210776, 0.7668287538894418, 0.7445898720467333, 0.5729585976456855, 0.7410958497032386, 0.7406462625461788, 0.757874729818283, 0.766122486544508, 0.6574242092583032, 0.752618719051334, 0.820376031291858]}, {\"categories\": [\"0\", \"1\", \"2\", \"4\", \"5\", \"9\", \"11\", \"12\", \"14\", \"15\", \"17\", \"20\", \"21\", \"22\", \"23\", \"24\", \"25\", \"26\", \"27\", \"28\", \"29\", \"30\", \"31\", \"35\"], \"mode\": \"lines\", \"name\": \"recall_score_macro_max\", \"stepped\": true, \"type\": \"scatter\", \"data\": [0.7944226932019786, 0.7944226932019786, 0.7944226932019786, 0.7944226932019786, 0.7944226932019786, 0.7944226932019786, 0.7944226932019786, 0.7944226932019786, 0.7944226932019786, 0.7944226932019786, 0.7944226932019786, 0.7944226932019786, 0.7944226932019786, 0.7944226932019786, 0.7944226932019786, 0.7944226932019786, 0.7944226932019786, 0.7944226932019786, 0.7944226932019786, 0.7944226932019786, 0.7944226932019786, 0.7944226932019786, 0.7944226932019786, 0.820376031291858]}], \"average_precision_score_macro\": [{\"categories\": [\"0\", \"1\", \"2\", \"4\", \"5\", \"9\", \"11\", \"12\", \"14\", \"15\", \"17\", \"20\", \"21\", \"22\", \"23\", \"24\", \"25\", \"26\", \"27\", \"28\", \"29\", \"30\", \"31\", \"35\"], \"mode\": \"markers\", \"name\": \"average_precision_score_macro\", \"stepped\": false, \"type\": \"scatter\", \"data\": [0.8577927790545757, 0.8444785194247277, 0.8020249884553271, 0.7713614293587341, 0.8371283424201046, 0.8257253778412159, 0.7960375968481594, 0.8040497563918656, 0.8186328048810618, 0.8421317912254148, 0.8052527514239175, 0.8048211608090236, 0.8201509235424745, 0.80219970493917, 0.839042487067573, 0.8179508504401273, 0.5911736646381444, 0.8090998391758929, 0.8127757492114203, 0.826008929036384, 0.8339754074725428, 0.7120510107297174, 0.8322595187726991, 0.8847731425609032]}, {\"categories\": [\"0\", \"1\", \"2\", \"4\", \"5\", \"9\", \"11\", \"12\", \"14\", \"15\", \"17\", \"20\", \"21\", \"22\", \"23\", \"24\", \"25\", \"26\", \"27\", \"28\", \"29\", \"30\", \"31\", \"35\"], \"mode\": \"lines\", \"name\": \"average_precision_score_macro_max\", \"stepped\": true, \"type\": \"scatter\", \"data\": [0.8577927790545757, 0.8577927790545757, 0.8577927790545757, 0.8577927790545757, 0.8577927790545757, 0.8577927790545757, 0.8577927790545757, 0.8577927790545757, 0.8577927790545757, 0.8577927790545757, 0.8577927790545757, 0.8577927790545757, 0.8577927790545757, 0.8577927790545757, 0.8577927790545757, 0.8577927790545757, 0.8577927790545757, 0.8577927790545757, 0.8577927790545757, 0.8577927790545757, 0.8577927790545757, 0.8577927790545757, 0.8577927790545757, 0.8847731425609032]}]}, \"metricName\": null, \"primaryMetricName\": \"accuracy\", \"showLegend\": false}, \"run_metrics\": [{\"name\": \"experiment_status\", \"run_id\": \"AutoML_1eb1c7e3-287a-40d2-8c39-84ad6fb6fee5\", \"categories\": [0, 1, 2, 3, 4, 5, 6, 7, 8, 9, 10, 11, 12, 13], \"series\": [{\"data\": [\"DatasetEvaluation\", \"FeaturesGeneration\", \"DatasetFeaturization\", \"DatasetFeaturizationCompleted\", \"DatasetCrossValidationSplit\", \"ModelSelection\", \"BestRunExplainModel\", \"ModelExplanationDataSetSetup\", \"PickSurrogateModel\", \"EngineeredFeatureExplanations\", \"EngineeredFeatureExplanations\", \"RawFeaturesExplanations\", \"RawFeaturesExplanations\", \"BestRunExplainModel\"]}]}, {\"name\": \"experiment_status_description\", \"run_id\": \"AutoML_1eb1c7e3-287a-40d2-8c39-84ad6fb6fee5\", \"categories\": [0, 1, 2, 3, 4, 5, 6, 7, 8, 9, 10, 11, 12, 13], \"series\": [{\"data\": [\"Gathering dataset statistics.\", \"Generating features for the dataset.\", \"Beginning to fit featurizers and featurize the dataset.\", \"Completed fit featurizers and featurizing the dataset.\", \"Generating individually featurized CV splits.\", \"Beginning model selection.\", \"Best run model explanations started\", \"Model explanations data setup completed\", \"Choosing LightGBM as the surrogate model for explanations\", \"Computation of engineered features started\", \"Computation of engineered features completed\", \"Computation of raw features started\", \"Computation of raw features completed\", \"Best run model explanations completed\"]}]}, {\"name\": \"log_loss\", \"run_id\": \"AutoML_1eb1c7e3-287a-40d2-8c39-84ad6fb6fee5\", \"categories\": [0], \"series\": [{\"data\": [0.4333820298198466]}]}, {\"name\": \"average_precision_score_weighted\", \"run_id\": \"AutoML_1eb1c7e3-287a-40d2-8c39-84ad6fb6fee5\", \"categories\": [0], \"series\": [{\"data\": [0.8821890640571203]}]}, {\"name\": \"AUC_weighted\", \"run_id\": \"AutoML_1eb1c7e3-287a-40d2-8c39-84ad6fb6fee5\", \"categories\": [0], \"series\": [{\"data\": [0.8872418757734883]}]}, {\"name\": \"balanced_accuracy\", \"run_id\": \"AutoML_1eb1c7e3-287a-40d2-8c39-84ad6fb6fee5\", \"categories\": [0], \"series\": [{\"data\": [0.82195551311773]}]}, {\"name\": \"weighted_accuracy\", \"run_id\": \"AutoML_1eb1c7e3-287a-40d2-8c39-84ad6fb6fee5\", \"categories\": [0], \"series\": [{\"data\": [0.8252784022585495]}]}, {\"name\": \"f1_score_micro\", \"run_id\": \"AutoML_1eb1c7e3-287a-40d2-8c39-84ad6fb6fee5\", \"categories\": [0], \"series\": [{\"data\": [0.823639774859287]}]}, {\"name\": \"AUC_macro\", \"run_id\": \"AutoML_1eb1c7e3-287a-40d2-8c39-84ad6fb6fee5\", \"categories\": [0], \"series\": [{\"data\": [0.8872418757734883]}]}, {\"name\": \"recall_score_micro\", \"run_id\": \"AutoML_1eb1c7e3-287a-40d2-8c39-84ad6fb6fee5\", \"categories\": [0], \"series\": [{\"data\": [0.823639774859287]}]}, {\"name\": \"average_precision_score_micro\", \"run_id\": \"AutoML_1eb1c7e3-287a-40d2-8c39-84ad6fb6fee5\", \"categories\": [0], \"series\": [{\"data\": [0.8826856333650924]}]}, {\"name\": \"recall_score_weighted\", \"run_id\": \"AutoML_1eb1c7e3-287a-40d2-8c39-84ad6fb6fee5\", \"categories\": [0], \"series\": [{\"data\": [0.823639774859287]}]}, {\"name\": \"matthews_correlation\", \"run_id\": \"AutoML_1eb1c7e3-287a-40d2-8c39-84ad6fb6fee5\", \"categories\": [0], \"series\": [{\"data\": [0.6448228876439858]}]}, {\"name\": \"recall_score_macro\", \"run_id\": \"AutoML_1eb1c7e3-287a-40d2-8c39-84ad6fb6fee5\", \"categories\": [0], \"series\": [{\"data\": [0.82195551311773]}]}, {\"name\": \"f1_score_macro\", \"run_id\": \"AutoML_1eb1c7e3-287a-40d2-8c39-84ad6fb6fee5\", \"categories\": [0], \"series\": [{\"data\": [0.8222678385579351]}]}, {\"name\": \"AUC_micro\", \"run_id\": \"AutoML_1eb1c7e3-287a-40d2-8c39-84ad6fb6fee5\", \"categories\": [0], \"series\": [{\"data\": [0.8870729477968758]}]}, {\"name\": \"precision_score_weighted\", \"run_id\": \"AutoML_1eb1c7e3-287a-40d2-8c39-84ad6fb6fee5\", \"categories\": [0], \"series\": [{\"data\": [0.8236650227982544]}]}, {\"name\": \"f1_score_weighted\", \"run_id\": \"AutoML_1eb1c7e3-287a-40d2-8c39-84ad6fb6fee5\", \"categories\": [0], \"series\": [{\"data\": [0.8235093003080416]}]}, {\"name\": \"accuracy\", \"run_id\": \"AutoML_1eb1c7e3-287a-40d2-8c39-84ad6fb6fee5\", \"categories\": [0], \"series\": [{\"data\": [0.823639774859287]}]}, {\"name\": \"norm_macro_recall\", \"run_id\": \"AutoML_1eb1c7e3-287a-40d2-8c39-84ad6fb6fee5\", \"categories\": [0], \"series\": [{\"data\": [0.6439110262354598]}]}, {\"name\": \"precision_score_macro\", \"run_id\": \"AutoML_1eb1c7e3-287a-40d2-8c39-84ad6fb6fee5\", \"categories\": [0], \"series\": [{\"data\": [0.8228685756893782]}]}, {\"name\": \"average_precision_score_macro\", \"run_id\": \"AutoML_1eb1c7e3-287a-40d2-8c39-84ad6fb6fee5\", \"categories\": [0], \"series\": [{\"data\": [0.8806189475287357]}]}, {\"name\": \"precision_score_micro\", \"run_id\": \"AutoML_1eb1c7e3-287a-40d2-8c39-84ad6fb6fee5\", \"categories\": [0], \"series\": [{\"data\": [0.823639774859287]}]}], \"run_logs\": \"\\nRun is completed.\", \"graph\": {}, \"widget_settings\": {\"childWidgetDisplay\": \"popup\", \"send_telemetry\": false, \"log_level\": \"INFO\", \"sdk_version\": \"1.37.0\"}, \"loading\": false}"
          },
          "metadata": {},
          "output_type": "display_data"
        }
      ],
      "source": [
        "\n",
        "RunDetails(remote_run).show()"
      ]
    },
    {
      "cell_type": "markdown",
      "metadata": {},
      "source": [
        "## Best Model\n",
        "\n",
        "TODO: In the cell below, get the best model from the automl experiments and display all the properties of the model.\n",
        "\n"
      ]
    },
    {
      "cell_type": "code",
      "execution_count": 6,
      "metadata": {
        "gather": {
          "logged": 1644979360092
        },
        "jupyter": {
          "outputs_hidden": false,
          "source_hidden": false
        },
        "nteract": {
          "transient": {
            "deleting": false
          }
        }
      },
      "outputs": [
        {
          "name": "stderr",
          "output_type": "stream",
          "text": [
            "WARNING:root:The version of the SDK does not match the version the model was trained on.\n",
            "WARNING:root:The consistency in the result may not be guaranteed.\n",
            "WARNING:root:Package:azureml-automl-core, training version:1.38.0, current version:1.37.0\n",
            "Package:azureml-automl-runtime, training version:1.38.0, current version:1.37.0\n",
            "Package:azureml-core, training version:1.38.0, current version:1.37.0\n",
            "Package:azureml-dataprep, training version:2.26.0, current version:2.25.0\n",
            "Package:azureml-dataprep-rslex, training version:2.2.0, current version:2.1.0\n",
            "Package:azureml-dataset-runtime, training version:1.38.0, current version:1.37.0\n",
            "Package:azureml-defaults, training version:1.38.0, current version:1.37.0\n",
            "Package:azureml-interpret, training version:1.38.0, current version:1.37.0\n",
            "Package:azureml-mlflow, training version:1.38.0, current version:1.37.0\n",
            "Package:azureml-pipeline-core, training version:1.38.0, current version:1.37.0\n",
            "Package:azureml-responsibleai, training version:1.38.0, current version:1.37.0\n",
            "Package:azureml-telemetry, training version:1.38.0, current version:1.37.0\n",
            "Package:azureml-train-automl-client, training version:1.38.0, current version:1.37.0\n",
            "Package:azureml-train-automl-runtime, training version:1.38.0, current version:1.37.0\n",
            "Package:azureml-train-core, training version:1.38.0, current version:1.37.0\n",
            "Package:azureml-train-restclients-hyperdrive, training version:1.38.0, current version:1.37.0\n",
            "WARNING:root:Please ensure the version of your local conda dependencies match the version on which your model was trained in order to properly retrieve your model.\n"
          ]
        },
        {
          "name": "stdout",
          "output_type": "stream",
          "text": [
            "precision_score_micro 0.823639774859287\n",
            "average_precision_score_macro 0.8806189475287357\n",
            "precision_score_macro 0.8228685756893782\n",
            "recall_score_macro 0.82195551311773\n",
            "matthews_correlation 0.6448228876439858\n",
            "recall_score_weighted 0.823639774859287\n",
            "average_precision_score_micro 0.8826856333650924\n",
            "log_loss 0.4333820298198466\n",
            "weighted_accuracy 0.8252784022585495\n",
            "precision_score_weighted 0.8236650227982544\n",
            "f1_score_weighted 0.8235093003080416\n",
            "AUC_weighted 0.8872418757734883\n",
            "average_precision_score_weighted 0.8821890640571203\n",
            "norm_macro_recall 0.6439110262354598\n",
            "AUC_macro 0.8872418757734883\n",
            "accuracy 0.823639774859287\n",
            "f1_score_macro 0.8222678385579351\n",
            "AUC_micro 0.8870729477968758\n",
            "recall_score_micro 0.823639774859287\n",
            "f1_score_micro 0.823639774859287\n",
            "balanced_accuracy 0.82195551311773\n",
            "confusion_matrix aml://artifactId/ExperimentRun/dcid.AutoML_1eb1c7e3-287a-40d2-8c39-84ad6fb6fee5_34/confusion_matrix\n",
            "accuracy_table aml://artifactId/ExperimentRun/dcid.AutoML_1eb1c7e3-287a-40d2-8c39-84ad6fb6fee5_34/accuracy_table\n"
          ]
        }
      ],
      "source": [
        "best_run, best_model = remote_run.get_output()\n",
        "best_run_metrics = best_run.get_metrics()\n",
        "for metric_name in best_run_metrics:\n",
        "    metric = best_run_metrics[metric_name]\n",
        "    print(metric_name, metric)"
      ]
    },
    {
      "cell_type": "code",
      "execution_count": 21,
      "metadata": {
        "gather": {
          "logged": 1644979906595
        },
        "jupyter": {
          "outputs_hidden": false,
          "source_hidden": false
        },
        "nteract": {
          "transient": {
            "deleting": false
          }
        }
      },
      "outputs": [
        {
          "name": "stdout",
          "output_type": "stream",
          "text": [
            "AutoML1eb1c7e3234\n"
          ]
        }
      ],
      "source": [
        "#TODO: Save the best model\n",
        "os.makedirs('models', exist_ok=True)\n",
        "joblib.dump(best_model, filename='./models/model.pkl')\n",
        "model_name = best_run.properties['model_name']\n",
        "print(model_name)\n"
      ]
    },
    {
      "cell_type": "markdown",
      "metadata": {},
      "source": [
        "## Model Deployment\n",
        "\n",
        "Remember you have to deploy only one of the two models you trained but you still need to register both the models. Perform the steps in the rest of this notebook only if you wish to deploy this model.\n",
        "\n",
        "TODO: In the cell below, register the model, create an inference config and deploy the model as a web service."
      ]
    },
    {
      "cell_type": "code",
      "execution_count": 17,
      "metadata": {
        "gather": {
          "logged": 1644979758093
        },
        "jupyter": {
          "outputs_hidden": false,
          "source_hidden": false
        },
        "nteract": {
          "transient": {
            "deleting": false
          }
        }
      },
      "outputs": [
        {
          "data": {
            "text/plain": [
              "Pipeline(memory=None,\n",
              "         steps=[('datatransformer',\n",
              "                 DataTransformer(enable_dnn=False, enable_feature_sweeping=True, feature_sweeping_config={}, feature_sweeping_timeout=86400, featurization_config=None, force_text_dnn=False, is_cross_validation=True, is_onnx_compatible=False, observer=None, task='classification', working_dir='/mnt/batch/tasks/shared/LS_root/mount...\n",
              "), random_state=None, reg_alpha=0.5789473684210527, reg_lambda=0.42105263157894735, subsample=1))], verbose=False)), ('11', Pipeline(memory=None, steps=[('minmaxscaler', MinMaxScaler(copy=True, feature_range=(0, 1))), ('randomforestclassifier', RandomForestClassifier(bootstrap=True, ccp_alpha=0.0, class_weight='balanced', criterion='gini', max_depth=None, max_features='sqrt', max_leaf_nodes=None, max_samples=None, min_impurity_decrease=0.0, min_impurity_split=None, min_samples_leaf=0.01, min_samples_split=0.33789473684210525, min_weight_fraction_leaf=0.0, n_estimators=200, n_jobs=1, oob_score=False, random_state=None, verbose=0, warm_start=False))], verbose=False))], flatten_transform=None, weights=[0.14285714285714285, 0.14285714285714285, 0.14285714285714285, 0.14285714285714285, 0.14285714285714285, 0.14285714285714285, 0.14285714285714285]))],\n",
              "         verbose=False)"
            ]
          },
          "execution_count": 17,
          "metadata": {},
          "output_type": "execute_result"
        }
      ],
      "source": [
        "best_model"
      ]
    },
    {
      "cell_type": "markdown",
      "metadata": {
        "collapsed": true,
        "gather": {
          "logged": 1598431657736
        },
        "jupyter": {
          "outputs_hidden": false,
          "source_hidden": false
        },
        "nteract": {
          "transient": {
            "deleting": false
          }
        }
      },
      "source": [
        "TODO: In the cell below, send a request to the web service you deployed to test it."
      ]
    },
    {
      "cell_type": "code",
      "execution_count": 54,
      "metadata": {
        "gather": {
          "logged": 1644984306956
        },
        "jupyter": {
          "outputs_hidden": false,
          "source_hidden": false
        },
        "nteract": {
          "transient": {
            "deleting": false
          }
        }
      },
      "outputs": [
        {
          "name": "stdout",
          "output_type": "stream",
          "text": [
            "Downloading model automl-model:4 to /tmp/azureml_3_ygeytx/automl-model/4\n",
            "Generating Docker build context.\n",
            "Package creation Succeeded\n",
            "Logging into Docker registry viennaglobal.azurecr.io\n",
            "Logging into Docker registry viennaglobal.azurecr.io\n",
            "Building Docker image from Dockerfile...\n",
            "Step 1/5 : FROM viennaglobal.azurecr.io/azureml/azureml_e587ea2e7eb04895e6a9947f351d1672\n",
            " ---> f4b133118dd9\n",
            "Step 2/5 : COPY azureml-app /var/azureml-app\n",
            " ---> 3a55bee39c75\n",
            "Step 3/5 : RUN mkdir -p '/var/azureml-app' && echo eyJhY2NvdW50Q29udGV4dCI6eyJzdWJzY3JpcHRpb25JZCI6IjVhNGFiMmJhLTZjNTEtNDgwNS04MTU1LTU4NzU5YWQ1ODlkOCIsInJlc291cmNlR3JvdXBOYW1lIjoiYW1sLXF1aWNrc3RhcnRzLTE4NTkxNyIsImFjY291bnROYW1lIjoicXVpY2stc3RhcnRzLXdzLTE4NTkxNyIsIndvcmtzcGFjZUlkIjoiNWI3ODY3NjUtN2NhMC00YzFhLTg0ZjEtZGJjNDM4MTUzOTM5In0sIm1vZGVscyI6e30sIm1vZGVsc0luZm8iOnt9fQ== | base64 --decode > /var/azureml-app/model_config_map.json\n",
            " ---> Running in 2ebaae216f81\n",
            " ---> 97161b9fc41c\n",
            "Step 4/5 : RUN mv '/var/azureml-app/tmpd_f1c047.py' /var/azureml-app/main.py\n",
            " ---> Running in c048bf9c5b4a\n",
            " ---> 19819a057e55\n",
            "Step 5/5 : CMD [\"runsvdir\",\"/var/runit\"]\n",
            " ---> Running in 694aae298810\n",
            " ---> f340bd4ced1e\n",
            "Successfully built f340bd4ced1e\n",
            "Successfully tagged local-wine:latest\n",
            "Container has been successfully cleaned up.\n",
            "Image sha256:ee648d3da9d3a35f192ffb45da59f410d6a6eb3d9e609fba42613f5a51fba35b successfully removed.\n",
            "Starting Docker container...\n",
            "Docker container running.\n",
            "Checking container health...\n",
            "Local webservice is running at http://localhost:6789\n"
          ]
        }
      ],
      "source": [
        "# test with local service instance\n",
        "env = best_run.get_environment()\n",
        "dummy_inference_config = InferenceConfig(\n",
        "    environment=env,\n",
        "    entry_script=\"echo_score.py\",\n",
        ")\n",
        "deployment_config = LocalWebservice.deploy_configuration(port=6789)\n",
        "service = Model.deploy(\n",
        "    ws,\n",
        "    \"local-wine\",\n",
        "    [model],\n",
        "    dummy_inference_config,\n",
        "    deployment_config,\n",
        "    overwrite=True,\n",
        ")\n",
        "service.wait_for_deployment(show_output=True)"
      ]
    },
    {
      "cell_type": "code",
      "execution_count": 55,
      "metadata": {
        "gather": {
          "logged": 1644984307147
        },
        "jupyter": {
          "outputs_hidden": false,
          "source_hidden": false
        },
        "nteract": {
          "transient": {
            "deleting": false
          }
        }
      },
      "outputs": [
        {
          "name": "stdout",
          "output_type": "stream",
          "text": [
            "\"{\\\"classification\\\": \\\"0\\\"}\"\n",
            "{\"classification\": \"0\"}\n"
          ]
        }
      ],
      "source": [
        "import requests\n",
        "import json\n",
        "\n",
        "uri = service.scoring_uri\n",
        "requests.get(\"http://localhost:6789\")\n",
        "headers = {\"Content-Type\": \"application/json\"}\n",
        "data = {\n",
        "    \"fixed acidity\":7.3,\t\n",
        "    \"volatile acidity\": 0.9,\t\n",
        "    \"citric acid\": 0.1,\t\n",
        "    \"residual sugar\": 1.9,\t\n",
        "    \"chlorides\": 0.076,\t\n",
        "    \"free sulfur dioxide\": 11.0, \t\n",
        "    \"total sulfur dioxide\": 34.0,\t\n",
        "    \"density\": 0.9978,\t\n",
        "    \"pH\": 3.49,\t\n",
        "    \"sulphates\": 0.50,\t\n",
        "    \"alcohol\": 9.4\n",
        "}\n",
        "data = json.dumps(data)\n",
        "response = requests.post(uri, data=data, headers=headers)\n",
        "print(response.text)\n",
        "print(response.json())\n"
      ]
    },
    {
      "cell_type": "code",
      "execution_count": 62,
      "metadata": {
        "gather": {
          "logged": 1644985499137
        },
        "jupyter": {
          "outputs_hidden": false,
          "source_hidden": false
        },
        "nteract": {
          "transient": {
            "deleting": false
          }
        }
      },
      "outputs": [
        {
          "name": "stdout",
          "output_type": "stream",
          "text": [
            "automl-model automl-model:6 6\n",
            "Environment(Name: AzureML-AutoML,\n",
            "Version: 98)\n",
            "Tips: You can try get_logs(): https://aka.ms/debugimage#dockerlog or local deployment: https://aka.ms/debugimage#debug-locally to debug if deployment takes longer than 10 minutes.\n",
            "Running\n",
            "2022-02-16 04:20:36+00:00 Creating Container Registry if not exists.\n",
            "2022-02-16 04:20:36+00:00 Registering the environment.\n",
            "2022-02-16 04:20:36+00:00 Use the existing image.\n",
            "2022-02-16 04:20:37+00:00 Submitting deployment to compute.\n",
            "2022-02-16 04:20:41+00:00 Checking the status of deployment wine-service..\n",
            "2022-02-16 04:24:54+00:00 Checking the status of inference endpoint wine-service.\n",
            "Succeeded\n",
            "ACI service creation operation finished, operation \"Succeeded\"\n"
          ]
        }
      ],
      "source": [
        "# register model\n",
        "best_child = remote_run.get_best_child()\n",
        "model = best_child.register_model(model_name='automl-model',model_path='outputs/model.pkl')\n",
        "print(model.name, model.id, model.version, sep=' ') \n",
        "\n",
        "# deploy full instance\n",
        "service_name = \"wine-service\"\n",
        "env = best_run.get_environment()\n",
        "print(env)\n",
        "\n",
        "inference_config = InferenceConfig(\n",
        "    environment=env,\n",
        "    entry_script=\"echo_score.py\",\n",
        ")\n",
        "\n",
        "aci_config = AciWebservice.deploy_configuration(\n",
        "    cpu_cores = 0.5, \n",
        "    memory_gb=1, \n",
        "    auth_enabled=True\n",
        ")\n",
        "web_service = Model.deploy(\n",
        "    workspace=ws, \n",
        "    name=service_name,\n",
        "    models=[model], \n",
        "    inference_config=inference_config, \n",
        "    deployment_config=aci_config, \n",
        "    overwrite=True\n",
        ")\n",
        "web_service.wait_for_deployment(show_output=True)"
      ]
    },
    {
      "cell_type": "code",
      "execution_count": 64,
      "metadata": {
        "gather": {
          "logged": 1644985669273
        },
        "jupyter": {
          "outputs_hidden": false,
          "source_hidden": false
        },
        "nteract": {
          "transient": {
            "deleting": false
          }
        }
      },
      "outputs": [
        {
          "name": "stdout",
          "output_type": "stream",
          "text": [
            "{\"classification\": 0}\n"
          ]
        }
      ],
      "source": [
        "uri = web_service.scoring_uri\n",
        "api_key = 'EvWeVi2rnmYBE7S0XZlEwF6HadSX6zMA'\n",
        "headers = {\"Content-Type\": \"application/json\",  'Authorization':('Bearer '+ api_key)}\n",
        "data = {\n",
        "    \"fixed acidity\":7.3,\t\n",
        "    \"volatile acidity\": 0.9,\t\n",
        "    \"citric acid\": 0.1,\t\n",
        "    \"residual sugar\": 1.9,\t\n",
        "    \"chlorides\": 0.076,\t\n",
        "    \"free sulfur dioxide\": 11.0, \t\n",
        "    \"total sulfur dioxide\": 34.0,\t\n",
        "    \"density\": 0.9978,\t\n",
        "    \"pH\": 3.49,\t\n",
        "    \"sulphates\": 0.50,\t\n",
        "    \"alcohol\": 9.4\n",
        "}\n",
        "data = json.dumps(data)\n",
        "response = requests.post(uri, data=data, headers=headers)\n",
        "print(response.json())\n"
      ]
    },
    {
      "cell_type": "markdown",
      "metadata": {
        "collapsed": true,
        "gather": {
          "logged": 1598432765711
        },
        "jupyter": {
          "outputs_hidden": false,
          "source_hidden": false
        },
        "nteract": {
          "transient": {
            "deleting": false
          }
        }
      },
      "source": [
        "TODO: In the cell below, print the logs of the web service and delete the service"
      ]
    },
    {
      "cell_type": "code",
      "execution_count": null,
      "metadata": {
        "jupyter": {
          "outputs_hidden": false,
          "source_hidden": false
        },
        "nteract": {
          "transient": {
            "deleting": false
          }
        }
      },
      "outputs": [],
      "source": [
        "print(web_service.get_logs())\n",
        "web_service.delete()\n",
        "model.delete()"
      ]
    },
    {
      "cell_type": "markdown",
      "metadata": {},
      "source": [
        "**Submission Checklist**\n",
        "- I have registered the model.\n",
        "- I have deployed the model with the best accuracy as a webservice.\n",
        "- I have tested the webservice by sending a request to the model endpoint.\n",
        "- I have deleted the webservice and shutdown all the computes that I have used.\n",
        "- I have taken a screenshot showing the model endpoint as active.\n",
        "- The project includes a file containing the environment details.\n"
      ]
    },
    {
      "cell_type": "markdown",
      "metadata": {},
      "source": []
    }
  ],
  "metadata": {
    "kernel_info": {
      "name": "python3"
    },
    "kernelspec": {
      "display_name": "Python 3",
      "language": "python",
      "name": "python3"
    },
    "language_info": {
      "codemirror_mode": {
        "name": "ipython",
        "version": 3
      },
      "file_extension": ".py",
      "mimetype": "text/x-python",
      "name": "python",
      "nbconvert_exporter": "python",
      "pygments_lexer": "ipython3",
      "version": "3.6.9"
    },
    "microsoft": {
      "host": {
        "AzureML": {
          "notebookHasBeenCompleted": true
        }
      }
    },
    "nteract": {
      "version": "nteract-front-end@1.0.0"
    }
  },
  "nbformat": 4,
  "nbformat_minor": 2
}
